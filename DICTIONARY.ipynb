{
 "cells": [
  {
   "cell_type": "markdown",
   "id": "360215e4-f0c6-4173-90ab-abbcff9229a6",
   "metadata": {},
   "source": [
    "# DICTIONARY"
   ]
  },
  {
   "cell_type": "markdown",
   "id": "c0b12f90-5852-45e9-aa5d-5801be56f5e8",
   "metadata": {},
   "source": [
    "DICTIONARY IS A MUTABLE DATA TYPE \n",
    "A PYTHON DICTIONARY IS A COLLECTION OF KEY VALUE AND PAIRS WHICH ARE SEPERATED BY A COLON(:)\n",
    "KEYS MUST BE UNIQUE IN A DICTIONARY \n",
    "DUPLICATE VALUES ARE NOT ALLOWED IN A DICTIONARY \n"
   ]
  },
  {
   "cell_type": "code",
   "execution_count": 5,
   "id": "cef79824-4a29-4834-8da7-14ef987b2b4d",
   "metadata": {},
   "outputs": [],
   "source": [
    "md = dict()"
   ]
  },
  {
   "cell_type": "code",
   "execution_count": 11,
   "id": "5c056b66-f559-4cf2-99c1-20502c0fe9c1",
   "metadata": {},
   "outputs": [
    {
     "data": {
      "text/plain": [
       "dict"
      ]
     },
     "execution_count": 11,
     "metadata": {},
     "output_type": "execute_result"
    }
   ],
   "source": [
    "md"
   ]
  },
  {
   "cell_type": "code",
   "execution_count": 13,
   "id": "f9f68b55-521c-4a98-8974-3cab9023878a",
   "metadata": {},
   "outputs": [],
   "source": [
    "md = {}"
   ]
  },
  {
   "cell_type": "code",
   "execution_count": 17,
   "id": "c41827e2-c764-4187-94b7-e3d376939fa9",
   "metadata": {},
   "outputs": [
    {
     "data": {
      "text/plain": [
       "{}"
      ]
     },
     "execution_count": 17,
     "metadata": {},
     "output_type": "execute_result"
    }
   ],
   "source": [
    "md"
   ]
  },
  {
   "cell_type": "code",
   "execution_count": 19,
   "id": "f4d1f74a-aca6-4b25-a81a-e6bdbdd59c24",
   "metadata": {},
   "outputs": [
    {
     "data": {
      "text/plain": [
       "{8: 'eight', 9: 'nine', 10: 'ten'}"
      ]
     },
     "execution_count": 19,
     "metadata": {},
     "output_type": "execute_result"
    }
   ],
   "source": [
    "md = {8:'eight',9:'nine',10:'ten'}\n",
    "md"
   ]
  },
  {
   "cell_type": "code",
   "execution_count": 23,
   "id": "6b4f110a-b0f0-4250-a86d-f230f819424f",
   "metadata": {},
   "outputs": [
    {
     "data": {
      "text/plain": [
       "{8: 'eight', 9: 'nine', 10: 'ten'}"
      ]
     },
     "execution_count": 23,
     "metadata": {},
     "output_type": "execute_result"
    }
   ],
   "source": [
    "md = dict({8:'eight',9:'nine',10:'ten'})\n",
    "md"
   ]
  },
  {
   "cell_type": "code",
   "execution_count": 27,
   "id": "cd7941e4-e573-49de-ac73-a729bfb01dcf",
   "metadata": {},
   "outputs": [
    {
     "data": {
      "text/plain": [
       "{'A': 'one', 'B': 'two', 'C': 'three'}"
      ]
     },
     "execution_count": 27,
     "metadata": {},
     "output_type": "execute_result"
    }
   ],
   "source": [
    "md = {'A':'one','B':'two','C':'three'}\n",
    "md"
   ]
  },
  {
   "cell_type": "code",
   "execution_count": 33,
   "id": "50db3496-2c38-4318-a11b-282ba7657406",
   "metadata": {},
   "outputs": [
    {
     "data": {
      "text/plain": [
       "{'A': '1', 'B': '2', 'C': '3', 'D': '4', 'E': '5'}"
      ]
     },
     "execution_count": 33,
     "metadata": {},
     "output_type": "execute_result"
    }
   ],
   "source": [
    "md = {'A':'1','B':'2','C':'3','D':'4','E':'5'}\n",
    "md"
   ]
  },
  {
   "cell_type": "code",
   "execution_count": 35,
   "id": "c3f48a8c-2d39-4dee-900b-06b8cae0545e",
   "metadata": {},
   "outputs": [
    {
     "data": {
      "text/plain": [
       "<function dict.keys>"
      ]
     },
     "execution_count": 35,
     "metadata": {},
     "output_type": "execute_result"
    }
   ],
   "source": [
    "md.keys"
   ]
  },
  {
   "cell_type": "code",
   "execution_count": 37,
   "id": "79df9e7d-f729-4692-835d-1e6343e2201c",
   "metadata": {},
   "outputs": [
    {
     "data": {
      "text/plain": [
       "dict_keys(['A', 'B', 'C', 'D', 'E'])"
      ]
     },
     "execution_count": 37,
     "metadata": {},
     "output_type": "execute_result"
    }
   ],
   "source": [
    "md.keys()"
   ]
  },
  {
   "cell_type": "code",
   "execution_count": 41,
   "id": "4b64f186-1084-4f01-84f3-7e7f0c044a20",
   "metadata": {},
   "outputs": [
    {
     "data": {
      "text/plain": [
       "dict_items([('A', '1'), ('B', '2'), ('C', '3'), ('D', '4'), ('E', '5')])"
      ]
     },
     "execution_count": 41,
     "metadata": {},
     "output_type": "execute_result"
    }
   ],
   "source": [
    "md.items()"
   ]
  },
  {
   "cell_type": "code",
   "execution_count": 49,
   "id": "6c8d3ded-c152-48fc-a907-7577635bad6a",
   "metadata": {},
   "outputs": [],
   "source": [
    "md2 = {1:'one', 2: 'two', 'A' : {'name': 'RaNI','Age':20},'B':('bat','cat')}"
   ]
  },
  {
   "cell_type": "code",
   "execution_count": 51,
   "id": "f3f9dc77-da04-4caa-989e-ff75a7adcd81",
   "metadata": {},
   "outputs": [
    {
     "data": {
      "text/plain": [
       "{1: 'one', 2: 'two', 'A': {'name': 'RaNI', 'Age': 20}, 'B': ('bat', 'cat')}"
      ]
     },
     "execution_count": 51,
     "metadata": {},
     "output_type": "execute_result"
    }
   ],
   "source": [
    "md2"
   ]
  },
  {
   "cell_type": "code",
   "execution_count": 1,
   "id": "1a0a50f9-4461-4280-9f06-c70d1c6f63a6",
   "metadata": {},
   "outputs": [],
   "source": [
    "mydict1 = {'Name':'ganesh','age':30,'dob':1994}"
   ]
  },
  {
   "cell_type": "code",
   "execution_count": 3,
   "id": "84804922-9733-4719-9d24-8ab8d7492370",
   "metadata": {},
   "outputs": [
    {
     "data": {
      "text/plain": [
       "{'Name': 'ganesh', 'age': 30, 'dob': 1994}"
      ]
     },
     "execution_count": 3,
     "metadata": {},
     "output_type": "execute_result"
    }
   ],
   "source": [
    "mydict1"
   ]
  },
  {
   "cell_type": "code",
   "execution_count": 5,
   "id": "6a546f85-1230-4839-b0da-75e1b588e22d",
   "metadata": {},
   "outputs": [
    {
     "data": {
      "text/plain": [
       "1994"
      ]
     },
     "execution_count": 5,
     "metadata": {},
     "output_type": "execute_result"
    }
   ],
   "source": [
    "mydict1['dob']"
   ]
  },
  {
   "cell_type": "code",
   "execution_count": 7,
   "id": "70fbb7e0-11a6-40bc-9e2b-040205583696",
   "metadata": {},
   "outputs": [
    {
     "data": {
      "text/plain": [
       "1994"
      ]
     },
     "execution_count": 7,
     "metadata": {},
     "output_type": "execute_result"
    }
   ],
   "source": [
    "mydict1.get('dob')"
   ]
  },
  {
   "cell_type": "code",
   "execution_count": 9,
   "id": "ba129170-0c38-45f4-992a-a4a33ced6e21",
   "metadata": {},
   "outputs": [
    {
     "data": {
      "text/plain": [
       "{'Name': 'Sunny Leone', 'age': 30, 'dob': 1994}"
      ]
     },
     "execution_count": 9,
     "metadata": {},
     "output_type": "execute_result"
    }
   ],
   "source": [
    "mydict1['Name']='Sunny Leone'\n",
    "mydict1['dob']= 1994\n",
    "mydict1"
   ]
  },
  {
   "cell_type": "code",
   "execution_count": 11,
   "id": "36f59fc8-9c4f-4ae5-8b8e-7cb55ab3ab48",
   "metadata": {},
   "outputs": [
    {
     "data": {
      "text/plain": [
       "{'Name': 'Sunny Leone', 'age': 42, 'dob': 1994}"
      ]
     },
     "execution_count": 11,
     "metadata": {},
     "output_type": "execute_result"
    }
   ],
   "source": [
    "O={'age':42}\n",
    "mydict1.update(O)\n",
    "mydict1"
   ]
  },
  {
   "cell_type": "code",
   "execution_count": 13,
   "id": "4e2a90c6-a128-4f83-8dd3-26768975c0b3",
   "metadata": {},
   "outputs": [
    {
     "data": {
      "text/plain": [
       "{'Name': 'Sunny Leone', 'age': 42, 'dob': 1994}"
      ]
     },
     "execution_count": 13,
     "metadata": {},
     "output_type": "execute_result"
    }
   ],
   "source": [
    "mydict1"
   ]
  },
  {
   "cell_type": "code",
   "execution_count": 17,
   "id": "95b2b339-892d-436a-b44a-a5a24dc4fc6a",
   "metadata": {},
   "outputs": [
    {
     "data": {
      "text/plain": [
       "{'Name': 'Sunny Leone', 'age': 42, 'dob': 1994, 'place': 'canada'}"
      ]
     },
     "execution_count": 17,
     "metadata": {},
     "output_type": "execute_result"
    }
   ],
   "source": [
    "mydict1['place']='canada'\n",
    "mydict1"
   ]
  },
  {
   "cell_type": "code",
   "execution_count": 19,
   "id": "53f43fec-e861-4769-b5c5-01bb757baf3d",
   "metadata": {},
   "outputs": [
    {
     "data": {
      "text/plain": [
       "{'Name': 'Sunny Leone', 'age': 42, 'dob': 1994}"
      ]
     },
     "execution_count": 19,
     "metadata": {},
     "output_type": "execute_result"
    }
   ],
   "source": [
    "mydict1.pop('place')\n",
    "mydict1"
   ]
  },
  {
   "cell_type": "code",
   "execution_count": 21,
   "id": "89c530e3-bdfd-4314-a904-23d99e72cc1e",
   "metadata": {},
   "outputs": [
    {
     "data": {
      "text/plain": [
       "{'Name': 'Sunny Leone', 'age': 42}"
      ]
     },
     "execution_count": 21,
     "metadata": {},
     "output_type": "execute_result"
    }
   ],
   "source": [
    "mydict1.popitem()\n",
    "mydict1"
   ]
  },
  {
   "cell_type": "code",
   "execution_count": 23,
   "id": "c313c569-16b8-4f49-b65a-f0003b517a6a",
   "metadata": {},
   "outputs": [
    {
     "data": {
      "text/plain": [
       "{'Name': 'Sunny Leone', 'age': 42}"
      ]
     },
     "execution_count": 23,
     "metadata": {},
     "output_type": "execute_result"
    }
   ],
   "source": [
    "mydict1"
   ]
  },
  {
   "cell_type": "code",
   "execution_count": 25,
   "id": "7254e3cd-4b83-415d-b9ba-6e71553593e6",
   "metadata": {},
   "outputs": [
    {
     "data": {
      "text/plain": [
       "{}"
      ]
     },
     "execution_count": 25,
     "metadata": {},
     "output_type": "execute_result"
    }
   ],
   "source": [
    "mydict1.clear() \n",
    "mydict1"
   ]
  },
  {
   "cell_type": "code",
   "execution_count": 27,
   "id": "a81d1729-7b45-435c-b9d0-09e63a18b06d",
   "metadata": {},
   "outputs": [
    {
     "ename": "NameError",
     "evalue": "name 'mydict1' is not defined",
     "output_type": "error",
     "traceback": [
      "\u001b[1;31m---------------------------------------------------------------------------\u001b[0m",
      "\u001b[1;31mNameError\u001b[0m                                 Traceback (most recent call last)",
      "Cell \u001b[1;32mIn[27], line 2\u001b[0m\n\u001b[0;32m      1\u001b[0m \u001b[38;5;28;01mdel\u001b[39;00m mydict1 \n\u001b[1;32m----> 2\u001b[0m mydict1\n",
      "\u001b[1;31mNameError\u001b[0m: name 'mydict1' is not defined"
     ]
    }
   ],
   "source": [
    "del mydict1 \n",
    "mydict1 "
   ]
  },
  {
   "cell_type": "code",
   "execution_count": 29,
   "id": "eb47d522-6da3-46dd-a4fb-7fb506977197",
   "metadata": {},
   "outputs": [],
   "source": [
    "mydict1 = {'Name':'ganesh','age':30,'dob':1994}"
   ]
  },
  {
   "cell_type": "code",
   "execution_count": 31,
   "id": "cde236c1-ac88-4849-ab0a-8f72fcf1a225",
   "metadata": {},
   "outputs": [],
   "source": [
    "mydict2 = mydict1"
   ]
  },
  {
   "cell_type": "code",
   "execution_count": 33,
   "id": "f5a9fb01-c3ad-4db9-98a8-4dcad2c10a6f",
   "metadata": {},
   "outputs": [
    {
     "data": {
      "text/plain": [
       "(2310867151680, 2310867151680)"
      ]
     },
     "execution_count": 33,
     "metadata": {},
     "output_type": "execute_result"
    }
   ],
   "source": [
    "id(mydict2),id(mydict1)"
   ]
  },
  {
   "cell_type": "code",
   "execution_count": 41,
   "id": "854a21eb-dbf4-4372-a9a3-fcfe75b67c6e",
   "metadata": {},
   "outputs": [],
   "source": [
    "n=mydict2.copy()"
   ]
  },
  {
   "cell_type": "code",
   "execution_count": 43,
   "id": "b0b558ac-1b96-4f12-81a8-409da317c78c",
   "metadata": {},
   "outputs": [
    {
     "data": {
      "text/plain": [
       "{'Name': 'ganesh', 'age': 30, 'dob': 1994}"
      ]
     },
     "execution_count": 43,
     "metadata": {},
     "output_type": "execute_result"
    }
   ],
   "source": [
    "n"
   ]
  },
  {
   "cell_type": "code",
   "execution_count": 45,
   "id": "07d31fc6-b5a7-4651-889f-3f19437e0572",
   "metadata": {},
   "outputs": [
    {
     "data": {
      "text/plain": [
       "2310867500416"
      ]
     },
     "execution_count": 45,
     "metadata": {},
     "output_type": "execute_result"
    }
   ],
   "source": [
    "id(n)"
   ]
  },
  {
   "cell_type": "code",
   "execution_count": 47,
   "id": "d65db14b-27ee-486a-bb08-b99ca86619a9",
   "metadata": {},
   "outputs": [
    {
     "data": {
      "text/plain": [
       "{'x': 'tshirt', 'l': ['kurthi', 'jeans', 'shirt'], 'xs': 'croptop'}"
      ]
     },
     "execution_count": 47,
     "metadata": {},
     "output_type": "execute_result"
    }
   ],
   "source": [
    "Q={'x':'tshirt','l':['kurthi','jeans','shirt'],'xs':'croptop'}\n",
    "Q"
   ]
  },
  {
   "cell_type": "code",
   "execution_count": 49,
   "id": "e58112b8-a1a7-44ff-b897-fc7c5c08cbdf",
   "metadata": {},
   "outputs": [
    {
     "name": "stdout",
     "output_type": "stream",
     "text": [
      "x : tshirt\n",
      "l : ['kurthi', 'jeans', 'shirt']\n",
      "xs : croptop\n"
     ]
    }
   ],
   "source": [
    "for i in Q:\n",
    " print(i ,':', Q[i])"
   ]
  },
  {
   "cell_type": "code",
   "execution_count": 51,
   "id": "25de0475-4834-498b-bbf5-8f466a24bfd0",
   "metadata": {},
   "outputs": [
    {
     "ename": "TypeError",
     "evalue": "'type' object is not iterable",
     "output_type": "error",
     "traceback": [
      "\u001b[1;31m---------------------------------------------------------------------------\u001b[0m",
      "\u001b[1;31mTypeError\u001b[0m                                 Traceback (most recent call last)",
      "Cell \u001b[1;32mIn[51], line 1\u001b[0m\n\u001b[1;32m----> 1\u001b[0m \u001b[38;5;28;01mfor\u001b[39;00m i \u001b[38;5;129;01min\u001b[39;00m \u001b[38;5;28menumerate\u001b[39m:\n\u001b[0;32m      2\u001b[0m     \u001b[38;5;28mprint\u001b[39m(i)\n",
      "\u001b[1;31mTypeError\u001b[0m: 'type' object is not iterable"
     ]
    }
   ],
   "source": [
    "for i in enumerate:\n",
    "    print(i)"
   ]
  },
  {
   "cell_type": "code",
   "execution_count": 53,
   "id": "bc92a094-a263-4bf8-b9e5-8e08c1a110a9",
   "metadata": {},
   "outputs": [
    {
     "data": {
      "text/plain": [
       "True"
      ]
     },
     "execution_count": 53,
     "metadata": {},
     "output_type": "execute_result"
    }
   ],
   "source": [
    "'x' in Q"
   ]
  },
  {
   "cell_type": "code",
   "execution_count": 55,
   "id": "8f9f2c80-619b-4376-bace-94f73a090c5f",
   "metadata": {},
   "outputs": [
    {
     "data": {
      "text/plain": [
       "True"
      ]
     },
     "execution_count": 55,
     "metadata": {},
     "output_type": "execute_result"
    }
   ],
   "source": [
    "'l' in Q"
   ]
  },
  {
   "cell_type": "code",
   "execution_count": 59,
   "id": "41e0d483-40d8-49de-8a10-583908c2be5e",
   "metadata": {},
   "outputs": [
    {
     "data": {
      "text/plain": [
       "True"
      ]
     },
     "execution_count": 59,
     "metadata": {},
     "output_type": "execute_result"
    }
   ],
   "source": [
    "all(Q)"
   ]
  },
  {
   "cell_type": "code",
   "execution_count": 61,
   "id": "aea15c04-e2ae-4121-8acc-65e7c48f883d",
   "metadata": {},
   "outputs": [
    {
     "data": {
      "text/plain": [
       "True"
      ]
     },
     "execution_count": 61,
     "metadata": {},
     "output_type": "execute_result"
    }
   ],
   "source": [
    "any(Q)"
   ]
  },
  {
   "cell_type": "code",
   "execution_count": null,
   "id": "edbd56d0-7a6a-4a74-a794-3ca63bf0a530",
   "metadata": {},
   "outputs": [],
   "source": []
  }
 ],
 "metadata": {
  "kernelspec": {
   "display_name": "Python 3 (ipykernel)",
   "language": "python",
   "name": "python3"
  },
  "language_info": {
   "codemirror_mode": {
    "name": "ipython",
    "version": 3
   },
   "file_extension": ".py",
   "mimetype": "text/x-python",
   "name": "python",
   "nbconvert_exporter": "python",
   "pygments_lexer": "ipython3",
   "version": "3.12.7"
  }
 },
 "nbformat": 4,
 "nbformat_minor": 5
}
