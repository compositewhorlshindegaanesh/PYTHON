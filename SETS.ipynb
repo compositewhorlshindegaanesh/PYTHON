{
 "cells": [
  {
   "cell_type": "markdown",
   "id": "c65fde63-0c2b-4387-992b-9c7919c5396e",
   "metadata": {},
   "source": [
    "# SETS ASSIGNMENTS"
   ]
  },
  {
   "cell_type": "markdown",
   "id": "9d82c302-820d-456f-b553-4a803cd3a834",
   "metadata": {},
   "source": [
    "# SET FEATURES"
   ]
  },
  {
   "cell_type": "markdown",
   "id": "fe70bf74-f6ff-4522-ae63-fc698dcb8ddc",
   "metadata": {},
   "source": [
    "1 Unordered and Unindexed collection of items."
   ]
  },
  {
   "cell_type": "markdown",
   "id": "66369a89-77a6-41c0-b2e1-382a179ca6a5",
   "metadata": {},
   "source": [
    "2. Set elements are unique and duplicate elements are not allowed "
   ]
  },
  {
   "cell_type": "markdown",
   "id": "0172d1b6-d8c3-4d57-862a-0f7201e0bfc0",
   "metadata": {},
   "source": [
    "3. Set elements are immutable.4.Set itself is mutable.We can add or remove items from it."
   ]
  },
  {
   "cell_type": "markdown",
   "id": "eda39289-9cd5-4c66-bda8-15018b4e7f93",
   "metadata": {},
   "source": [
    "# SET CREATION"
   ]
  },
  {
   "cell_type": "code",
   "execution_count": 8,
   "id": "60c0fbe9-1e1b-4005-8821-47caab478967",
   "metadata": {},
   "outputs": [
    {
     "data": {
      "text/plain": [
       "{1, 2, 3, 4, 5}"
      ]
     },
     "execution_count": 8,
     "metadata": {},
     "output_type": "execute_result"
    }
   ],
   "source": [
    "mset = {1,2,3,4,5}\n",
    "mset"
   ]
  },
  {
   "cell_type": "code",
   "execution_count": 14,
   "id": "e9c703c1-b9b5-4202-8440-034b5eac8a08",
   "metadata": {},
   "outputs": [
    {
     "data": {
      "text/plain": [
       "5"
      ]
     },
     "execution_count": 14,
     "metadata": {},
     "output_type": "execute_result"
    }
   ],
   "source": [
    "len(mset)"
   ]
  },
  {
   "cell_type": "code",
   "execution_count": 16,
   "id": "1c5e3e58-bd04-42e3-b819-ac33f553c9e2",
   "metadata": {},
   "outputs": [
    {
     "data": {
      "text/plain": [
       "{1, 2, 3, 4, 5, 6}"
      ]
     },
     "execution_count": 16,
     "metadata": {},
     "output_type": "execute_result"
    }
   ],
   "source": [
    "m_set = {1,1,1,1,1,1,2,2,2,2,2,2,3,3,3,3,3,4,4,4,4,4,4,5,5,5,5,5,5,6,6,6,6,}\n",
    "m_set"
   ]
  },
  {
   "cell_type": "code",
   "execution_count": 18,
   "id": "684e5f5f-91e7-4e86-adf8-66b4e4806ad0",
   "metadata": {},
   "outputs": [
    {
     "data": {
      "text/plain": [
       "{2.3, 3.09, 4.5, 45.9, 52.3}"
      ]
     },
     "execution_count": 18,
     "metadata": {},
     "output_type": "execute_result"
    }
   ],
   "source": [
    "m_set1 = {2.3,52.3,45.9,4.5,3.09}\n",
    "m_set1"
   ]
  },
  {
   "cell_type": "code",
   "execution_count": 20,
   "id": "f34449d4-dcb8-4e68-9751-4c1030eb30a7",
   "metadata": {},
   "outputs": [
    {
     "data": {
      "text/plain": [
       "{'Mon', 'Planet', 'Sun'}"
      ]
     },
     "execution_count": 20,
     "metadata": {},
     "output_type": "execute_result"
    }
   ],
   "source": [
    "m_set2 = {'Sun','Mon','Planet'}\n",
    "m_set2"
   ]
  },
  {
   "cell_type": "code",
   "execution_count": 22,
   "id": "089ea4d2-a82e-4cc1-8089-79eee8015157",
   "metadata": {},
   "outputs": [
    {
     "data": {
      "text/plain": [
       "{(33, 53, 67), 34, 9, 'sun'}"
      ]
     },
     "execution_count": 22,
     "metadata": {},
     "output_type": "execute_result"
    }
   ],
   "source": [
    "m_set3 = {9,34,\"sun\",(33,53,67)}\n",
    "m_set3"
   ]
  },
  {
   "cell_type": "code",
   "execution_count": 24,
   "id": "ba035e90-996d-4bc0-8328-e342a9e0d1ff",
   "metadata": {},
   "outputs": [
    {
     "ename": "TypeError",
     "evalue": "unhashable type: 'list'",
     "output_type": "error",
     "traceback": [
      "\u001b[1;31m---------------------------------------------------------------------------\u001b[0m",
      "\u001b[1;31mTypeError\u001b[0m                                 Traceback (most recent call last)",
      "Cell \u001b[1;32mIn[24], line 1\u001b[0m\n\u001b[1;32m----> 1\u001b[0m m_set4 \u001b[38;5;241m=\u001b[39m {\u001b[38;5;241m4\u001b[39m,\u001b[38;5;124m\"\u001b[39m\u001b[38;5;124mMoon\u001b[39m\u001b[38;5;124m\"\u001b[39m,\u001b[38;5;241m54.33\u001b[39m,[\u001b[38;5;241m1\u001b[39m,\u001b[38;5;241m5\u001b[39m,\u001b[38;5;241m6\u001b[39m]}\n\u001b[0;32m      2\u001b[0m m_set4\n",
      "\u001b[1;31mTypeError\u001b[0m: unhashable type: 'list'"
     ]
    }
   ],
   "source": [
    "m_set4 = {4,\"Moon\",54.33,[1,5,6]}\n",
    "m_set4"
   ]
  },
  {
   "cell_type": "code",
   "execution_count": 26,
   "id": "f861ba56-9de5-4422-945b-c36ed054ea96",
   "metadata": {},
   "outputs": [
    {
     "name": "stdout",
     "output_type": "stream",
     "text": [
      "<class 'set'>\n"
     ]
    }
   ],
   "source": [
    "m_set5 = set()\n",
    "print(type(m_set5))"
   ]
  },
  {
   "cell_type": "code",
   "execution_count": 30,
   "id": "6f2dbe5c-52d8-414e-a261-6f7cfe36ea1b",
   "metadata": {},
   "outputs": [
    {
     "data": {
      "text/plain": [
       "{'abc', 'def', 'ghi', 'jkl'}"
      ]
     },
     "execution_count": 30,
     "metadata": {},
     "output_type": "execute_result"
    }
   ],
   "source": [
    "my_set1 = set(('abc','def','ghi','jkl'))\n",
    "my_set1"
   ]
  },
  {
   "cell_type": "markdown",
   "id": "5de05af3-3078-42f6-8059-6936ca91fc4f",
   "metadata": {},
   "source": [
    "# LOOPING THROUGH A SET"
   ]
  },
  {
   "cell_type": "code",
   "execution_count": 36,
   "id": "d00aa69f-a633-4e4b-88d1-17ccf49cb687",
   "metadata": {},
   "outputs": [
    {
     "name": "stdout",
     "output_type": "stream",
     "text": [
      "five\n",
      "two\n",
      "three\n",
      "four\n",
      "one\n",
      "seven\n",
      "six\n"
     ]
    }
   ],
   "source": [
    "myset = {'one','two','three','four','five','six','seven'}\n",
    "for i in myset:\n",
    "    print(i)"
   ]
  },
  {
   "cell_type": "code",
   "execution_count": 38,
   "id": "466579e4-9e74-4c11-a2c8-a4b3f5a91e2d",
   "metadata": {},
   "outputs": [
    {
     "name": "stdout",
     "output_type": "stream",
     "text": [
      "(0, 'five')\n",
      "(1, 'two')\n",
      "(2, 'three')\n",
      "(3, 'four')\n",
      "(4, 'one')\n",
      "(5, 'seven')\n",
      "(6, 'six')\n"
     ]
    }
   ],
   "source": [
    "for i in enumerate(myset):\n",
    "    print(i)"
   ]
  },
  {
   "cell_type": "markdown",
   "id": "26707cf4-b8a3-4003-b2d4-a41623395092",
   "metadata": {},
   "source": [
    "# SET MEMBERSHIP"
   ]
  },
  {
   "cell_type": "code",
   "execution_count": 41,
   "id": "bdcdbb1f-d43b-45d4-9378-648c0b4f72b8",
   "metadata": {},
   "outputs": [
    {
     "data": {
      "text/plain": [
       "{'five', 'four', 'one', 'seven', 'six', 'three', 'two'}"
      ]
     },
     "execution_count": 41,
     "metadata": {},
     "output_type": "execute_result"
    }
   ],
   "source": [
    "myset"
   ]
  },
  {
   "cell_type": "code",
   "execution_count": 43,
   "id": "e05ec557-e6a3-4004-b56a-1568ae6bdd9d",
   "metadata": {},
   "outputs": [
    {
     "data": {
      "text/plain": [
       "True"
      ]
     },
     "execution_count": 43,
     "metadata": {},
     "output_type": "execute_result"
    }
   ],
   "source": [
    "'four' in myset"
   ]
  },
  {
   "cell_type": "code",
   "execution_count": 45,
   "id": "e1ac3179-c1b6-41fe-b5bc-78b084bd8d19",
   "metadata": {},
   "outputs": [
    {
     "data": {
      "text/plain": [
       "False"
      ]
     },
     "execution_count": 45,
     "metadata": {},
     "output_type": "execute_result"
    }
   ],
   "source": [
    "\"Nine\" in myset"
   ]
  },
  {
   "cell_type": "code",
   "execution_count": 47,
   "id": "aff5280b-2299-4de6-8d83-75fda8efa02a",
   "metadata": {},
   "outputs": [
    {
     "name": "stdout",
     "output_type": "stream",
     "text": [
      "Zero is not present in the set\n"
     ]
    }
   ],
   "source": [
    "if 'zero' in myset:\n",
    "    print(\"Zero is present in the set\")\n",
    "else:\n",
    "    print(\"Zero is not present in the set\")"
   ]
  },
  {
   "cell_type": "code",
   "execution_count": 49,
   "id": "3db5ead2-0d58-480d-bb15-0259c5b9be4c",
   "metadata": {},
   "outputs": [
    {
     "name": "stdout",
     "output_type": "stream",
     "text": [
      "seven is present in the set\n"
     ]
    }
   ],
   "source": [
    "if 'seven' in myset:\n",
    "    print(\"seven is present in the set\")\n",
    "else:\n",
    "    print(\"seven is not present in the set\")"
   ]
  },
  {
   "cell_type": "markdown",
   "id": "ca782e72-0a51-4a31-b59a-bb350ca0f368",
   "metadata": {},
   "source": [
    "# ADD AND REMOVE ITEMS"
   ]
  },
  {
   "cell_type": "code",
   "execution_count": 52,
   "id": "e4976558-1feb-47d5-8a2d-d22b3bd12d63",
   "metadata": {},
   "outputs": [
    {
     "data": {
      "text/plain": [
       "{'five', 'four', 'one', 'seven', 'six', 'three', 'two'}"
      ]
     },
     "execution_count": 52,
     "metadata": {},
     "output_type": "execute_result"
    }
   ],
   "source": [
    "myset"
   ]
  },
  {
   "cell_type": "code",
   "execution_count": 54,
   "id": "9d6c84f5-54d6-4e1c-960e-b14938b90a3a",
   "metadata": {},
   "outputs": [
    {
     "data": {
      "text/plain": [
       "{'five', 'four', 'nine', 'one', 'seven', 'six', 'three', 'two'}"
      ]
     },
     "execution_count": 54,
     "metadata": {},
     "output_type": "execute_result"
    }
   ],
   "source": [
    "myset.add('nine')\n",
    "myset"
   ]
  },
  {
   "cell_type": "code",
   "execution_count": 58,
   "id": "e0b004ff-cb3a-4add-b2bd-893b8547d2f3",
   "metadata": {},
   "outputs": [
    {
     "data": {
      "text/plain": [
       "{'eleven',\n",
       " 'five',\n",
       " 'four',\n",
       " 'nine',\n",
       " 'one',\n",
       " 'seven',\n",
       " 'six',\n",
       " 'thirteen',\n",
       " 'three',\n",
       " 'twelve',\n",
       " 'two'}"
      ]
     },
     "execution_count": 58,
     "metadata": {},
     "output_type": "execute_result"
    }
   ],
   "source": [
    "myset.update(['eleven','twelve','thirteen'])\n",
    "myset"
   ]
  },
  {
   "cell_type": "code",
   "execution_count": 66,
   "id": "7125e558-9445-4329-a5a7-3eb9d736f13a",
   "metadata": {},
   "outputs": [
    {
     "data": {
      "text/plain": [
       "{'five',\n",
       " 'four',\n",
       " 'nine',\n",
       " 'one',\n",
       " 'seven',\n",
       " 'six',\n",
       " 'thirteen',\n",
       " 'three',\n",
       " 'twelve',\n",
       " 'two'}"
      ]
     },
     "execution_count": 66,
     "metadata": {},
     "output_type": "execute_result"
    }
   ],
   "source": [
    "myset.remove('eleven')\n",
    "myset"
   ]
  },
  {
   "cell_type": "code",
   "execution_count": 68,
   "id": "6ef2c3d9-d5a4-4b79-84d8-41e2969a024b",
   "metadata": {},
   "outputs": [
    {
     "data": {
      "text/plain": [
       "{'five', 'four', 'nine', 'one', 'seven', 'six', 'thirteen', 'twelve', 'two'}"
      ]
     },
     "execution_count": 68,
     "metadata": {},
     "output_type": "execute_result"
    }
   ],
   "source": [
    "myset.discard('three')\n",
    "myset"
   ]
  },
  {
   "cell_type": "code",
   "execution_count": 70,
   "id": "2c1c6b4c-3666-4012-ac02-af3913366096",
   "metadata": {},
   "outputs": [],
   "source": [
    "myset.clear()"
   ]
  },
  {
   "cell_type": "code",
   "execution_count": 72,
   "id": "ad717fb8-9fcc-426b-8143-8775411bd4a7",
   "metadata": {},
   "outputs": [
    {
     "ename": "NameError",
     "evalue": "name 'myset' is not defined",
     "output_type": "error",
     "traceback": [
      "\u001b[1;31m---------------------------------------------------------------------------\u001b[0m",
      "\u001b[1;31mNameError\u001b[0m                                 Traceback (most recent call last)",
      "Cell \u001b[1;32mIn[72], line 2\u001b[0m\n\u001b[0;32m      1\u001b[0m \u001b[38;5;28;01mdel\u001b[39;00m myset\n\u001b[1;32m----> 2\u001b[0m myset\n",
      "\u001b[1;31mNameError\u001b[0m: name 'myset' is not defined"
     ]
    }
   ],
   "source": [
    "del myset\n",
    "myset"
   ]
  },
  {
   "cell_type": "code",
   "execution_count": 74,
   "id": "b883df13-c782-40c0-8a9b-1dcc6f121d2c",
   "metadata": {},
   "outputs": [],
   "source": [
    "ms = {'one','two','three','four','five','six','seven'}"
   ]
  },
  {
   "cell_type": "code",
   "execution_count": 76,
   "id": "9b97b577-2629-458a-ae57-b083ab62b661",
   "metadata": {},
   "outputs": [
    {
     "data": {
      "text/plain": [
       "{'five', 'four', 'one', 'seven', 'six', 'three', 'two'}"
      ]
     },
     "execution_count": 76,
     "metadata": {},
     "output_type": "execute_result"
    }
   ],
   "source": [
    "ms"
   ]
  },
  {
   "cell_type": "code",
   "execution_count": 78,
   "id": "7c21b52a-bf58-46fe-826e-a3bb5f677203",
   "metadata": {},
   "outputs": [
    {
     "data": {
      "text/plain": [
       "{'five', 'four', 'one', 'seven', 'six', 'three', 'two'}"
      ]
     },
     "execution_count": 78,
     "metadata": {},
     "output_type": "execute_result"
    }
   ],
   "source": [
    "myset1 = ms\n",
    "myset1"
   ]
  },
  {
   "cell_type": "code",
   "execution_count": 80,
   "id": "74458da6-a1d7-4b92-81fc-6798210842f5",
   "metadata": {},
   "outputs": [
    {
     "data": {
      "text/plain": [
       "(2147898389472, 2147898389472)"
      ]
     },
     "execution_count": 80,
     "metadata": {},
     "output_type": "execute_result"
    }
   ],
   "source": [
    "id(myset1),id(ms)"
   ]
  },
  {
   "cell_type": "code",
   "execution_count": 82,
   "id": "dabc9a38-0a5b-4aba-973c-2ac82ca9da03",
   "metadata": {},
   "outputs": [
    {
     "ename": "NameError",
     "evalue": "name 'my_set' is not defined",
     "output_type": "error",
     "traceback": [
      "\u001b[1;31m---------------------------------------------------------------------------\u001b[0m",
      "\u001b[1;31mNameError\u001b[0m                                 Traceback (most recent call last)",
      "Cell \u001b[1;32mIn[82], line 1\u001b[0m\n\u001b[1;32m----> 1\u001b[0m \u001b[38;5;28mid\u001b[39m(my_set)\n",
      "\u001b[1;31mNameError\u001b[0m: name 'my_set' is not defined"
     ]
    }
   ],
   "source": [
    "id(my_set)"
   ]
  },
  {
   "cell_type": "markdown",
   "id": "d003043a-1e46-4604-ae2f-6f9bb167b33d",
   "metadata": {},
   "source": [
    "# SET OPERATION"
   ]
  },
  {
   "cell_type": "code",
   "execution_count": 85,
   "id": "c6a7fa5b-38ff-489e-a39b-9bd1ae3e931b",
   "metadata": {},
   "outputs": [],
   "source": [
    "a = {1,2,3,4,5,6}\n",
    "b = {4,5,6,7,8}\n",
    "c = {8,9,10}"
   ]
  },
  {
   "cell_type": "code",
   "execution_count": 87,
   "id": "ead0fd94-6069-4eee-b389-7d92fdadb850",
   "metadata": {},
   "outputs": [
    {
     "data": {
      "text/plain": [
       "{1, 2, 3, 4, 5, 6, 7, 8}"
      ]
     },
     "execution_count": 87,
     "metadata": {},
     "output_type": "execute_result"
    }
   ],
   "source": [
    "a|b"
   ]
  },
  {
   "cell_type": "code",
   "execution_count": 89,
   "id": "743868c7-1bf9-41e5-af61-934c52b0e720",
   "metadata": {},
   "outputs": [
    {
     "data": {
      "text/plain": [
       "{4, 5, 6, 7, 8, 9, 10}"
      ]
     },
     "execution_count": 89,
     "metadata": {},
     "output_type": "execute_result"
    }
   ],
   "source": [
    "b|c"
   ]
  },
  {
   "cell_type": "code",
   "execution_count": 91,
   "id": "523ec799-06b2-4c1e-bcba-463d05fb96b3",
   "metadata": {},
   "outputs": [
    {
     "data": {
      "text/plain": [
       "{1, 2, 3, 4, 5, 6, 7, 8}"
      ]
     },
     "execution_count": 91,
     "metadata": {},
     "output_type": "execute_result"
    }
   ],
   "source": [
    "a.union(b)"
   ]
  },
  {
   "cell_type": "code",
   "execution_count": 93,
   "id": "83a8b784-ccfd-4a0c-b0c8-bcdb55e29107",
   "metadata": {},
   "outputs": [
    {
     "data": {
      "text/plain": [
       "{1, 2, 3, 4, 5, 6, 7, 8, 9, 10}"
      ]
     },
     "execution_count": 93,
     "metadata": {},
     "output_type": "execute_result"
    }
   ],
   "source": [
    "a.union(b,c)"
   ]
  },
  {
   "cell_type": "code",
   "execution_count": 95,
   "id": "eee401db-09dc-4e15-84d6-b22b2d71a02d",
   "metadata": {},
   "outputs": [
    {
     "data": {
      "text/plain": [
       "{2, 3, 4, 5, 6, 7, 9}"
      ]
     },
     "execution_count": 95,
     "metadata": {},
     "output_type": "execute_result"
    }
   ],
   "source": [
    "m = {2,3,4}\n",
    "n = {5,6}\n",
    "o = {3,4,5,7,9}\n",
    "o.update(m,n)\n",
    "o"
   ]
  },
  {
   "cell_type": "code",
   "execution_count": 97,
   "id": "1e368196-914e-4dbc-8e1c-06a3d0eb2545",
   "metadata": {},
   "outputs": [
    {
     "data": {
      "text/plain": [
       "{5, 6}"
      ]
     },
     "execution_count": 97,
     "metadata": {},
     "output_type": "execute_result"
    }
   ],
   "source": [
    "n"
   ]
  },
  {
   "cell_type": "code",
   "execution_count": 99,
   "id": "32fc190d-68f7-4a39-89eb-b5fef0c61f3b",
   "metadata": {},
   "outputs": [
    {
     "data": {
      "text/plain": [
       "{7, 8, 9}"
      ]
     },
     "execution_count": 99,
     "metadata": {},
     "output_type": "execute_result"
    }
   ],
   "source": [
    "a = {1,2,3,7,8,9}\n",
    "b = {4,5,6,7,8,9}\n",
    "a.intersection(b)"
   ]
  },
  {
   "cell_type": "code",
   "execution_count": 101,
   "id": "daecda32-c334-42e7-85ec-02eb9873612b",
   "metadata": {},
   "outputs": [
    {
     "data": {
      "text/plain": [
       "{7, 8, 9}"
      ]
     },
     "execution_count": 101,
     "metadata": {},
     "output_type": "execute_result"
    }
   ],
   "source": [
    "a & b"
   ]
  },
  {
   "cell_type": "code",
   "execution_count": 105,
   "id": "09796f9f-b02b-4cc1-9f71-8382a12f76f8",
   "metadata": {},
   "outputs": [
    {
     "name": "stdout",
     "output_type": "stream",
     "text": [
      "{1, 2, 3, 7, 8, 9}\n",
      "{4, 5, 6, 7, 8, 9}\n"
     ]
    }
   ],
   "source": [
    "print(a)\n",
    "print(b)"
   ]
  },
  {
   "cell_type": "code",
   "execution_count": 103,
   "id": "e3a25aec-c20e-4fa3-b276-37657f278f56",
   "metadata": {},
   "outputs": [
    {
     "data": {
      "text/plain": [
       "{1, 2, 3}"
      ]
     },
     "execution_count": 103,
     "metadata": {},
     "output_type": "execute_result"
    }
   ],
   "source": [
    "a - b"
   ]
  },
  {
   "cell_type": "code",
   "execution_count": 107,
   "id": "11cbb66e-9ec7-4103-ade3-cfa84c24097e",
   "metadata": {},
   "outputs": [
    {
     "data": {
      "text/plain": [
       "{1, 2, 3}"
      ]
     },
     "execution_count": 107,
     "metadata": {},
     "output_type": "execute_result"
    }
   ],
   "source": [
    "a.difference(b)"
   ]
  },
  {
   "cell_type": "code",
   "execution_count": 109,
   "id": "35e78a7f-94d3-4a42-977b-835ad59c165c",
   "metadata": {},
   "outputs": [
    {
     "data": {
      "text/plain": [
       "{4, 5, 6}"
      ]
     },
     "execution_count": 109,
     "metadata": {},
     "output_type": "execute_result"
    }
   ],
   "source": [
    "b - a"
   ]
  },
  {
   "cell_type": "code",
   "execution_count": 111,
   "id": "4f7286a4-d00f-4b93-97f4-e4e44cab5af8",
   "metadata": {},
   "outputs": [
    {
     "data": {
      "text/plain": [
       "{4, 5, 6}"
      ]
     },
     "execution_count": 111,
     "metadata": {},
     "output_type": "execute_result"
    }
   ],
   "source": [
    "b.difference(a)"
   ]
  },
  {
   "cell_type": "code",
   "execution_count": 115,
   "id": "fe177d84-d2ec-4fe1-950e-eb30d4ce2662",
   "metadata": {},
   "outputs": [
    {
     "name": "stdout",
     "output_type": "stream",
     "text": [
      "{1, 2, 3, 7, 8, 9}\n",
      "{4, 5, 6}\n"
     ]
    }
   ],
   "source": [
    "print(a)\n",
    "print(b)"
   ]
  },
  {
   "cell_type": "code",
   "execution_count": 117,
   "id": "2d64581c-46f0-4e8d-9c27-1ac8429504e5",
   "metadata": {},
   "outputs": [
    {
     "data": {
      "text/plain": [
       "{4, 5, 6}"
      ]
     },
     "execution_count": 117,
     "metadata": {},
     "output_type": "execute_result"
    }
   ],
   "source": [
    "b.difference_update(a)\n",
    "b"
   ]
  },
  {
   "cell_type": "code",
   "execution_count": 119,
   "id": "47d6bd89-e5ab-4f08-8f9c-4a87e3989f8c",
   "metadata": {},
   "outputs": [
    {
     "data": {
      "text/plain": [
       "set()"
      ]
     },
     "execution_count": 119,
     "metadata": {},
     "output_type": "execute_result"
    }
   ],
   "source": [
    "a.difference_update(a)\n",
    "a"
   ]
  },
  {
   "cell_type": "code",
   "execution_count": 123,
   "id": "d471ae38-78a9-476c-9d9a-7fc8efad2288",
   "metadata": {},
   "outputs": [
    {
     "data": {
      "text/plain": [
       "{4, 5, 6}"
      ]
     },
     "execution_count": 123,
     "metadata": {},
     "output_type": "execute_result"
    }
   ],
   "source": [
    "a.symmetric_difference(b)"
   ]
  },
  {
   "cell_type": "code",
   "execution_count": 127,
   "id": "c4ef15a9-f931-49ee-8cd5-d24a9d9c61d1",
   "metadata": {},
   "outputs": [],
   "source": [
    "a = {1,2,3,4,5,6}\n",
    "b = {4,5,6,7,8}"
   ]
  },
  {
   "cell_type": "code",
   "execution_count": 131,
   "id": "8fffeb50-c536-4758-9e7b-333b5d640817",
   "metadata": {},
   "outputs": [
    {
     "data": {
      "text/plain": [
       "{1, 2, 3, 7, 8}"
      ]
     },
     "execution_count": 131,
     "metadata": {},
     "output_type": "execute_result"
    }
   ],
   "source": [
    "a ^ b"
   ]
  },
  {
   "cell_type": "code",
   "execution_count": 133,
   "id": "44b5bc6a-b5d6-4277-adf0-1dd6213c2535",
   "metadata": {},
   "outputs": [
    {
     "data": {
      "text/plain": [
       "{1, 2, 3, 7, 8}"
      ]
     },
     "execution_count": 133,
     "metadata": {},
     "output_type": "execute_result"
    }
   ],
   "source": [
    "b.symmetric_difference_update(a)\n",
    "b"
   ]
  },
  {
   "cell_type": "code",
   "execution_count": 135,
   "id": "2eff5b38-e837-4d54-999b-5da622dfb5a6",
   "metadata": {},
   "outputs": [],
   "source": [
    "a = {1,2,3,4,5,6,7,8,9}\n",
    "b = {3,4,5,6,7,8}\n",
    "c = {10,20,30,40}"
   ]
  },
  {
   "cell_type": "code",
   "execution_count": 139,
   "id": "33b937c0-579a-4499-bc6c-2e3a8fab3a70",
   "metadata": {},
   "outputs": [
    {
     "data": {
      "text/plain": [
       "True"
      ]
     },
     "execution_count": 139,
     "metadata": {},
     "output_type": "execute_result"
    }
   ],
   "source": [
    "b.issubset(a)"
   ]
  },
  {
   "cell_type": "code",
   "execution_count": 143,
   "id": "5a072817-6dcb-4eb4-909f-ef2fc4ba4f66",
   "metadata": {},
   "outputs": [
    {
     "data": {
      "text/plain": [
       "True"
      ]
     },
     "execution_count": 143,
     "metadata": {},
     "output_type": "execute_result"
    }
   ],
   "source": [
    "a.issuperset(b)"
   ]
  },
  {
   "cell_type": "code",
   "execution_count": 145,
   "id": "14bacae5-106a-4784-b3ad-9fd9f887adae",
   "metadata": {},
   "outputs": [
    {
     "data": {
      "text/plain": [
       "False"
      ]
     },
     "execution_count": 145,
     "metadata": {},
     "output_type": "execute_result"
    }
   ],
   "source": [
    "a.issubset(b)"
   ]
  },
  {
   "cell_type": "code",
   "execution_count": 147,
   "id": "9bef64e8-c4b8-4274-a6f7-9779e7102393",
   "metadata": {},
   "outputs": [
    {
     "data": {
      "text/plain": [
       "True"
      ]
     },
     "execution_count": 147,
     "metadata": {},
     "output_type": "execute_result"
    }
   ],
   "source": [
    "b.isdisjoint(c)"
   ]
  },
  {
   "cell_type": "code",
   "execution_count": 149,
   "id": "d8079dd2-3065-4859-8276-88639cc2cf49",
   "metadata": {},
   "outputs": [
    {
     "data": {
      "text/plain": [
       "False"
      ]
     },
     "execution_count": 149,
     "metadata": {},
     "output_type": "execute_result"
    }
   ],
   "source": [
    "a.isdisjoint(b)"
   ]
  },
  {
   "cell_type": "code",
   "execution_count": 151,
   "id": "371e94e2-7b48-41c1-ba04-910efddc90ef",
   "metadata": {},
   "outputs": [
    {
     "data": {
      "text/plain": [
       "True"
      ]
     },
     "execution_count": 151,
     "metadata": {},
     "output_type": "execute_result"
    }
   ],
   "source": [
    "c.isdisjoint(a)"
   ]
  },
  {
   "cell_type": "code",
   "execution_count": 153,
   "id": "cd08f728-1ada-4cd8-bfde-6a86d64593fe",
   "metadata": {},
   "outputs": [
    {
     "data": {
      "text/plain": [
       "False"
      ]
     },
     "execution_count": 153,
     "metadata": {},
     "output_type": "execute_result"
    }
   ],
   "source": [
    "a.isdisjoint(b)"
   ]
  },
  {
   "cell_type": "code",
   "execution_count": 155,
   "id": "7c06b7a5-12ee-45c2-a5ca-daa370371cdb",
   "metadata": {},
   "outputs": [
    {
     "data": {
      "text/plain": [
       "{1, 2, 3, 4, 5, 6, 7, 8, 9}"
      ]
     },
     "execution_count": 155,
     "metadata": {},
     "output_type": "execute_result"
    }
   ],
   "source": [
    "a"
   ]
  },
  {
   "cell_type": "code",
   "execution_count": 157,
   "id": "a4aa5530-b0a7-4ac2-9302-fc47c53beb43",
   "metadata": {},
   "outputs": [
    {
     "data": {
      "text/plain": [
       "45"
      ]
     },
     "execution_count": 157,
     "metadata": {},
     "output_type": "execute_result"
    }
   ],
   "source": [
    "sum(a)"
   ]
  },
  {
   "cell_type": "code",
   "execution_count": 159,
   "id": "90a9c90a-0efe-4c5e-b163-88b3c4981a59",
   "metadata": {},
   "outputs": [
    {
     "data": {
      "text/plain": [
       "1"
      ]
     },
     "execution_count": 159,
     "metadata": {},
     "output_type": "execute_result"
    }
   ],
   "source": [
    "min(a)"
   ]
  },
  {
   "cell_type": "code",
   "execution_count": 161,
   "id": "aac2d46f-dc28-4c3b-9de2-579632602cfe",
   "metadata": {},
   "outputs": [
    {
     "data": {
      "text/plain": [
       "9"
      ]
     },
     "execution_count": 161,
     "metadata": {},
     "output_type": "execute_result"
    }
   ],
   "source": [
    "max(a)"
   ]
  },
  {
   "cell_type": "code",
   "execution_count": 163,
   "id": "ba62fdec-2bb5-42be-9ae3-b16574b571b2",
   "metadata": {},
   "outputs": [
    {
     "data": {
      "text/plain": [
       "9"
      ]
     },
     "execution_count": 163,
     "metadata": {},
     "output_type": "execute_result"
    }
   ],
   "source": [
    "len(a)"
   ]
  },
  {
   "cell_type": "code",
   "execution_count": 165,
   "id": "9c0e5cb2-2f63-4dc3-923b-aab4328ea2e8",
   "metadata": {},
   "outputs": [
    {
     "data": {
      "text/plain": [
       "[(0, 1), (1, 2), (2, 3), (3, 4), (4, 5), (5, 6), (6, 7), (7, 8), (8, 9)]"
      ]
     },
     "execution_count": 165,
     "metadata": {},
     "output_type": "execute_result"
    }
   ],
   "source": [
    "list(enumerate(a))"
   ]
  },
  {
   "cell_type": "code",
   "execution_count": 167,
   "id": "c0e47259-7e32-43e4-8460-5bfa2b4c4066",
   "metadata": {},
   "outputs": [],
   "source": [
    "d = sorted(a)"
   ]
  },
  {
   "cell_type": "code",
   "execution_count": 169,
   "id": "b8fbc785-5b94-44bd-8cec-44da362e1207",
   "metadata": {},
   "outputs": [
    {
     "data": {
      "text/plain": [
       "[1, 2, 3, 4, 5, 6, 7, 8, 9]"
      ]
     },
     "execution_count": 169,
     "metadata": {},
     "output_type": "execute_result"
    }
   ],
   "source": [
    "d"
   ]
  },
  {
   "cell_type": "code",
   "execution_count": 171,
   "id": "d481cd7c-76e7-4611-9930-f900bfc73e12",
   "metadata": {},
   "outputs": [
    {
     "data": {
      "text/plain": [
       "[9, 8, 7, 6, 5, 4, 3, 2, 1]"
      ]
     },
     "execution_count": 171,
     "metadata": {},
     "output_type": "execute_result"
    }
   ],
   "source": [
    "d = sorted(a, reverse = True)\n",
    "d"
   ]
  },
  {
   "cell_type": "code",
   "execution_count": 173,
   "id": "1339d973-3e65-4111-9e9f-7692c6b43d87",
   "metadata": {},
   "outputs": [
    {
     "data": {
      "text/plain": [
       "[1, 2, 3, 4, 5, 6, 7, 8, 9]"
      ]
     },
     "execution_count": 173,
     "metadata": {},
     "output_type": "execute_result"
    }
   ],
   "source": [
    "sorted(d)"
   ]
  },
  {
   "cell_type": "code",
   "execution_count": null,
   "id": "8397307e-966f-4b1a-a644-753bac4b8a50",
   "metadata": {},
   "outputs": [],
   "source": []
  }
 ],
 "metadata": {
  "kernelspec": {
   "display_name": "Python 3 (ipykernel)",
   "language": "python",
   "name": "python3"
  },
  "language_info": {
   "codemirror_mode": {
    "name": "ipython",
    "version": 3
   },
   "file_extension": ".py",
   "mimetype": "text/x-python",
   "name": "python",
   "nbconvert_exporter": "python",
   "pygments_lexer": "ipython3",
   "version": "3.12.7"
  }
 },
 "nbformat": 4,
 "nbformat_minor": 5
}
