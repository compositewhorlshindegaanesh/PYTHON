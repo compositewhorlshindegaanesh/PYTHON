{
 "cells": [
  {
   "cell_type": "markdown",
   "id": "becc3e87",
   "metadata": {},
   "source": [
    "# ASSIGNMENT & NOTES  BY GANESH SHINDE ON THE FOLLOWING"
   ]
  },
  {
   "cell_type": "markdown",
   "id": "18928e34",
   "metadata": {},
   "source": [
    "# \"PYTHON FUNDAMENTALS\""
   ]
  },
  {
   "cell_type": "markdown",
   "id": "e5272e14",
   "metadata": {},
   "source": [
    "# ADDITION OF TWO DIGITS IN PYTHON"
   ]
  },
  {
   "cell_type": "code",
   "execution_count": 3,
   "id": "89d61df8",
   "metadata": {},
   "outputs": [
    {
     "data": {
      "text/plain": [
       "15"
      ]
     },
     "execution_count": 3,
     "metadata": {},
     "output_type": "execute_result"
    }
   ],
   "source": [
    "10+5"
   ]
  },
  {
   "cell_type": "code",
   "execution_count": 5,
   "id": "65a9fbbb",
   "metadata": {},
   "outputs": [
    {
     "data": {
      "text/plain": [
       "25"
      ]
     },
     "execution_count": 5,
     "metadata": {},
     "output_type": "execute_result"
    }
   ],
   "source": [
    "20+5"
   ]
  },
  {
   "cell_type": "code",
   "execution_count": 6,
   "id": "70a10acb",
   "metadata": {},
   "outputs": [
    {
     "data": {
      "text/plain": [
       "35"
      ]
     },
     "execution_count": 6,
     "metadata": {},
     "output_type": "execute_result"
    }
   ],
   "source": [
    "30+5"
   ]
  },
  {
   "cell_type": "markdown",
   "id": "0cc4baf1",
   "metadata": {},
   "source": [
    "# SUBTRACTION OF TWO DIGITS IN PYTHON"
   ]
  },
  {
   "cell_type": "code",
   "execution_count": 4,
   "id": "ea2d68ba",
   "metadata": {},
   "outputs": [
    {
     "data": {
      "text/plain": [
       "5"
      ]
     },
     "execution_count": 4,
     "metadata": {},
     "output_type": "execute_result"
    }
   ],
   "source": [
    "10-5"
   ]
  },
  {
   "cell_type": "code",
   "execution_count": 7,
   "id": "c40151f2",
   "metadata": {},
   "outputs": [
    {
     "data": {
      "text/plain": [
       "15"
      ]
     },
     "execution_count": 7,
     "metadata": {},
     "output_type": "execute_result"
    }
   ],
   "source": [
    "20-5"
   ]
  },
  {
   "cell_type": "code",
   "execution_count": 8,
   "id": "b54a2b28",
   "metadata": {},
   "outputs": [
    {
     "data": {
      "text/plain": [
       "25"
      ]
     },
     "execution_count": 8,
     "metadata": {},
     "output_type": "execute_result"
    }
   ],
   "source": [
    "30-5"
   ]
  },
  {
   "cell_type": "markdown",
   "id": "16d69c6a",
   "metadata": {},
   "source": [
    "# MULTIPLICATION OF TWO DIGITS IN PYTHON "
   ]
  },
  {
   "cell_type": "code",
   "execution_count": 9,
   "id": "617e8ef0",
   "metadata": {},
   "outputs": [
    {
     "data": {
      "text/plain": [
       "50"
      ]
     },
     "execution_count": 9,
     "metadata": {},
     "output_type": "execute_result"
    }
   ],
   "source": [
    "10*5"
   ]
  },
  {
   "cell_type": "code",
   "execution_count": 10,
   "id": "0e34d786",
   "metadata": {},
   "outputs": [
    {
     "data": {
      "text/plain": [
       "100"
      ]
     },
     "execution_count": 10,
     "metadata": {},
     "output_type": "execute_result"
    }
   ],
   "source": [
    "20*5"
   ]
  },
  {
   "cell_type": "code",
   "execution_count": 11,
   "id": "a18983ad",
   "metadata": {},
   "outputs": [
    {
     "data": {
      "text/plain": [
       "150"
      ]
     },
     "execution_count": 11,
     "metadata": {},
     "output_type": "execute_result"
    }
   ],
   "source": [
    "30*5"
   ]
  },
  {
   "cell_type": "code",
   "execution_count": null,
   "id": "264285b8-936d-42ca-8099-ef3c0409d42b",
   "metadata": {},
   "outputs": [],
   "source": [
    "# DIVISION OF TWO NUMBERS USING FLOAT DIVISION IN PYTHON"
   ]
  },
  {
   "cell_type": "code",
   "execution_count": 13,
   "id": "40100e2d",
   "metadata": {},
   "outputs": [
    {
     "data": {
      "text/plain": [
       "2.0"
      ]
     },
     "execution_count": 13,
     "metadata": {},
     "output_type": "execute_result"
    }
   ],
   "source": [
    "10/5"
   ]
  },
  {
   "cell_type": "code",
   "execution_count": 14,
   "id": "4a9512d7",
   "metadata": {},
   "outputs": [
    {
     "data": {
      "text/plain": [
       "4.0"
      ]
     },
     "execution_count": 14,
     "metadata": {},
     "output_type": "execute_result"
    }
   ],
   "source": [
    "20/5"
   ]
  },
  {
   "cell_type": "code",
   "execution_count": 15,
   "id": "0dae2816",
   "metadata": {},
   "outputs": [
    {
     "data": {
      "text/plain": [
       "6.0"
      ]
     },
     "execution_count": 15,
     "metadata": {},
     "output_type": "execute_result"
    }
   ],
   "source": [
    "30/5"
   ]
  },
  {
   "cell_type": "markdown",
   "id": "c0dc1058",
   "metadata": {},
   "source": [
    "# DIVISION OF TWO NUMBERS USING FLOOR DIVISION IN PYTHON"
   ]
  },
  {
   "cell_type": "code",
   "execution_count": 17,
   "id": "8c86b22a",
   "metadata": {},
   "outputs": [
    {
     "data": {
      "text/plain": [
       "2"
      ]
     },
     "execution_count": 17,
     "metadata": {},
     "output_type": "execute_result"
    }
   ],
   "source": [
    "10//5"
   ]
  },
  {
   "cell_type": "code",
   "execution_count": 18,
   "id": "f9bddff1",
   "metadata": {},
   "outputs": [
    {
     "data": {
      "text/plain": [
       "4"
      ]
     },
     "execution_count": 18,
     "metadata": {},
     "output_type": "execute_result"
    }
   ],
   "source": [
    "20//5"
   ]
  },
  {
   "cell_type": "code",
   "execution_count": 19,
   "id": "086c9f7a",
   "metadata": {},
   "outputs": [
    {
     "data": {
      "text/plain": [
       "6"
      ]
     },
     "execution_count": 19,
     "metadata": {},
     "output_type": "execute_result"
    }
   ],
   "source": [
    "30//5"
   ]
  },
  {
   "cell_type": "markdown",
   "id": "0b92e0b3",
   "metadata": {},
   "source": [
    "# BODMAS RULE (BRACKET,ORDER,DIV,MUL,ADD,SUB)"
   ]
  },
  {
   "cell_type": "code",
   "execution_count": 20,
   "id": "19bbebb7",
   "metadata": {},
   "outputs": [
    {
     "data": {
      "text/plain": [
       "14"
      ]
     },
     "execution_count": 20,
     "metadata": {},
     "output_type": "execute_result"
    }
   ],
   "source": [
    "(10+5)-7+6"
   ]
  },
  {
   "cell_type": "code",
   "execution_count": 21,
   "id": "d5e0a4d1",
   "metadata": {},
   "outputs": [
    {
     "data": {
      "text/plain": [
       "30"
      ]
     },
     "execution_count": 21,
     "metadata": {},
     "output_type": "execute_result"
    }
   ],
   "source": [
    "5+5*5"
   ]
  },
  {
   "cell_type": "code",
   "execution_count": 22,
   "id": "e1ecbb2d",
   "metadata": {},
   "outputs": [
    {
     "data": {
      "text/plain": [
       "2.2857142857142856"
      ]
     },
     "execution_count": 22,
     "metadata": {},
     "output_type": "execute_result"
    }
   ],
   "source": [
    "2+4/(22+6)*2"
   ]
  },
  {
   "cell_type": "markdown",
   "id": "2be4dfc1",
   "metadata": {},
   "source": [
    "# ASSIGNING THE VALUE TO ANOTHER VARIABLE"
   ]
  },
  {
   "cell_type": "code",
   "execution_count": 23,
   "id": "2afcc811",
   "metadata": {},
   "outputs": [
    {
     "data": {
      "text/plain": [
       "5.285714285714286"
      ]
     },
     "execution_count": 23,
     "metadata": {},
     "output_type": "execute_result"
    }
   ],
   "source": [
    "_+3"
   ]
  },
  {
   "cell_type": "code",
   "execution_count": 24,
   "id": "87b64ab3",
   "metadata": {},
   "outputs": [
    {
     "data": {
      "text/plain": [
       "15.857142857142858"
      ]
     },
     "execution_count": 24,
     "metadata": {},
     "output_type": "execute_result"
    }
   ],
   "source": [
    "_*3"
   ]
  },
  {
   "cell_type": "code",
   "execution_count": 25,
   "id": "0cf6101a",
   "metadata": {},
   "outputs": [
    {
     "data": {
      "text/plain": [
       "12.857142857142858"
      ]
     },
     "execution_count": 25,
     "metadata": {},
     "output_type": "execute_result"
    }
   ],
   "source": [
    "_-3"
   ]
  },
  {
   "cell_type": "markdown",
   "id": "2b032fec",
   "metadata": {},
   "source": [
    "# SYSTEM VERSION OF PYTHON"
   ]
  },
  {
   "cell_type": "code",
   "execution_count": 1,
   "id": "4ecf3839",
   "metadata": {},
   "outputs": [
    {
     "data": {
      "text/plain": [
       "'3.11.5 | packaged by Anaconda, Inc. | (main, Sep 11 2023, 13:26:23) [MSC v.1916 64 bit (AMD64)]'"
      ]
     },
     "execution_count": 1,
     "metadata": {},
     "output_type": "execute_result"
    }
   ],
   "source": [
    "import sys\n",
    "sys.version"
   ]
  },
  {
   "cell_type": "markdown",
   "id": "f9c55e57",
   "metadata": {},
   "source": [
    "# USING PRINT FUNCTION FOR SINGLE STATMENT"
   ]
  },
  {
   "cell_type": "code",
   "execution_count": 5,
   "id": "bac0e560",
   "metadata": {},
   "outputs": [
    {
     "name": "stdout",
     "output_type": "stream",
     "text": [
      "10\n"
     ]
    }
   ],
   "source": [
    "a = 10\n",
    "b = 20\n",
    "c = 30\n",
    "print(a)"
   ]
  },
  {
   "cell_type": "markdown",
   "id": "ac68a621",
   "metadata": {},
   "source": [
    "# USING PRINT FUNCTION FOR MULTIPLE STATEMENTS AND VARIABLES"
   ]
  },
  {
   "cell_type": "code",
   "execution_count": 6,
   "id": "6e98094e",
   "metadata": {},
   "outputs": [
    {
     "name": "stdout",
     "output_type": "stream",
     "text": [
      "10\n",
      "20\n",
      "30\n"
     ]
    }
   ],
   "source": [
    "print(a)\n",
    "print(b)\n",
    "print(c)"
   ]
  },
  {
   "cell_type": "code",
   "execution_count": 8,
   "id": "6916fde1",
   "metadata": {},
   "outputs": [
    {
     "name": "stdout",
     "output_type": "stream",
     "text": [
      "50\n"
     ]
    }
   ],
   "source": [
    "NUM1 = 20\n",
    "NUM2 = 30\n",
    "ADD = NUM1 + NUM2\n",
    "print(ADD)"
   ]
  },
  {
   "cell_type": "markdown",
   "id": "bfd9fc4e",
   "metadata": {},
   "source": [
    "# PYTHON KEYWORDS LIST"
   ]
  },
  {
   "cell_type": "code",
   "execution_count": 12,
   "id": "f8982f50",
   "metadata": {},
   "outputs": [
    {
     "data": {
      "text/plain": [
       "['False',\n",
       " 'None',\n",
       " 'True',\n",
       " 'and',\n",
       " 'as',\n",
       " 'assert',\n",
       " 'async',\n",
       " 'await',\n",
       " 'break',\n",
       " 'class',\n",
       " 'continue',\n",
       " 'def',\n",
       " 'del',\n",
       " 'elif',\n",
       " 'else',\n",
       " 'except',\n",
       " 'finally',\n",
       " 'for',\n",
       " 'from',\n",
       " 'global',\n",
       " 'if',\n",
       " 'import',\n",
       " 'in',\n",
       " 'is',\n",
       " 'lambda',\n",
       " 'nonlocal',\n",
       " 'not',\n",
       " 'or',\n",
       " 'pass',\n",
       " 'raise',\n",
       " 'return',\n",
       " 'try',\n",
       " 'while',\n",
       " 'with',\n",
       " 'yield']"
      ]
     },
     "execution_count": 12,
     "metadata": {},
     "output_type": "execute_result"
    }
   ],
   "source": [
    "import keyword\n",
    "keyword.kwlist"
   ]
  },
  {
   "cell_type": "markdown",
   "id": "09f27e9d",
   "metadata": {},
   "source": [
    "# TO FIND THE LENGTH OF KEYWORD USING LEN FUNCTION"
   ]
  },
  {
   "cell_type": "code",
   "execution_count": 13,
   "id": "4f1209db",
   "metadata": {},
   "outputs": [
    {
     "data": {
      "text/plain": [
       "35"
      ]
     },
     "execution_count": 13,
     "metadata": {},
     "output_type": "execute_result"
    }
   ],
   "source": [
    "len(keyword.kwlist)"
   ]
  },
  {
   "cell_type": "markdown",
   "id": "318ae691",
   "metadata": {},
   "source": [
    "# PYTHON VARIABLE = PYTHON IDENTIFIER = PYTHON OBJECT"
   ]
  },
  {
   "cell_type": "code",
   "execution_count": 14,
   "id": "c7605d47",
   "metadata": {},
   "outputs": [
    {
     "data": {
      "text/plain": [
       "15"
      ]
     },
     "execution_count": 14,
     "metadata": {},
     "output_type": "execute_result"
    }
   ],
   "source": [
    "NIT = 15\n",
    "NIT "
   ]
  },
  {
   "cell_type": "code",
   "execution_count": 15,
   "id": "b1999a15",
   "metadata": {},
   "outputs": [
    {
     "data": {
      "text/plain": [
       "20"
      ]
     },
     "execution_count": 15,
     "metadata": {},
     "output_type": "execute_result"
    }
   ],
   "source": [
    "NIT = 20\n",
    "NIT"
   ]
  },
  {
   "cell_type": "code",
   "execution_count": 16,
   "id": "9c7164a8",
   "metadata": {},
   "outputs": [
    {
     "data": {
      "text/plain": [
       "15"
      ]
     },
     "execution_count": 16,
     "metadata": {},
     "output_type": "execute_result"
    }
   ],
   "source": [
    "V = 15\n",
    "V"
   ]
  },
  {
   "cell_type": "markdown",
   "id": "6022b846",
   "metadata": {},
   "source": [
    "# VARIABLES HAVE TO BE DECLARED INDEPDENTLY"
   ]
  },
  {
   "cell_type": "code",
   "execution_count": 17,
   "id": "cedd4dbb",
   "metadata": {},
   "outputs": [
    {
     "ename": "TypeError",
     "evalue": "cannot unpack non-iterable int object",
     "output_type": "error",
     "traceback": [
      "\u001b[1;31m---------------------------------------------------------------------------\u001b[0m",
      "\u001b[1;31mTypeError\u001b[0m                                 Traceback (most recent call last)",
      "Cell \u001b[1;32mIn[17], line 1\u001b[0m\n\u001b[1;32m----> 1\u001b[0m P,Q,R \u001b[38;5;241m=\u001b[39m \u001b[38;5;241m20\u001b[39m\n",
      "\u001b[1;31mTypeError\u001b[0m: cannot unpack non-iterable int object"
     ]
    }
   ],
   "source": [
    "P,Q,R = 20"
   ]
  },
  {
   "cell_type": "code",
   "execution_count": 18,
   "id": "a79376f0",
   "metadata": {},
   "outputs": [],
   "source": [
    "P,Q,R = 20,20,20 # VARIABLES HAVE TO BE DECLARED INDEPDENTLY"
   ]
  },
  {
   "cell_type": "code",
   "execution_count": 45,
   "id": "19d9f5ec",
   "metadata": {},
   "outputs": [
    {
     "name": "stdout",
     "output_type": "stream",
     "text": [
      "20 20 20\n"
     ]
    }
   ],
   "source": [
    "P=Q=R = 20 # VARIABLE CAN ALSO BE DECLARED BY USING ASSIGNMENT OPERATOR.\n",
    "print(P,Q,R)"
   ]
  },
  {
   "cell_type": "code",
   "execution_count": 25,
   "id": "f8dafe9f",
   "metadata": {},
   "outputs": [
    {
     "data": {
      "text/plain": [
       "(1+20j)"
      ]
     },
     "execution_count": 25,
     "metadata": {},
     "output_type": "execute_result"
    }
   ],
   "source": [
    "1+20J"
   ]
  },
  {
   "cell_type": "markdown",
   "id": "49893270",
   "metadata": {},
   "source": [
    "# COMPLEX NUMBERS "
   ]
  },
  {
   "cell_type": "code",
   "execution_count": 28,
   "id": "2eb75534",
   "metadata": {},
   "outputs": [],
   "source": [
    " c1 = 10 + 20j"
   ]
  },
  {
   "cell_type": "code",
   "execution_count": 29,
   "id": "2a4f2338",
   "metadata": {},
   "outputs": [],
   "source": [
    "c2 = 30 + 40j"
   ]
  },
  {
   "cell_type": "code",
   "execution_count": 30,
   "id": "19f47b63",
   "metadata": {},
   "outputs": [
    {
     "data": {
      "text/plain": [
       "20.0"
      ]
     },
     "execution_count": 30,
     "metadata": {},
     "output_type": "execute_result"
    }
   ],
   "source": [
    "c1.imag"
   ]
  },
  {
   "cell_type": "code",
   "execution_count": 31,
   "id": "e7bd9dc4",
   "metadata": {},
   "outputs": [
    {
     "data": {
      "text/plain": [
       "40.0"
      ]
     },
     "execution_count": 31,
     "metadata": {},
     "output_type": "execute_result"
    }
   ],
   "source": [
    "c2.imag"
   ]
  },
  {
   "cell_type": "code",
   "execution_count": 32,
   "id": "9698f509",
   "metadata": {},
   "outputs": [
    {
     "data": {
      "text/plain": [
       "10.0"
      ]
     },
     "execution_count": 32,
     "metadata": {},
     "output_type": "execute_result"
    }
   ],
   "source": [
    "c1.real"
   ]
  },
  {
   "cell_type": "code",
   "execution_count": 33,
   "id": "86a17f42",
   "metadata": {},
   "outputs": [
    {
     "data": {
      "text/plain": [
       "30.0"
      ]
     },
     "execution_count": 33,
     "metadata": {},
     "output_type": "execute_result"
    }
   ],
   "source": [
    "c2.real"
   ]
  },
  {
   "cell_type": "code",
   "execution_count": 34,
   "id": "75b5d337",
   "metadata": {},
   "outputs": [
    {
     "data": {
      "text/plain": [
       "(40+60j)"
      ]
     },
     "execution_count": 34,
     "metadata": {},
     "output_type": "execute_result"
    }
   ],
   "source": [
    "c = c1 + c2\n",
    "c"
   ]
  },
  {
   "cell_type": "code",
   "execution_count": 35,
   "id": "b849aab5",
   "metadata": {},
   "outputs": [
    {
     "name": "stdout",
     "output_type": "stream",
     "text": [
      "(-20-20j)\n"
     ]
    }
   ],
   "source": [
    "print(c1-c2)"
   ]
  },
  {
   "cell_type": "markdown",
   "id": "ad359046",
   "metadata": {},
   "source": [
    "# GET SIZE FUNCTION & isinstance FUNCTION"
   ]
  },
  {
   "cell_type": "code",
   "execution_count": 47,
   "id": "4b576311",
   "metadata": {},
   "outputs": [
    {
     "name": "stdout",
     "output_type": "stream",
     "text": [
      "32\n"
     ]
    }
   ],
   "source": [
    "print(sys.getsizeof(c1))"
   ]
  },
  {
   "cell_type": "code",
   "execution_count": 49,
   "id": "adc5bf33",
   "metadata": {},
   "outputs": [
    {
     "name": "stdout",
     "output_type": "stream",
     "text": [
      "23.4\n",
      "<class 'float'>\n",
      "24\n",
      "23.4 is Float? True\n"
     ]
    }
   ],
   "source": [
    "val2 = 23.4\n",
    "print(val2)\n",
    "print(type(val2))\n",
    "print(sys.getsizeof(val2))\n",
    "print(val2,\"is Float?\", isinstance(val2,float))"
   ]
  },
  {
   "cell_type": "code",
   "execution_count": 50,
   "id": "13d9e270",
   "metadata": {},
   "outputs": [
    {
     "data": {
      "text/plain": [
       "32"
      ]
     },
     "execution_count": 50,
     "metadata": {},
     "output_type": "execute_result"
    }
   ],
   "source": [
    "sys.getsizeof(complex())"
   ]
  },
  {
   "cell_type": "code",
   "execution_count": 56,
   "id": "ebf5e3c3",
   "metadata": {},
   "outputs": [
    {
     "data": {
      "text/plain": [
       "28"
      ]
     },
     "execution_count": 56,
     "metadata": {},
     "output_type": "execute_result"
    }
   ],
   "source": [
    "sys.getsizeof(int())"
   ]
  },
  {
   "cell_type": "code",
   "execution_count": 57,
   "id": "10622400",
   "metadata": {},
   "outputs": [
    {
     "data": {
      "text/plain": [
       "24"
      ]
     },
     "execution_count": 57,
     "metadata": {},
     "output_type": "execute_result"
    }
   ],
   "source": [
    "sys.getsizeof(float())"
   ]
  },
  {
   "cell_type": "code",
   "execution_count": 54,
   "id": "1ffb58ca",
   "metadata": {},
   "outputs": [
    {
     "data": {
      "text/plain": [
       "424"
      ]
     },
     "execution_count": 54,
     "metadata": {},
     "output_type": "execute_result"
    }
   ],
   "source": [
    "sys.getsizeof(bool)"
   ]
  },
  {
   "cell_type": "code",
   "execution_count": 55,
   "id": "1c1af695",
   "metadata": {},
   "outputs": [
    {
     "data": {
      "text/plain": [
       "424"
      ]
     },
     "execution_count": 55,
     "metadata": {},
     "output_type": "execute_result"
    }
   ],
   "source": [
    "sys.getsizeof((bool))"
   ]
  },
  {
   "cell_type": "markdown",
   "id": "dcf39dac",
   "metadata": {},
   "source": [
    "# BOOLEAN "
   ]
  },
  {
   "cell_type": "code",
   "execution_count": 58,
   "id": "98ed17df",
   "metadata": {},
   "outputs": [],
   "source": [
    "bool1 = True\n",
    "bool2 = False"
   ]
  },
  {
   "cell_type": "code",
   "execution_count": 59,
   "id": "62954afd",
   "metadata": {},
   "outputs": [
    {
     "name": "stdout",
     "output_type": "stream",
     "text": [
      "<class 'bool'>\n"
     ]
    }
   ],
   "source": [
    "print(type(bool1))"
   ]
  },
  {
   "cell_type": "code",
   "execution_count": 60,
   "id": "3d68f289",
   "metadata": {},
   "outputs": [
    {
     "data": {
      "text/plain": [
       "True"
      ]
     },
     "execution_count": 60,
     "metadata": {},
     "output_type": "execute_result"
    }
   ],
   "source": [
    "isinstance(bool1,bool)"
   ]
  },
  {
   "cell_type": "code",
   "execution_count": 62,
   "id": "9314be76",
   "metadata": {},
   "outputs": [
    {
     "data": {
      "text/plain": [
       "True"
      ]
     },
     "execution_count": 62,
     "metadata": {},
     "output_type": "execute_result"
    }
   ],
   "source": [
    "isinstance(bool2,bool)"
   ]
  },
  {
   "cell_type": "code",
   "execution_count": 64,
   "id": "f3ef832f",
   "metadata": {},
   "outputs": [
    {
     "data": {
      "text/plain": [
       "False"
      ]
     },
     "execution_count": 64,
     "metadata": {},
     "output_type": "execute_result"
    }
   ],
   "source": [
    "bool(0)"
   ]
  },
  {
   "cell_type": "code",
   "execution_count": 65,
   "id": "99650240",
   "metadata": {},
   "outputs": [
    {
     "data": {
      "text/plain": [
       "True"
      ]
     },
     "execution_count": 65,
     "metadata": {},
     "output_type": "execute_result"
    }
   ],
   "source": [
    "bool(1)"
   ]
  },
  {
   "cell_type": "code",
   "execution_count": 66,
   "id": "625eb2c3",
   "metadata": {},
   "outputs": [
    {
     "data": {
      "text/plain": [
       "False"
      ]
     },
     "execution_count": 66,
     "metadata": {},
     "output_type": "execute_result"
    }
   ],
   "source": [
    "bool(None)"
   ]
  },
  {
   "cell_type": "code",
   "execution_count": 67,
   "id": "84f7eecf",
   "metadata": {},
   "outputs": [
    {
     "data": {
      "text/plain": [
       "False"
      ]
     },
     "execution_count": 67,
     "metadata": {},
     "output_type": "execute_result"
    }
   ],
   "source": [
    "bool(False)"
   ]
  },
  {
   "cell_type": "code",
   "execution_count": 76,
   "id": "ed3f689b",
   "metadata": {},
   "outputs": [
    {
     "name": "stdout",
     "output_type": "stream",
     "text": [
      "2\n"
     ]
    }
   ],
   "source": [
    "print(True*2)"
   ]
  },
  {
   "cell_type": "markdown",
   "id": "640d8a0a",
   "metadata": {},
   "source": [
    "# STRING CREATION USING SINGLE,DOUBLE AND TRIPLE QUOTES"
   ]
  },
  {
   "cell_type": "code",
   "execution_count": 69,
   "id": "a96731d2",
   "metadata": {},
   "outputs": [
    {
     "name": "stdout",
     "output_type": "stream",
     "text": [
      "HELLO PYTHON\n"
     ]
    }
   ],
   "source": [
    "str = \"HELLO PYTHON\"\n",
    "print(str)"
   ]
  },
  {
   "cell_type": "code",
   "execution_count": 71,
   "id": "0f8c19a5",
   "metadata": {},
   "outputs": [
    {
     "name": "stdout",
     "output_type": "stream",
     "text": [
      "HELLO WORLD\n"
     ]
    }
   ],
   "source": [
    "mystr = 'HELLO WORLD'\n",
    "print(mystr)"
   ]
  },
  {
   "cell_type": "code",
   "execution_count": 8,
   "id": "a45f19fc",
   "metadata": {},
   "outputs": [
    {
     "name": "stdout",
     "output_type": "stream",
     "text": [
      "HELLO\n",
      "WORLD\n"
     ]
    }
   ],
   "source": [
    "mystr1 = '''HELLO\n",
    "WORLD'''\n",
    "print(mystr1)"
   ]
  },
  {
   "cell_type": "code",
   "execution_count": 9,
   "id": "f15fb274",
   "metadata": {},
   "outputs": [
    {
     "name": "stdout",
     "output_type": "stream",
     "text": [
      "HELLO\n",
      "PYTHON\n"
     ]
    }
   ],
   "source": [
    "mystr3 = \"\"\"HELLO\n",
    "PYTHON\"\"\"\n",
    "print(mystr3)"
   ]
  },
  {
   "cell_type": "code",
   "execution_count": 15,
   "id": "4d5d0dba",
   "metadata": {},
   "outputs": [
    {
     "name": "stdout",
     "output_type": "stream",
     "text": [
      "ACGTACGTACGTACGT\n"
     ]
    }
   ],
   "source": [
    "mystr  = 'ACGT'\n",
    "mystr4  = mystr*4\n",
    "print(mystr4)"
   ]
  },
  {
   "cell_type": "code",
   "execution_count": 16,
   "id": "f7c908c8",
   "metadata": {},
   "outputs": [
    {
     "name": "stdout",
     "output_type": "stream",
     "text": [
      "DNADNADNADNADNA\n"
     ]
    }
   ],
   "source": [
    "MYSTR = 'DNA'\n",
    "MYSTR5 = MYSTR*5\n",
    "print(MYSTR5)"
   ]
  },
  {
   "cell_type": "code",
   "execution_count": 20,
   "id": "685f00c7",
   "metadata": {},
   "outputs": [
    {
     "data": {
      "text/plain": [
       "16"
      ]
     },
     "execution_count": 20,
     "metadata": {},
     "output_type": "execute_result"
    }
   ],
   "source": [
    "len(mystr4)"
   ]
  },
  {
   "cell_type": "code",
   "execution_count": 19,
   "id": "b74ad9b2",
   "metadata": {},
   "outputs": [
    {
     "data": {
      "text/plain": [
       "15"
      ]
     },
     "execution_count": 19,
     "metadata": {},
     "output_type": "execute_result"
    }
   ],
   "source": [
    "len(MYSTR5)"
   ]
  },
  {
   "cell_type": "markdown",
   "id": "a4baefc8",
   "metadata": {},
   "source": [
    "# INDEXING & SLICING IN PYTHON "
   ]
  },
  {
   "cell_type": "markdown",
   "id": "c78bbc48",
   "metadata": {},
   "source": [
    "# 1 Indexing refers to accessing an individual element in a sequence, like a list or a string, using its position in the sequence. It starts with 0 for the first element.\n",
    "\n",
    "# 2) Slicing involves extracting a portion of a sequence by specifying a range of indices. This allows you to create a sub sequence or extract a specific section of a larger sequence.\n",
    "\n",
    "# 3) Indexing allows you to retrieve a single element at a specific position, while slicing enables you to extract multiple elements based on a range of indices.\n",
    "\n",
    "# 4) When using indexing, you access a specific element by indicating its position within square brackets, such as `my_list[2]` to access the third element in a list.\n",
    "\n",
    "# 5) Slicing is performed by specifying a start index, an end index, and an optional step value within square brackets, like `my_list[1:4]` to retrieve elements from index 1 to index 3.\n",
    "\n",
    "# 6) Indexing returns a single element, whereas slicing returns a new sequence containing the specified portion of elements."
   ]
  },
  {
   "cell_type": "code",
   "execution_count": 53,
   "id": "7a9d87e0",
   "metadata": {},
   "outputs": [
    {
     "data": {
      "text/plain": [
       "'I'"
      ]
     },
     "execution_count": 53,
     "metadata": {},
     "output_type": "execute_result"
    }
   ],
   "source": [
    "str = \"I AM DATANALYSTASPIRANT\"\n",
    "str[0]"
   ]
  },
  {
   "cell_type": "code",
   "execution_count": 54,
   "id": "5dabb808",
   "metadata": {},
   "outputs": [
    {
     "data": {
      "text/plain": [
       "'D'"
      ]
     },
     "execution_count": 54,
     "metadata": {},
     "output_type": "execute_result"
    }
   ],
   "source": [
    " str[5]"
   ]
  },
  {
   "cell_type": "code",
   "execution_count": 55,
   "id": "12cd02a0",
   "metadata": {},
   "outputs": [
    {
     "data": {
      "text/plain": [
       "' '"
      ]
     },
     "execution_count": 55,
     "metadata": {},
     "output_type": "execute_result"
    }
   ],
   "source": [
    " str[4]"
   ]
  },
  {
   "cell_type": "code",
   "execution_count": 56,
   "id": "f3963a58",
   "metadata": {},
   "outputs": [
    {
     "data": {
      "text/plain": [
       "'N'"
      ]
     },
     "execution_count": 56,
     "metadata": {},
     "output_type": "execute_result"
    }
   ],
   "source": [
    "str[-2]"
   ]
  },
  {
   "cell_type": "code",
   "execution_count": 57,
   "id": "73b8c677",
   "metadata": {},
   "outputs": [
    {
     "data": {
      "text/plain": [
       "'I'"
      ]
     },
     "execution_count": 57,
     "metadata": {},
     "output_type": "execute_result"
    }
   ],
   "source": [
    "str[len(str) - 5]"
   ]
  },
  {
   "cell_type": "code",
   "execution_count": 58,
   "id": "623d22cd",
   "metadata": {},
   "outputs": [
    {
     "data": {
      "text/plain": [
       "'T'"
      ]
     },
     "execution_count": 58,
     "metadata": {},
     "output_type": "execute_result"
    }
   ],
   "source": [
    "str[-1]"
   ]
  },
  {
   "cell_type": "markdown",
   "id": "03c20d0b",
   "metadata": {},
   "source": [
    "# SLICING FUNCTION IN PYTHON "
   ]
  },
  {
   "cell_type": "code",
   "execution_count": 59,
   "id": "263c2ee3",
   "metadata": {},
   "outputs": [
    {
     "data": {
      "text/plain": [
       "'I AM '"
      ]
     },
     "execution_count": 59,
     "metadata": {},
     "output_type": "execute_result"
    }
   ],
   "source": [
    "str[0:5]"
   ]
  },
  {
   "cell_type": "code",
   "execution_count": 61,
   "id": "23e31b82",
   "metadata": {},
   "outputs": [
    {
     "data": {
      "text/plain": [
       "'R'"
      ]
     },
     "execution_count": 61,
     "metadata": {},
     "output_type": "execute_result"
    }
   ],
   "source": [
    "str[-4]"
   ]
  },
  {
   "cell_type": "code",
   "execution_count": 62,
   "id": "9085b8a9",
   "metadata": {},
   "outputs": [
    {
     "data": {
      "text/plain": [
       "'R'"
      ]
     },
     "execution_count": 62,
     "metadata": {},
     "output_type": "execute_result"
    }
   ],
   "source": [
    "str[-4]"
   ]
  },
  {
   "cell_type": "code",
   "execution_count": 63,
   "id": "86e82a77",
   "metadata": {},
   "outputs": [
    {
     "data": {
      "text/plain": [
       "''"
      ]
     },
     "execution_count": 63,
     "metadata": {},
     "output_type": "execute_result"
    }
   ],
   "source": [
    "str[-4:0]"
   ]
  },
  {
   "cell_type": "code",
   "execution_count": 64,
   "id": "c40107f7",
   "metadata": {},
   "outputs": [
    {
     "data": {
      "text/plain": [
       "'TASPIRANT'"
      ]
     },
     "execution_count": 64,
     "metadata": {},
     "output_type": "execute_result"
    }
   ],
   "source": [
    "str[-9:]"
   ]
  },
  {
   "cell_type": "code",
   "execution_count": 65,
   "id": "65b1fabc",
   "metadata": {},
   "outputs": [
    {
     "data": {
      "text/plain": [
       "''"
      ]
     },
     "execution_count": 65,
     "metadata": {},
     "output_type": "execute_result"
    }
   ],
   "source": [
    "str[-9:0]"
   ]
  },
  {
   "cell_type": "code",
   "execution_count": 66,
   "id": "5a4b6d52",
   "metadata": {},
   "outputs": [
    {
     "data": {
      "text/plain": [
       "'M DATA'"
      ]
     },
     "execution_count": 66,
     "metadata": {},
     "output_type": "execute_result"
    }
   ],
   "source": [
    "str[3:9]"
   ]
  },
  {
   "cell_type": "code",
   "execution_count": 67,
   "id": "6ab0a01a",
   "metadata": {},
   "outputs": [
    {
     "data": {
      "text/plain": [
       "'I AM'"
      ]
     },
     "execution_count": 67,
     "metadata": {},
     "output_type": "execute_result"
    }
   ],
   "source": [
    "str[:4]"
   ]
  },
  {
   "cell_type": "code",
   "execution_count": 68,
   "id": "cc2503fc",
   "metadata": {},
   "outputs": [
    {
     "name": "stdout",
     "output_type": "stream",
     "text": [
      "<class 'str'>\n"
     ]
    }
   ],
   "source": [
    "del str\n",
    "print(str)"
   ]
  },
  {
   "cell_type": "code",
   "execution_count": 70,
   "id": "78086095",
   "metadata": {},
   "outputs": [
    {
     "name": "stdout",
     "output_type": "stream",
     "text": [
      "HELLOWORLD\n"
     ]
    }
   ],
   "source": [
    "S1 = \"HELLO\"\n",
    "S2 = \"WORLD\"\n",
    "S = S1 + S2\n",
    "print(S)"
   ]
  },
  {
   "cell_type": "markdown",
   "id": "4b86587f",
   "metadata": {},
   "source": [
    "# TYPE CASTING"
   ]
  },
  {
   "cell_type": "code",
   "execution_count": 263,
   "id": "38180823-8743-4b1d-a0c8-0f1335be46ec",
   "metadata": {},
   "outputs": [
    {
     "data": {
      "text/plain": [
       "'HELLOPYTHON'"
      ]
     },
     "execution_count": 263,
     "metadata": {},
     "output_type": "execute_result"
    }
   ],
   "source": [
    "index = 'HELLOPYTHON'\n",
    "index"
   ]
  },
  {
   "cell_type": "code",
   "execution_count": 267,
   "id": "2c272f07-729f-4253-972c-55e571adcf38",
   "metadata": {},
   "outputs": [
    {
     "data": {
      "text/plain": [
       "'HELLOPYTHON'"
      ]
     },
     "execution_count": 267,
     "metadata": {},
     "output_type": "execute_result"
    }
   ],
   "source": [
    "index[:]#SLICING"
   ]
  },
  {
   "cell_type": "code",
   "execution_count": 271,
   "id": "8fb5cc20-2821-469d-bffd-7df9f924c0ba",
   "metadata": {},
   "outputs": [
    {
     "data": {
      "text/plain": [
       "'NOHTYPOLLEH'"
      ]
     },
     "execution_count": 271,
     "metadata": {},
     "output_type": "execute_result"
    }
   ],
   "source": [
    "index[::-1]#REVERSE SLICING"
   ]
  },
  {
   "cell_type": "code",
   "execution_count": 71,
   "id": "af482571",
   "metadata": {},
   "outputs": [
    {
     "data": {
      "text/plain": [
       "12"
      ]
     },
     "execution_count": 71,
     "metadata": {},
     "output_type": "execute_result"
    }
   ],
   "source": [
    "int(12.3)"
   ]
  },
  {
   "cell_type": "code",
   "execution_count": 72,
   "id": "09ae95e6",
   "metadata": {},
   "outputs": [
    {
     "data": {
      "text/plain": [
       "1"
      ]
     },
     "execution_count": 72,
     "metadata": {},
     "output_type": "execute_result"
    }
   ],
   "source": [
    "int(True)"
   ]
  },
  {
   "cell_type": "code",
   "execution_count": 73,
   "id": "f445172f",
   "metadata": {},
   "outputs": [
    {
     "data": {
      "text/plain": [
       "1"
      ]
     },
     "execution_count": 73,
     "metadata": {},
     "output_type": "execute_result"
    }
   ],
   "source": [
    "int(\"1\")"
   ]
  },
  {
   "cell_type": "code",
   "execution_count": 75,
   "id": "720efd94",
   "metadata": {},
   "outputs": [
    {
     "data": {
      "text/plain": [
       "float"
      ]
     },
     "execution_count": 75,
     "metadata": {},
     "output_type": "execute_result"
    }
   ],
   "source": [
    "type(12.3)"
   ]
  },
  {
   "cell_type": "markdown",
   "id": "b8906182",
   "metadata": {},
   "source": [
    "# RANGE"
   ]
  },
  {
   "cell_type": "code",
   "execution_count": 77,
   "id": "6fd005af",
   "metadata": {},
   "outputs": [
    {
     "data": {
      "text/plain": [
       "{0, 1, 2, 3, 4, 5, 6, 7, 8, 9}"
      ]
     },
     "execution_count": 77,
     "metadata": {},
     "output_type": "execute_result"
    }
   ],
   "source": [
    "set(range(10))"
   ]
  },
  {
   "cell_type": "code",
   "execution_count": 78,
   "id": "75f1fd9b",
   "metadata": {},
   "outputs": [
    {
     "data": {
      "text/plain": [
       "[0, 1, 2, 3, 4, 5, 6, 7, 8, 9, 10]"
      ]
     },
     "execution_count": 78,
     "metadata": {},
     "output_type": "execute_result"
    }
   ],
   "source": [
    "list(range(11))"
   ]
  },
  {
   "cell_type": "code",
   "execution_count": 79,
   "id": "a0eb1570",
   "metadata": {},
   "outputs": [
    {
     "data": {
      "text/plain": [
       "(0, 1, 2, 3, 4, 5, 6, 7, 8, 9, 10, 11, 12, 13, 14)"
      ]
     },
     "execution_count": 79,
     "metadata": {},
     "output_type": "execute_result"
    }
   ],
   "source": [
    "tuple(range(15))"
   ]
  },
  {
   "cell_type": "markdown",
   "id": "dbff0d34-fcb9-4bdf-831f-1efa1f2cf1ac",
   "metadata": {},
   "source": [
    "dict(range(5))"
   ]
  },
  {
   "cell_type": "markdown",
   "id": "9e40844a-7de7-46d4-9824-637df455274c",
   "metadata": {},
   "source": [
    "# STRINGS"
   ]
  },
  {
   "cell_type": "code",
   "execution_count": 3,
   "id": "7d77f1ac-96f1-473a-8987-4f06fb09e93c",
   "metadata": {},
   "outputs": [],
   "source": [
    "s = 'nit'"
   ]
  },
  {
   "cell_type": "code",
   "execution_count": 5,
   "id": "fb4eeeef-f91f-45cf-af4a-97bd4c32fd14",
   "metadata": {},
   "outputs": [
    {
     "data": {
      "text/plain": [
       "'nit'"
      ]
     },
     "execution_count": 5,
     "metadata": {},
     "output_type": "execute_result"
    }
   ],
   "source": [
    "s"
   ]
  },
  {
   "cell_type": "code",
   "execution_count": 7,
   "id": "9c6fdb9a-f6b9-45fb-b094-6227398ea745",
   "metadata": {},
   "outputs": [
    {
     "data": {
      "text/plain": [
       "str"
      ]
     },
     "execution_count": 7,
     "metadata": {},
     "output_type": "execute_result"
    }
   ],
   "source": [
    "type(s)"
   ]
  },
  {
   "cell_type": "code",
   "execution_count": 9,
   "id": "5e005217-bcb4-4129-b10f-1e86f96f9e8f",
   "metadata": {},
   "outputs": [],
   "source": [
    "s1 = 'hello python'"
   ]
  },
  {
   "cell_type": "code",
   "execution_count": 11,
   "id": "d33eacda-ecff-4b9c-937c-5d926305558c",
   "metadata": {},
   "outputs": [
    {
     "data": {
      "text/plain": [
       "'hello python'"
      ]
     },
     "execution_count": 11,
     "metadata": {},
     "output_type": "execute_result"
    }
   ],
   "source": [
    "s1"
   ]
  },
  {
   "cell_type": "code",
   "execution_count": 14,
   "id": "6b4e4e61-d8d8-4fd9-9777-4142d95973ea",
   "metadata": {},
   "outputs": [],
   "source": [
    "s2 = '''hello\n",
    "python'''"
   ]
  },
  {
   "cell_type": "code",
   "execution_count": 18,
   "id": "ffdd0a22-781c-4c88-85f0-ce4135492c71",
   "metadata": {},
   "outputs": [
    {
     "name": "stdout",
     "output_type": "stream",
     "text": [
      "hello\n",
      "python\n"
     ]
    }
   ],
   "source": [
    "print(s2)"
   ]
  },
  {
   "cell_type": "code",
   "execution_count": 21,
   "id": "fbb71c5c-4912-4682-8605-e9555fbc8689",
   "metadata": {},
   "outputs": [
    {
     "data": {
      "text/plain": [
       "'t'"
      ]
     },
     "execution_count": 21,
     "metadata": {},
     "output_type": "execute_result"
    }
   ],
   "source": [
    "s1[-4]"
   ]
  },
  {
   "cell_type": "code",
   "execution_count": 23,
   "id": "f614692e-c4da-4e05-9229-09d8d8a9516b",
   "metadata": {},
   "outputs": [
    {
     "data": {
      "text/plain": [
       "'o'"
      ]
     },
     "execution_count": 23,
     "metadata": {},
     "output_type": "execute_result"
    }
   ],
   "source": [
    "s1[4]"
   ]
  },
  {
   "cell_type": "code",
   "execution_count": 27,
   "id": "97e5fe53-19ea-42da-af2e-31fa0ed84f95",
   "metadata": {},
   "outputs": [
    {
     "data": {
      "text/plain": [
       "' '"
      ]
     },
     "execution_count": 27,
     "metadata": {},
     "output_type": "execute_result"
    }
   ],
   "source": [
    "s1[-7]"
   ]
  },
  {
   "cell_type": "code",
   "execution_count": 29,
   "id": "a4890b27-1653-43ce-939e-8a90ad686771",
   "metadata": {},
   "outputs": [
    {
     "data": {
      "text/plain": [
       "'nit'"
      ]
     },
     "execution_count": 29,
     "metadata": {},
     "output_type": "execute_result"
    }
   ],
   "source": [
    "s"
   ]
  },
  {
   "cell_type": "code",
   "execution_count": 33,
   "id": "baa0048d-5b6a-45a4-8d32-5022011b7d9c",
   "metadata": {},
   "outputs": [
    {
     "name": "stdout",
     "output_type": "stream",
     "text": [
      "h\n",
      "e\n",
      "l\n"
     ]
    }
   ],
   "source": [
    "print(s1[0])\n",
    "print(s1[1])\n",
    "print(s1[2])"
   ]
  },
  {
   "cell_type": "markdown",
   "id": "a9e0e5fa-b364-4cd9-bbc0-763130b26df0",
   "metadata": {},
   "source": [
    "# STRING SLICING"
   ]
  },
  {
   "cell_type": "code",
   "execution_count": 38,
   "id": "c9f43deb-e80b-4c35-bb48-413b0e142086",
   "metadata": {},
   "outputs": [
    {
     "data": {
      "text/plain": [
       "'hello python'"
      ]
     },
     "execution_count": 38,
     "metadata": {},
     "output_type": "execute_result"
    }
   ],
   "source": [
    "s1"
   ]
  },
  {
   "cell_type": "code",
   "execution_count": 42,
   "id": "8df0b420-6cbd-4735-bd70-929096ba47a0",
   "metadata": {},
   "outputs": [
    {
     "data": {
      "text/plain": [
       "'hello python'"
      ]
     },
     "execution_count": 42,
     "metadata": {},
     "output_type": "execute_result"
    }
   ],
   "source": [
    "s1[:]"
   ]
  },
  {
   "cell_type": "code",
   "execution_count": 44,
   "id": "9b28589f-4a9d-42b3-9c5c-4a2e16d64335",
   "metadata": {},
   "outputs": [
    {
     "data": {
      "text/plain": [
       "'llo p'"
      ]
     },
     "execution_count": 44,
     "metadata": {},
     "output_type": "execute_result"
    }
   ],
   "source": [
    "s1[2:7]"
   ]
  },
  {
   "cell_type": "code",
   "execution_count": 48,
   "id": "918cc0ff-0d17-41d5-9938-b0d93cc02003",
   "metadata": {},
   "outputs": [
    {
     "name": "stdout",
     "output_type": "stream",
     "text": [
      "hello\n",
      "python\n"
     ]
    }
   ],
   "source": [
    "print(s2)"
   ]
  },
  {
   "cell_type": "code",
   "execution_count": 52,
   "id": "96b14fa9-6c7c-4d8b-b1e4-98cbb6efca26",
   "metadata": {},
   "outputs": [
    {
     "name": "stdout",
     "output_type": "stream",
     "text": [
      "dataanalyst\n"
     ]
    }
   ],
   "source": [
    "s3 = 'dataanalyst'\n",
    "print(s3)"
   ]
  },
  {
   "cell_type": "code",
   "execution_count": 54,
   "id": "9ade5aac-ac17-46a0-a304-a3125658f5de",
   "metadata": {},
   "outputs": [
    {
     "data": {
      "text/plain": [
       "'nit'"
      ]
     },
     "execution_count": 54,
     "metadata": {},
     "output_type": "execute_result"
    }
   ],
   "source": [
    "s[0:10]"
   ]
  },
  {
   "cell_type": "code",
   "execution_count": 56,
   "id": "67250b76-8c08-4e07-86c1-1f54fa140590",
   "metadata": {},
   "outputs": [
    {
     "data": {
      "text/plain": [
       "'dataanalys'"
      ]
     },
     "execution_count": 56,
     "metadata": {},
     "output_type": "execute_result"
    }
   ],
   "source": [
    "s3[0:10]"
   ]
  },
  {
   "cell_type": "code",
   "execution_count": 58,
   "id": "2ab8984b-01d9-4cdb-a015-923567f6a42a",
   "metadata": {},
   "outputs": [
    {
     "data": {
      "text/plain": [
       "'dataanalyst'"
      ]
     },
     "execution_count": 58,
     "metadata": {},
     "output_type": "execute_result"
    }
   ],
   "source": [
    "s3[0:11]"
   ]
  },
  {
   "cell_type": "code",
   "execution_count": 60,
   "id": "12c74232-1e12-4d5b-9e86-1c52e9383a0e",
   "metadata": {},
   "outputs": [
    {
     "data": {
      "text/plain": [
       "'dataanalyst'"
      ]
     },
     "execution_count": 60,
     "metadata": {},
     "output_type": "execute_result"
    }
   ],
   "source": [
    "s3"
   ]
  },
  {
   "cell_type": "code",
   "execution_count": 62,
   "id": "6162a826-979d-4f98-b4af-8d2621080181",
   "metadata": {},
   "outputs": [
    {
     "data": {
      "text/plain": [
       "'st'"
      ]
     },
     "execution_count": 62,
     "metadata": {},
     "output_type": "execute_result"
    }
   ],
   "source": [
    "s3[9:12]"
   ]
  },
  {
   "cell_type": "code",
   "execution_count": 64,
   "id": "ae77e4a0-dcf1-45d1-a1cd-7bc32a8c4406",
   "metadata": {},
   "outputs": [
    {
     "data": {
      "text/plain": [
       "'dtaayt'"
      ]
     },
     "execution_count": 64,
     "metadata": {},
     "output_type": "execute_result"
    }
   ],
   "source": [
    "s3[0:11:2]"
   ]
  },
  {
   "cell_type": "code",
   "execution_count": 66,
   "id": "c0dc55b0-1838-4a1b-aabb-54f62a12019a",
   "metadata": {},
   "outputs": [
    {
     "data": {
      "text/plain": [
       "'daas'"
      ]
     },
     "execution_count": 66,
     "metadata": {},
     "output_type": "execute_result"
    }
   ],
   "source": [
    "s3[0:11:3]"
   ]
  },
  {
   "cell_type": "code",
   "execution_count": 68,
   "id": "1a902de2-5458-47e3-b9d0-81db6bbf6836",
   "metadata": {},
   "outputs": [
    {
     "data": {
      "text/plain": [
       "'taanaly'"
      ]
     },
     "execution_count": 68,
     "metadata": {},
     "output_type": "execute_result"
    }
   ],
   "source": [
    "s3[2:-2]"
   ]
  },
  {
   "cell_type": "code",
   "execution_count": 72,
   "id": "42d46565-51cd-4a2c-835b-627b8cc38b2a",
   "metadata": {},
   "outputs": [
    {
     "name": "stdout",
     "output_type": "stream",
     "text": [
      "d\n",
      "a\n",
      "t\n",
      "a\n",
      "a\n",
      "n\n",
      "a\n",
      "l\n",
      "y\n",
      "s\n",
      "t\n"
     ]
    }
   ],
   "source": [
    "for i in s3:\n",
    "   print(i)"
   ]
  },
  {
   "cell_type": "markdown",
   "id": "775ad0dd-aae1-4c31-8660-6bd5e0ac5650",
   "metadata": {},
   "source": [
    "# IMPORT NUMPY"
   ]
  },
  {
   "cell_type": "code",
   "execution_count": 76,
   "id": "2c2e53f3-0757-4316-a2f9-16f95ff6804f",
   "metadata": {},
   "outputs": [
    {
     "data": {
      "text/plain": [
       "nan"
      ]
     },
     "execution_count": 76,
     "metadata": {},
     "output_type": "execute_result"
    }
   ],
   "source": [
    "import numpy as np\n",
    "a = np.nan\n",
    "a"
   ]
  },
  {
   "cell_type": "code",
   "execution_count": 81,
   "id": "66505a37-d73d-438a-8ea1-c8211c81870d",
   "metadata": {},
   "outputs": [
    {
     "data": {
      "text/plain": [
       "float"
      ]
     },
     "execution_count": 81,
     "metadata": {},
     "output_type": "execute_result"
    }
   ],
   "source": [
    "type(a)"
   ]
  },
  {
   "cell_type": "code",
   "execution_count": 99,
   "id": "000eab4a-8634-4e5b-b071-3d9fdf587c19",
   "metadata": {},
   "outputs": [
    {
     "name": "stdout",
     "output_type": "stream",
     "text": [
      "The sum of 100 200 & 300 is: 600\n"
     ]
    }
   ],
   "source": [
    "s1 = 100\n",
    "s2 = 200\n",
    "s3 = 300\n",
    "add = s1 + s2 + s3\n",
    "print('The sum of',s1, s2,'&',s3,'is:' ,add)"
   ]
  },
  {
   "cell_type": "code",
   "execution_count": 93,
   "id": "6fb62aef-d97d-47e5-8bde-ffa4fd4a10f5",
   "metadata": {},
   "outputs": [
    {
     "name": "stdout",
     "output_type": "stream",
     "text": [
      "The sum of 100 200 & 300 is: 600\n"
     ]
    }
   ],
   "source": [
    "s1 = 100\n",
    "s2 = 200\n",
    "s3 = 300\n",
    "add = s1 + s2 + s3\n",
    "print(f'The sum of {s1} {s2} & {s3} is: {add}')"
   ]
  },
  {
   "cell_type": "code",
   "execution_count": 117,
   "id": "01dcc891-6a99-474a-8739-bfa78fd71530",
   "metadata": {},
   "outputs": [
    {
     "name": "stdout",
     "output_type": "stream",
     "text": [
      "Hello! How are you?\n"
     ]
    }
   ],
   "source": [
    "print(\"Hello!\",end =' ')\n",
    "print( \"How are you?\")"
   ]
  },
  {
   "cell_type": "code",
   "execution_count": 107,
   "id": "03d49358-df17-4772-be52-a019d7febb28",
   "metadata": {},
   "outputs": [
    {
     "name": "stdout",
     "output_type": "stream",
     "text": [
      "Jan-->Feb-->Mar-->Apr\n"
     ]
    }
   ],
   "source": [
    "print(\"Jan\",\"Feb\",\"Mar\",\"Apr\",sep = '-->')"
   ]
  },
  {
   "cell_type": "code",
   "execution_count": 109,
   "id": "d3f89e69-7768-403b-95c5-c0e1e2441575",
   "metadata": {},
   "outputs": [
    {
     "name": "stdout",
     "output_type": "stream",
     "text": [
      "Sun#Mon#Tue\n"
     ]
    }
   ],
   "source": [
    "print(\"Sun\",\"Mon\",\"Tue\",sep = '#')"
   ]
  },
  {
   "cell_type": "code",
   "execution_count": 115,
   "id": "4a807743-2a95-4951-9284-401baa35174b",
   "metadata": {},
   "outputs": [
    {
     "name": "stdout",
     "output_type": "stream",
     "text": [
      "1 2 3.\n"
     ]
    }
   ],
   "source": [
    "print(1,2,end = ' ')\n",
    "print(3,'.',sep = '')"
   ]
  },
  {
   "cell_type": "markdown",
   "id": "6e30dbbb-b9c7-466f-9efc-d11ea6d55cd4",
   "metadata": {},
   "source": [
    "# IN AND NOT IN "
   ]
  },
  {
   "cell_type": "code",
   "execution_count": 119,
   "id": "1e47fed9-008e-4927-b1af-4c5127a9baa9",
   "metadata": {},
   "outputs": [
    {
     "data": {
      "text/plain": [
       "True"
      ]
     },
     "execution_count": 119,
     "metadata": {},
     "output_type": "execute_result"
    }
   ],
   "source": [
    "'Hello' in 'Hello World'"
   ]
  },
  {
   "cell_type": "code",
   "execution_count": 121,
   "id": "3865a7d9-197a-42bb-83da-c16de513899e",
   "metadata": {},
   "outputs": [
    {
     "data": {
      "text/plain": [
       "False"
      ]
     },
     "execution_count": 121,
     "metadata": {},
     "output_type": "execute_result"
    }
   ],
   "source": [
    "'Hello' not in 'Hello World'"
   ]
  },
  {
   "cell_type": "markdown",
   "id": "218a4d89-f524-46f3-9801-4719fb074df8",
   "metadata": {},
   "source": [
    "# REPLACE IN PYTHON "
   ]
  },
  {
   "cell_type": "code",
   "execution_count": 125,
   "id": "2ec91dde-2b12-4653-a2d1-f2035e851144",
   "metadata": {},
   "outputs": [
    {
     "data": {
      "text/plain": [
       "'Programming Language'"
      ]
     },
     "execution_count": 125,
     "metadata": {},
     "output_type": "execute_result"
    }
   ],
   "source": [
    "text = \"Python Language\"\n",
    "text.replace(\"Python\",\"Programming\")"
   ]
  },
  {
   "cell_type": "code",
   "execution_count": 130,
   "id": "253f4a6d-aa7f-4894-8027-58cc9fdb8aed",
   "metadata": {},
   "outputs": [
    {
     "data": {
      "text/plain": [
       "'cherry, mango, cherry, orange'"
      ]
     },
     "execution_count": 130,
     "metadata": {},
     "output_type": "execute_result"
    }
   ],
   "source": [
    "fruits = \"apple, mango, apple, orange\"\n",
    "fruits.replace(\"apple\", \"cherry\", 3)"
   ]
  },
  {
   "cell_type": "code",
   "execution_count": 132,
   "id": "8b7c7db5-f8d6-48b2-9305-1698e72c62cc",
   "metadata": {},
   "outputs": [
    {
     "name": "stdout",
     "output_type": "stream",
     "text": [
      "apple, mango, apple, orange\n"
     ]
    }
   ],
   "source": [
    "fruits = \"apple, mango, apple, orange\"\n",
    "print(fruits)"
   ]
  },
  {
   "cell_type": "code",
   "execution_count": 134,
   "id": "c76f0ee8-4051-408f-b3ae-4d349b480b96",
   "metadata": {},
   "outputs": [
    {
     "data": {
      "text/plain": [
       "'jackfruit, mango, jackfruit, orange'"
      ]
     },
     "execution_count": 134,
     "metadata": {},
     "output_type": "execute_result"
    }
   ],
   "source": [
    "fruits.replace(\"apple\",\"jackfruit\",100)"
   ]
  },
  {
   "cell_type": "markdown",
   "id": "cb26729e-203b-47be-b612-07274180af49",
   "metadata": {},
   "source": [
    "# MANIPULATING STRINGS"
   ]
  },
  {
   "cell_type": "code",
   "execution_count": 139,
   "id": "c8bce1fd-9ce6-44cc-ac08-25342fb465d4",
   "metadata": {},
   "outputs": [
    {
     "name": "stdout",
     "output_type": "stream",
     "text": [
      "Hello 'how are you?'\n"
     ]
    }
   ],
   "source": [
    "print(\"Hello \\'how are you?\\'\")"
   ]
  },
  {
   "cell_type": "code",
   "execution_count": 141,
   "id": "8cd68ebf-9a26-463b-8a86-56f824246a8d",
   "metadata": {},
   "outputs": [
    {
     "name": "stdout",
     "output_type": "stream",
     "text": [
      "Hello \"how are you?\"\n"
     ]
    }
   ],
   "source": [
    "print(\"Hello \\\"how are you?\\\"\")"
   ]
  },
  {
   "cell_type": "code",
   "execution_count": 143,
   "id": "b423b685-edb6-493b-a5dd-da9a2457b4ca",
   "metadata": {},
   "outputs": [
    {
     "name": "stdout",
     "output_type": "stream",
     "text": [
      "Hello. \\What is your name?\\\n"
     ]
    }
   ],
   "source": [
    "print(\"Hello. \\\\What is your name?\\\\\")"
   ]
  },
  {
   "cell_type": "code",
   "execution_count": 145,
   "id": "a9167f59-37ac-43e6-bd4a-b1132e0cbd12",
   "metadata": {},
   "outputs": [
    {
     "name": "stdout",
     "output_type": "stream",
     "text": [
      "Hello.\\\n"
     ]
    }
   ],
   "source": [
    "print(\"Hello.\\\\\")"
   ]
  },
  {
   "cell_type": "code",
   "execution_count": 147,
   "id": "fae85af1-d42f-4e42-9638-a68b67204072",
   "metadata": {},
   "outputs": [
    {
     "name": "stdout",
     "output_type": "stream",
     "text": [
      "1ello\n"
     ]
    }
   ],
   "source": [
    "print(\"Hello\\r1\")"
   ]
  },
  {
   "cell_type": "code",
   "execution_count": 157,
   "id": "e5d0198f-46ff-4f69-9a36-8950c520a70d",
   "metadata": {},
   "outputs": [
    {
     "name": "stdout",
     "output_type": "stream",
     "text": [
      "17i bye\n"
     ]
    }
   ],
   "source": [
    "print(\"Hai bye\\r17\")"
   ]
  },
  {
   "cell_type": "code",
   "execution_count": 161,
   "id": "db37e6de-2617-4641-b3ff-26f5016fde5c",
   "metadata": {},
   "outputs": [
    {
     "name": "stdout",
     "output_type": "stream",
     "text": [
      "haihello world\\bbye\n"
     ]
    }
   ],
   "source": [
    "s = (r'haihello world\\bbye')\n",
    "print(s)"
   ]
  },
  {
   "cell_type": "markdown",
   "id": "b2497a57-cb35-430a-8ae0-0264754469b4",
   "metadata": {},
   "source": [
    "# ISAL,ISDECIMAL,ISSPACE,ISTITLE"
   ]
  },
  {
   "cell_type": "code",
   "execution_count": 163,
   "id": "fefdf47c-f6bd-483f-815b-04868b87b50e",
   "metadata": {},
   "outputs": [
    {
     "name": "stdout",
     "output_type": "stream",
     "text": [
      "True\n"
     ]
    }
   ],
   "source": [
    "p = \"333\"\n",
    "print(p.isalnum())"
   ]
  },
  {
   "cell_type": "code",
   "execution_count": 165,
   "id": "e2a1433e-1d83-4f83-b033-8b96e7a44e1f",
   "metadata": {},
   "outputs": [
    {
     "name": "stdout",
     "output_type": "stream",
     "text": [
      "HELLO WORLD\n"
     ]
    }
   ],
   "source": [
    "p = \"hello World\"\n",
    "print(p.upper())"
   ]
  },
  {
   "cell_type": "code",
   "execution_count": 167,
   "id": "0b0fb5d6-2afd-4d6a-a67c-100fe84d24eb",
   "metadata": {},
   "outputs": [
    {
     "data": {
      "text/plain": [
       "False"
      ]
     },
     "execution_count": 167,
     "metadata": {},
     "output_type": "execute_result"
    }
   ],
   "source": [
    "m = \"33 33\"\n",
    "p.isalnum()"
   ]
  },
  {
   "cell_type": "code",
   "execution_count": 169,
   "id": "5a48c2d4-86f7-4858-8880-2015ac95ca0b",
   "metadata": {},
   "outputs": [
    {
     "data": {
      "text/plain": [
       "False"
      ]
     },
     "execution_count": 169,
     "metadata": {},
     "output_type": "execute_result"
    }
   ],
   "source": [
    "m = \"sefs\"\n",
    "m.isdecimal()"
   ]
  },
  {
   "cell_type": "code",
   "execution_count": 171,
   "id": "292ab27d-c8ec-4de3-abba-16798f0afb42",
   "metadata": {},
   "outputs": [
    {
     "data": {
      "text/plain": [
       "False"
      ]
     },
     "execution_count": 171,
     "metadata": {},
     "output_type": "execute_result"
    }
   ],
   "source": [
    "m1 = \"sdfv\\tdf\"\n",
    "m1.isspace()"
   ]
  },
  {
   "cell_type": "code",
   "execution_count": 173,
   "id": "8709eb59-b707-4cd1-a4c6-2c37fb1d33da",
   "metadata": {},
   "outputs": [
    {
     "data": {
      "text/plain": [
       "True"
      ]
     },
     "execution_count": 173,
     "metadata": {},
     "output_type": "execute_result"
    }
   ],
   "source": [
    "r = \"Hello World\"\n",
    "r.istitle()"
   ]
  },
  {
   "cell_type": "code",
   "execution_count": 176,
   "id": "c1c0dfa1-edb9-40fc-bbfb-cd3f23351996",
   "metadata": {},
   "outputs": [
    {
     "data": {
      "text/plain": [
       "False"
      ]
     },
     "execution_count": 176,
     "metadata": {},
     "output_type": "execute_result"
    }
   ],
   "source": [
    "'Hello world'.startswith('uuuu')"
   ]
  },
  {
   "cell_type": "code",
   "execution_count": 180,
   "id": "97443d33-41a7-43b8-b77d-ec0bba8580d6",
   "metadata": {},
   "outputs": [
    {
     "data": {
      "text/plain": [
       "False"
      ]
     },
     "execution_count": 180,
     "metadata": {},
     "output_type": "execute_result"
    }
   ],
   "source": [
    "'Hello world'.startswith('uuuu')"
   ]
  },
  {
   "cell_type": "code",
   "execution_count": 182,
   "id": "91cadaa7-d1d7-4e6d-9188-9c2bf48e2661",
   "metadata": {},
   "outputs": [
    {
     "data": {
      "text/plain": [
       "False"
      ]
     },
     "execution_count": 182,
     "metadata": {},
     "output_type": "execute_result"
    }
   ],
   "source": [
    "\"hai hello\".endswith('helloy7987')"
   ]
  },
  {
   "cell_type": "code",
   "execution_count": 184,
   "id": "4b85eeda-38fe-451c-94f6-6bb6fbc646b9",
   "metadata": {},
   "outputs": [
    {
     "data": {
      "text/plain": [
       "'HaiABCHelloABCBye'"
      ]
     },
     "execution_count": 184,
     "metadata": {},
     "output_type": "execute_result"
    }
   ],
   "source": [
    "'ABC'.join(['Hai','Hello','Bye'])"
   ]
  },
  {
   "cell_type": "code",
   "execution_count": 186,
   "id": "3c210c14-e41c-4240-a10d-102b01f13edc",
   "metadata": {},
   "outputs": [
    {
     "data": {
      "text/plain": [
       "'Hai ,Hello ,Bye'"
      ]
     },
     "execution_count": 186,
     "metadata": {},
     "output_type": "execute_result"
    }
   ],
   "source": [
    "' ,'.join(['Hai','Hello','Bye'])"
   ]
  },
  {
   "cell_type": "code",
   "execution_count": 188,
   "id": "d330aa30-8275-4f00-a74c-6249bc60070e",
   "metadata": {},
   "outputs": [
    {
     "data": {
      "text/plain": [
       "'Hai ,Hello ,Bye'"
      ]
     },
     "execution_count": 188,
     "metadata": {},
     "output_type": "execute_result"
    }
   ],
   "source": [
    " 'Hai ,Hello ,Bye'"
   ]
  },
  {
   "cell_type": "code",
   "execution_count": 202,
   "id": "21aa7b43-e1e4-4bb0-b164-30f02d56448d",
   "metadata": {},
   "outputs": [
    {
     "data": {
      "text/plain": [
       "['Ha', ' ', 'm stud', 'ng python']"
      ]
     },
     "execution_count": 202,
     "metadata": {},
     "output_type": "execute_result"
    }
   ],
   "source": [
    "'Hai im studing python'.split('i')"
   ]
  },
  {
   "cell_type": "markdown",
   "id": "0349c426-235d-43e4-bc20-0291ebca0f8c",
   "metadata": {},
   "source": [
    "# CENTRE,RIGHT,LEFT ALIGNMENT"
   ]
  },
  {
   "cell_type": "code",
   "execution_count": 192,
   "id": "4112bc84-aa69-47bd-93cf-3925ffe801bd",
   "metadata": {},
   "outputs": [
    {
     "data": {
      "text/plain": [
       "'&&&&&&&&&Hello World'"
      ]
     },
     "execution_count": 192,
     "metadata": {},
     "output_type": "execute_result"
    }
   ],
   "source": [
    "'Hello World'.rjust(20,'&')"
   ]
  },
  {
   "cell_type": "code",
   "execution_count": 194,
   "id": "cf1fec29-f49b-49b6-8188-0e8c9a0b0912",
   "metadata": {},
   "outputs": [
    {
     "data": {
      "text/plain": [
       "'Hello world-------------------'"
      ]
     },
     "execution_count": 194,
     "metadata": {},
     "output_type": "execute_result"
    }
   ],
   "source": [
    "'Hello world'.ljust(30,'-')"
   ]
  },
  {
   "cell_type": "code",
   "execution_count": 205,
   "id": "80e12a35-4169-4622-b9e0-40ea135b5650",
   "metadata": {},
   "outputs": [
    {
     "data": {
      "text/plain": [
       "'*********Hello world**********'"
      ]
     },
     "execution_count": 205,
     "metadata": {},
     "output_type": "execute_result"
    }
   ],
   "source": [
    "'Hello world'.center(30,'*')"
   ]
  },
  {
   "cell_type": "code",
   "execution_count": 207,
   "id": "e654e7ea-62c6-44c3-b3c4-07b7a7057280",
   "metadata": {},
   "outputs": [
    {
     "data": {
      "text/plain": [
       "'Hello World'"
      ]
     },
     "execution_count": 207,
     "metadata": {},
     "output_type": "execute_result"
    }
   ],
   "source": [
    "s = ' Hello World '\n",
    "s.strip()"
   ]
  },
  {
   "cell_type": "code",
   "execution_count": 209,
   "id": "691b1239-d778-4533-a8c5-84b73e85d879",
   "metadata": {},
   "outputs": [
    {
     "data": {
      "text/plain": [
       "'pamSpamBaconSpamEggsSpamSp'"
      ]
     },
     "execution_count": 209,
     "metadata": {},
     "output_type": "execute_result"
    }
   ],
   "source": [
    "spam = 'SpamSpamBaconSpamEggsSpamSpam'\n",
    "spam.strip('amS')"
   ]
  },
  {
   "cell_type": "code",
   "execution_count": 211,
   "id": "80cb4fc8-9011-4462-bf41-6a8868f2bc29",
   "metadata": {},
   "outputs": [
    {
     "data": {
      "text/plain": [
       "1"
      ]
     },
     "execution_count": 211,
     "metadata": {},
     "output_type": "execute_result"
    }
   ],
   "source": [
    "sent = (\"Thids isdsdss dsfdfal\")\n",
    "sent.count('d',6,9)"
   ]
  },
  {
   "cell_type": "code",
   "execution_count": 213,
   "id": "8f7f999c-09f1-4383-93f6-13c74c89b445",
   "metadata": {},
   "outputs": [
    {
     "data": {
      "text/plain": [
       "'Hello Hai Hello What Hai'"
      ]
     },
     "execution_count": 213,
     "metadata": {},
     "output_type": "execute_result"
    }
   ],
   "source": [
    "text = 'Hello World Hello What World'\n",
    "text.replace(\"World\",\"Hai\",2)"
   ]
  },
  {
   "cell_type": "code",
   "execution_count": 215,
   "id": "8f5cc451-fd14-4e1d-b92b-ba06d2fc595f",
   "metadata": {},
   "outputs": [
    {
     "name": "stdout",
     "output_type": "stream",
     "text": [
      "My class is Four and im in school XYZ\n"
     ]
    }
   ],
   "source": [
    "class1 = 'Four'\n",
    "school = 'XYZ'\n",
    "print('My class is {} and im in school {}'.format(class1, school))"
   ]
  },
  {
   "cell_type": "code",
   "execution_count": 223,
   "id": "e6492f4a-3207-4335-88c8-5f737205a78f",
   "metadata": {},
   "outputs": [
    {
     "data": {
      "text/plain": [
       "'My name is Teju.Im in section A'"
      ]
     },
     "execution_count": 223,
     "metadata": {},
     "output_type": "execute_result"
    }
   ],
   "source": [
    "name = 'Teju'\n",
    "section = 'A'\n",
    "(f'My name is {name}.'\n",
    "f'Im in section {section}'\n",
    ")"
   ]
  },
  {
   "cell_type": "code",
   "execution_count": 225,
   "id": "cbeaa26b-f7c3-4f46-9dc9-ec6ea2964c25",
   "metadata": {},
   "outputs": [
    {
     "data": {
      "text/plain": [
       "'Hai world'"
      ]
     },
     "execution_count": 225,
     "metadata": {},
     "output_type": "execute_result"
    }
   ],
   "source": [
    "p = \"hai world\"\n",
    "p.capitalize()"
   ]
  },
  {
   "cell_type": "code",
   "execution_count": 227,
   "id": "0b0c6362-2769-4df3-b24d-acfc735b4d73",
   "metadata": {},
   "outputs": [
    {
     "data": {
      "text/plain": [
       "1"
      ]
     },
     "execution_count": 227,
     "metadata": {},
     "output_type": "execute_result"
    }
   ],
   "source": [
    "min([2,5,6,3,1])"
   ]
  },
  {
   "cell_type": "code",
   "execution_count": 229,
   "id": "1e70983a-b834-4d7d-a51b-99e7955cd682",
   "metadata": {},
   "outputs": [
    {
     "data": {
      "text/plain": [
       "'abcabcabc'"
      ]
     },
     "execution_count": 229,
     "metadata": {},
     "output_type": "execute_result"
    }
   ],
   "source": [
    "s = 'abc'\n",
    "s*3"
   ]
  },
  {
   "cell_type": "code",
   "execution_count": 231,
   "id": "58d46606-a54d-4d0d-9af0-413336238951",
   "metadata": {},
   "outputs": [
    {
     "data": {
      "text/plain": [
       "'a'"
      ]
     },
     "execution_count": 231,
     "metadata": {},
     "output_type": "execute_result"
    }
   ],
   "source": [
    "s[0]"
   ]
  },
  {
   "cell_type": "code",
   "execution_count": 233,
   "id": "f809bab2-6f37-4793-968d-3774a0e8da39",
   "metadata": {},
   "outputs": [
    {
     "data": {
      "text/plain": [
       "'abc'"
      ]
     },
     "execution_count": 233,
     "metadata": {},
     "output_type": "execute_result"
    }
   ],
   "source": [
    "s.center(2)"
   ]
  },
  {
   "cell_type": "code",
   "execution_count": 235,
   "id": "3ea2a955-ce94-4510-a52b-b30c991afa12",
   "metadata": {},
   "outputs": [
    {
     "data": {
      "text/plain": [
       "False"
      ]
     },
     "execution_count": 235,
     "metadata": {},
     "output_type": "execute_result"
    }
   ],
   "source": [
    "a = 'entrance'\n",
    "a.isspace()"
   ]
  },
  {
   "cell_type": "code",
   "execution_count": 237,
   "id": "afd330c5-d88c-4b56-9c70-b3e85f0bd86f",
   "metadata": {},
   "outputs": [
    {
     "data": {
      "text/plain": [
       "False"
      ]
     },
     "execution_count": 237,
     "metadata": {},
     "output_type": "execute_result"
    }
   ],
   "source": [
    "a = 'Abc'\n",
    "a.islower()"
   ]
  },
  {
   "cell_type": "code",
   "execution_count": 239,
   "id": "f051cf3e-5eef-4d43-9636-b1e34d3fe6c3",
   "metadata": {},
   "outputs": [
    {
     "data": {
      "text/plain": [
       "(1+0j)"
      ]
     },
     "execution_count": 239,
     "metadata": {},
     "output_type": "execute_result"
    }
   ],
   "source": [
    "complex(True)"
   ]
  },
  {
   "cell_type": "code",
   "execution_count": 241,
   "id": "9d4e6088-bc97-4263-9459-80136874cbab",
   "metadata": {},
   "outputs": [
    {
     "data": {
      "text/plain": [
       "0j"
      ]
     },
     "execution_count": 241,
     "metadata": {},
     "output_type": "execute_result"
    }
   ],
   "source": [
    "complex(False)"
   ]
  },
  {
   "cell_type": "code",
   "execution_count": 243,
   "id": "886a6911-1196-4634-a297-cb096b3e4955",
   "metadata": {},
   "outputs": [
    {
     "data": {
      "text/plain": [
       "True"
      ]
     },
     "execution_count": 243,
     "metadata": {},
     "output_type": "execute_result"
    }
   ],
   "source": [
    "bool(1)"
   ]
  },
  {
   "cell_type": "code",
   "execution_count": 245,
   "id": "c06d191b-82cd-4512-b320-bbb501420f7a",
   "metadata": {},
   "outputs": [
    {
     "data": {
      "text/plain": [
       "False"
      ]
     },
     "execution_count": 245,
     "metadata": {},
     "output_type": "execute_result"
    }
   ],
   "source": [
    "bool(0)"
   ]
  },
  {
   "cell_type": "code",
   "execution_count": 247,
   "id": "a710985a-8191-479c-a72d-3c3a8cd04fbb",
   "metadata": {},
   "outputs": [
    {
     "data": {
      "text/plain": [
       "True"
      ]
     },
     "execution_count": 247,
     "metadata": {},
     "output_type": "execute_result"
    }
   ],
   "source": [
    "bool(2.3)"
   ]
  },
  {
   "cell_type": "code",
   "execution_count": 249,
   "id": "391a26d3-eb3a-4535-a676-8ea704fa1ff3",
   "metadata": {},
   "outputs": [
    {
     "data": {
      "text/plain": [
       "False"
      ]
     },
     "execution_count": 249,
     "metadata": {},
     "output_type": "execute_result"
    }
   ],
   "source": [
    "bool( )"
   ]
  },
  {
   "cell_type": "code",
   "execution_count": 251,
   "id": "907f85f1-da5e-4ea7-9484-eeb5bcfde785",
   "metadata": {},
   "outputs": [
    {
     "data": {
      "text/plain": [
       "True"
      ]
     },
     "execution_count": 251,
     "metadata": {},
     "output_type": "execute_result"
    }
   ],
   "source": [
    "bool('nit')"
   ]
  },
  {
   "cell_type": "code",
   "execution_count": 253,
   "id": "dd8caf33-0cbd-4172-b895-ade92249b47a",
   "metadata": {},
   "outputs": [
    {
     "data": {
      "text/plain": [
       "False"
      ]
     },
     "execution_count": 253,
     "metadata": {},
     "output_type": "execute_result"
    }
   ],
   "source": [
    "bool(0+0j)"
   ]
  },
  {
   "cell_type": "code",
   "execution_count": 255,
   "id": "22b70574-1255-4d73-8912-8f23b3541e03",
   "metadata": {},
   "outputs": [
    {
     "name": "stdout",
     "output_type": "stream",
     "text": [
      "2\n"
     ]
    }
   ],
   "source": [
    "print(str(2))"
   ]
  },
  {
   "cell_type": "code",
   "execution_count": 257,
   "id": "fabb353e-3cf3-4e5e-9a05-2e2fd24459a9",
   "metadata": {},
   "outputs": [
    {
     "name": "stdout",
     "output_type": "stream",
     "text": [
      "2.3\n"
     ]
    }
   ],
   "source": [
    "print(str(2.3))"
   ]
  },
  {
   "cell_type": "code",
   "execution_count": 259,
   "id": "4bf1507c-14e3-4d4d-a659-e349c4a8cf11",
   "metadata": {},
   "outputs": [
    {
     "name": "stdout",
     "output_type": "stream",
     "text": [
      "True\n"
     ]
    }
   ],
   "source": [
    "print(str(True))"
   ]
  },
  {
   "cell_type": "code",
   "execution_count": 261,
   "id": "66a94084-b5d4-495a-8ac4-7296fbe9fbcd",
   "metadata": {},
   "outputs": [
    {
     "name": "stdout",
     "output_type": "stream",
     "text": [
      "(1+2j)\n"
     ]
    }
   ],
   "source": [
    "print(str(1+2j))"
   ]
  },
  {
   "cell_type": "markdown",
   "id": "3d692123-71b9-4aa3-825f-1ec0515d11c4",
   "metadata": {},
   "source": [
    "# MATPLOT LIBRARY"
   ]
  },
  {
   "cell_type": "code",
   "execution_count": 274,
   "id": "6a392233-5120-41db-977d-ba33b5ca48f5",
   "metadata": {},
   "outputs": [
    {
     "data": {
      "image/png": "[encoded data removed]",
      "text/plain": [
       "<Figure size 640x480 with 1 Axes>"
      ]
     },
     "metadata": {},
     "output_type": "display_data"
    }
   ],
   "source": [
    "import matplotlib.pyplot as plt\n",
    "plt.plot([1,8,27,64])\n",
    "plt.ylabel('Numbers')\n",
    "plt.show()"
   ]
  },
  {
   "cell_type": "code",
   "execution_count": 276,
   "id": "7c485eed-228e-4e8d-84a3-6e755539bd9c",
   "metadata": {},
   "outputs": [
    {
     "data": {
      "image/png": "[encoded data removed]",
      "text/plain": [
       "<Figure size 640x480 with 1 Axes>"
      ]
     },
     "metadata": {},
     "output_type": "display_data"
    }
   ],
   "source": [
    "import matplotlib.pyplot as plt\n",
    "plt.plot([1,2,3,4])\n",
    "plt.ylabel('Numbers')\n",
    "plt.show()"
   ]
  },
  {
   "cell_type": "markdown",
   "id": "3576e576-4e76-43cf-9178-3aa21d43574b",
   "metadata": {},
   "source": [
    "# DATA STRUCTURE "
   ]
  },
  {
   "cell_type": "markdown",
   "id": "d63a25e9-11d2-4b05-9b33-ee73def7df6f",
   "metadata": {},
   "source": [
    "# LIST DATA STRUCTURE "
   ]
  },
  {
   "cell_type": "code",
   "execution_count": 3,
   "id": "e10b73c9-bb96-42e3-afad-e861fb1f97a6",
   "metadata": {},
   "outputs": [],
   "source": [
    "l = []"
   ]
  },
  {
   "cell_type": "code",
   "execution_count": 5,
   "id": "7e77a29c-6eaf-44e2-acbb-1568fc37afb5",
   "metadata": {},
   "outputs": [
    {
     "data": {
      "text/plain": [
       "list"
      ]
     },
     "execution_count": 5,
     "metadata": {},
     "output_type": "execute_result"
    }
   ],
   "source": [
    "type(l)"
   ]
  },
  {
   "cell_type": "code",
   "execution_count": 33,
   "id": "93452503-bd54-4c74-a516-3a63dd11e374",
   "metadata": {},
   "outputs": [
    {
     "data": {
      "text/plain": [
       "[10, 20, 30, 2.3, (1+2j), True, 'nit']"
      ]
     },
     "execution_count": 33,
     "metadata": {},
     "output_type": "execute_result"
    }
   ],
   "source": [
    "l = []\n",
    "l.append(10)\n",
    "l.append(20)\n",
    "l.append(30)\n",
    "l.append(2.3)\n",
    "l.append(1+2j)\n",
    "l.append(True)\n",
    "l.append('nit')\n",
    "l"
   ]
  },
  {
   "cell_type": "code",
   "execution_count": 35,
   "id": "7e901117-5352-4ccb-a63b-ce0b597389ea",
   "metadata": {},
   "outputs": [
    {
     "name": "stdout",
     "output_type": "stream",
     "text": [
      "[10, 20, 30, 2.3, (1+2j), True, 'nit']\n"
     ]
    }
   ],
   "source": [
    "print(l)"
   ]
  },
  {
   "cell_type": "code",
   "execution_count": 39,
   "id": "54c94df2-6447-455c-9352-3d4cb24725b2",
   "metadata": {},
   "outputs": [
    {
     "data": {
      "text/plain": [
       "1"
      ]
     },
     "execution_count": 39,
     "metadata": {},
     "output_type": "execute_result"
    }
   ],
   "source": [
    "l.count(20)"
   ]
  },
  {
   "cell_type": "code",
   "execution_count": 41,
   "id": "58805e99-2cf9-4981-8650-bce0c872fb36",
   "metadata": {},
   "outputs": [
    {
     "data": {
      "text/plain": [
       "7"
      ]
     },
     "execution_count": 41,
     "metadata": {},
     "output_type": "execute_result"
    }
   ],
   "source": [
    "len(l)"
   ]
  },
  {
   "cell_type": "code",
   "execution_count": 43,
   "id": "2354a6ae-c89d-4639-bc27-57fec1c67443",
   "metadata": {},
   "outputs": [
    {
     "data": {
      "text/plain": [
       "[10, 20, 30, 2.3, (1+2j), True, 'nit', 10]"
      ]
     },
     "execution_count": 43,
     "metadata": {},
     "output_type": "execute_result"
    }
   ],
   "source": [
    "l.append(10)\n",
    "l"
   ]
  },
  {
   "cell_type": "code",
   "execution_count": 47,
   "id": "e60ec3e4-f75d-45a3-8051-a46e5848d544",
   "metadata": {},
   "outputs": [
    {
     "data": {
      "text/plain": [
       "[10, 30, 2.3, (1+2j), True, 'nit', 10]"
      ]
     },
     "execution_count": 47,
     "metadata": {},
     "output_type": "execute_result"
    }
   ],
   "source": [
    "l.remove(20)\n",
    "l"
   ]
  },
  {
   "cell_type": "code",
   "execution_count": 49,
   "id": "c30e30d1-7eef-40d5-96eb-5b493c5fa5f4",
   "metadata": {},
   "outputs": [
    {
     "data": {
      "text/plain": [
       "[10, 30, 2.3, (1+2j), True, 'nit', 10]"
      ]
     },
     "execution_count": 49,
     "metadata": {},
     "output_type": "execute_result"
    }
   ],
   "source": [
    "l[:]"
   ]
  },
  {
   "cell_type": "code",
   "execution_count": 55,
   "id": "49a5a7b9-9a35-4ae2-8590-3b5bcf6bd572",
   "metadata": {},
   "outputs": [
    {
     "data": {
      "text/plain": [
       "True"
      ]
     },
     "execution_count": 55,
     "metadata": {},
     "output_type": "execute_result"
    }
   ],
   "source": [
    "l[4]"
   ]
  },
  {
   "cell_type": "code",
   "execution_count": 57,
   "id": "af595190-376a-4276-94c0-1801b6c1e425",
   "metadata": {},
   "outputs": [
    {
     "name": "stdout",
     "output_type": "stream",
     "text": [
      "[10, 30, 2.3, (1+2j), True, 'nit', 10]\n"
     ]
    }
   ],
   "source": [
    "l1 = l.copy()\n",
    "print(l1)"
   ]
  },
  {
   "cell_type": "code",
   "execution_count": 59,
   "id": "f251e985-fde6-40dc-b12c-f7acb1555ab7",
   "metadata": {},
   "outputs": [
    {
     "data": {
      "text/plain": [
       "1"
      ]
     },
     "execution_count": 59,
     "metadata": {},
     "output_type": "execute_result"
    }
   ],
   "source": [
    "l.count(30)"
   ]
  },
  {
   "cell_type": "code",
   "execution_count": 61,
   "id": "e183f72a-3cc6-44a7-9a49-1c1356d4888e",
   "metadata": {},
   "outputs": [
    {
     "name": "stdout",
     "output_type": "stream",
     "text": [
      "[10, 30, 2.3, (1+2j), True, 'nit', 10, 20]\n"
     ]
    }
   ],
   "source": [
    "l.append(20)\n",
    "print(l)"
   ]
  },
  {
   "cell_type": "code",
   "execution_count": 65,
   "id": "ca7c577c-24a2-487a-bd71-d0265fd6ec1d",
   "metadata": {},
   "outputs": [
    {
     "data": {
      "text/plain": [
       "[10, 30, 2.3, (1+2j), True, 'nit', 10]"
      ]
     },
     "execution_count": 65,
     "metadata": {},
     "output_type": "execute_result"
    }
   ],
   "source": [
    "l1"
   ]
  },
  {
   "cell_type": "code",
   "execution_count": 71,
   "id": "02fc31c9-7f0e-4b56-b65a-19eea4d6efd6",
   "metadata": {},
   "outputs": [
    {
     "data": {
      "text/plain": [
       "[]"
      ]
     },
     "execution_count": 71,
     "metadata": {},
     "output_type": "execute_result"
    }
   ],
   "source": [
    "l2 = []\n",
    "l2"
   ]
  },
  {
   "cell_type": "code",
   "execution_count": 75,
   "id": "b768d46c-ee94-4eea-a919-9fa64b92c7aa",
   "metadata": {},
   "outputs": [
    {
     "data": {
      "text/plain": [
       "[1, 2.3, True, (1+2j), 'nit', 1, 2.3, True, (1+2j), 'nit']"
      ]
     },
     "execution_count": 75,
     "metadata": {},
     "output_type": "execute_result"
    }
   ],
   "source": [
    "l2.append(1)\n",
    "l2.append(2.3)\n",
    "l2.append(True)\n",
    "l2.append(1+2j)\n",
    "l2.append('nit')\n",
    "l2"
   ]
  },
  {
   "cell_type": "code",
   "execution_count": 82,
   "id": "14481a47-6455-4c83-a7e4-ddeb0dca5580",
   "metadata": {},
   "outputs": [
    {
     "data": {
      "text/plain": [
       "[1, 2.3, True, (1+2j), 'nit', 1, 2.3, True, (1+2j), 'nit']"
      ]
     },
     "execution_count": 82,
     "metadata": {},
     "output_type": "execute_result"
    }
   ],
   "source": [
    "l3 = l2.copy()\n",
    "l3"
   ]
  },
  {
   "cell_type": "code",
   "execution_count": 84,
   "id": "d9066a23-2771-45d1-8586-77e6593d25e4",
   "metadata": {},
   "outputs": [
    {
     "data": {
      "text/plain": [
       "10"
      ]
     },
     "execution_count": 84,
     "metadata": {},
     "output_type": "execute_result"
    }
   ],
   "source": [
    "len(l3)"
   ]
  },
  {
   "cell_type": "code",
   "execution_count": 98,
   "id": "f49cac33-96bd-4426-8739-933db7f27f36",
   "metadata": {},
   "outputs": [],
   "source": [
    "l3.clear()\n"
   ]
  },
  {
   "cell_type": "code",
   "execution_count": 100,
   "id": "64e5a8d0-70f2-497d-a644-534c3f341a57",
   "metadata": {},
   "outputs": [
    {
     "data": {
      "text/plain": [
       "[]"
      ]
     },
     "execution_count": 100,
     "metadata": {},
     "output_type": "execute_result"
    }
   ],
   "source": [
    "l3"
   ]
  },
  {
   "cell_type": "code",
   "execution_count": 112,
   "id": "e0859629-876e-48bb-9717-6ce135649b3a",
   "metadata": {},
   "outputs": [
    {
     "data": {
      "text/plain": [
       "[]"
      ]
     },
     "execution_count": 112,
     "metadata": {},
     "output_type": "execute_result"
    }
   ],
   "source": [
    "l2.clear()\n",
    "l2"
   ]
  },
  {
   "cell_type": "code",
   "execution_count": 114,
   "id": "2ec3ae0d-f8f6-4c15-ae5a-2b35c0e8c946",
   "metadata": {
    "jp-MarkdownHeadingCollapsed": true
   },
   "outputs": [
    {
     "data": {
      "text/plain": [
       "[]"
      ]
     },
     "execution_count": 114,
     "metadata": {},
     "output_type": "execute_result"
    }
   ],
   "source": [
    "l2"
   ]
  },
  {
   "cell_type": "code",
   "execution_count": 118,
   "id": "7552de9f-2e39-4584-aeb0-f334ce94f672",
   "metadata": {},
   "outputs": [],
   "source": [
    "del l2"
   ]
  },
  {
   "cell_type": "code",
   "execution_count": 120,
   "id": "c4ca75ce-e423-413e-834d-4c0c99dff1a6",
   "metadata": {},
   "outputs": [
    {
     "ename": "NameError",
     "evalue": "name 'l2' is not defined",
     "output_type": "error",
     "traceback": [
      "\u001b[1;31m---------------------------------------------------------------------------\u001b[0m",
      "\u001b[1;31mNameError\u001b[0m                                 Traceback (most recent call last)",
      "Cell \u001b[1;32mIn[120], line 1\u001b[0m\n\u001b[1;32m----> 1\u001b[0m l2\n",
      "\u001b[1;31mNameError\u001b[0m: name 'l2' is not defined"
     ]
    }
   ],
   "source": [
    "l2"
   ]
  },
  {
   "cell_type": "code",
   "execution_count": 126,
   "id": "9da0c4a0-d68a-4dd0-a9df-0a43f7087fe9",
   "metadata": {},
   "outputs": [],
   "source": [
    "l2 = [1, 2.3, True, (1+2j), 'nit', 1, 2.3, True, (1+2j), 'nit']\n"
   ]
  },
  {
   "cell_type": "code",
   "execution_count": 128,
   "id": "990d6d5f-6f7e-4e98-8a1a-a09168d6e76f",
   "metadata": {},
   "outputs": [
    {
     "data": {
      "text/plain": [
       "[1, 2.3, True, (1+2j), 'nit', 1, 2.3, True, (1+2j), 'nit']"
      ]
     },
     "execution_count": 128,
     "metadata": {},
     "output_type": "execute_result"
    }
   ],
   "source": [
    "l2"
   ]
  },
  {
   "cell_type": "code",
   "execution_count": 132,
   "id": "1badfd2f-45a5-4088-becc-3ff244e8badf",
   "metadata": {},
   "outputs": [
    {
     "data": {
      "text/plain": [
       "[1, True, (1+2j), 'nit', 1, True, (1+2j), 'nit']"
      ]
     },
     "execution_count": 132,
     "metadata": {},
     "output_type": "execute_result"
    }
   ],
   "source": [
    "l2.remove(2.3)\n",
    "l2"
   ]
  },
  {
   "cell_type": "code",
   "execution_count": 136,
   "id": "cb518abc-7117-4d8c-bb4b-eb6edbc1d6f3",
   "metadata": {},
   "outputs": [
    {
     "data": {
      "text/plain": [
       "[1, True, (1+2j), 'nit', 1, True, (1+2j), 'nit', 1, 1]"
      ]
     },
     "execution_count": 136,
     "metadata": {},
     "output_type": "execute_result"
    }
   ],
   "source": [
    "l2.append(1)\n",
    "l2"
   ]
  },
  {
   "cell_type": "code",
   "execution_count": 140,
   "id": "4d68f1d1-8b06-4794-bf17-757139555fc2",
   "metadata": {},
   "outputs": [
    {
     "data": {
      "text/plain": [
       "[10]"
      ]
     },
     "execution_count": 140,
     "metadata": {},
     "output_type": "execute_result"
    }
   ],
   "source": [
    "l3 = []\n",
    "l3.append(10)\n",
    "l3"
   ]
  },
  {
   "cell_type": "code",
   "execution_count": 142,
   "id": "58d7ff38-4335-4984-ad61-47ceb401b3df",
   "metadata": {},
   "outputs": [
    {
     "data": {
      "text/plain": [
       "[10, 1, True, (1+2j), 'nit', 1, True, (1+2j), 'nit', 1, 1]"
      ]
     },
     "execution_count": 142,
     "metadata": {},
     "output_type": "execute_result"
    }
   ],
   "source": [
    "l3.extend(l2)\n",
    "l3"
   ]
  },
  {
   "cell_type": "code",
   "execution_count": 144,
   "id": "81b62a19-699c-4e34-aca3-5b2184e43281",
   "metadata": {},
   "outputs": [
    {
     "data": {
      "text/plain": [
       "0"
      ]
     },
     "execution_count": 144,
     "metadata": {},
     "output_type": "execute_result"
    }
   ],
   "source": [
    "l3.index(10)"
   ]
  },
  {
   "cell_type": "code",
   "execution_count": 146,
   "id": "6aaa606a-beb5-478b-9371-8ba737da7d67",
   "metadata": {},
   "outputs": [
    {
     "data": {
      "text/plain": [
       "1"
      ]
     },
     "execution_count": 146,
     "metadata": {},
     "output_type": "execute_result"
    }
   ],
   "source": [
    "l3.index(True)"
   ]
  },
  {
   "cell_type": "code",
   "execution_count": 148,
   "id": "56f18880-ed0d-4cea-9736-205f2e69707c",
   "metadata": {},
   "outputs": [
    {
     "data": {
      "text/plain": [
       "4"
      ]
     },
     "execution_count": 148,
     "metadata": {},
     "output_type": "execute_result"
    }
   ],
   "source": [
    "l3.index('nit')"
   ]
  },
  {
   "cell_type": "code",
   "execution_count": 150,
   "id": "cb486fc0-114e-4554-b12a-97d534530e49",
   "metadata": {},
   "outputs": [
    {
     "data": {
      "text/plain": [
       "3"
      ]
     },
     "execution_count": 150,
     "metadata": {},
     "output_type": "execute_result"
    }
   ],
   "source": [
    "l3.index(1+2j)"
   ]
  },
  {
   "cell_type": "code",
   "execution_count": 152,
   "id": "e1678cc6-5fac-471e-8370-6f237aa65c5a",
   "metadata": {},
   "outputs": [
    {
     "data": {
      "text/plain": [
       "[10, 1, True, (1+2j), 'nit', 1, True, (1+2j), 'nit', 1, 1]"
      ]
     },
     "execution_count": 152,
     "metadata": {},
     "output_type": "execute_result"
    }
   ],
   "source": [
    "l3"
   ]
  },
  {
   "cell_type": "code",
   "execution_count": 154,
   "id": "0440ca04-4294-4eb5-989b-0faeb21efb0e",
   "metadata": {},
   "outputs": [
    {
     "data": {
      "text/plain": [
       "3"
      ]
     },
     "execution_count": 154,
     "metadata": {},
     "output_type": "execute_result"
    }
   ],
   "source": [
    "l2.index('nit')"
   ]
  },
  {
   "cell_type": "code",
   "execution_count": 168,
   "id": "60a480ef-fd6b-4551-b643-4eec4dc11704",
   "metadata": {},
   "outputs": [],
   "source": [
    "l3.insert(3,False)\n",
    "\n"
   ]
  },
  {
   "cell_type": "code",
   "execution_count": 170,
   "id": "56c9d807-3e24-47d8-8597-865a4220df6a",
   "metadata": {},
   "outputs": [
    {
     "name": "stdout",
     "output_type": "stream",
     "text": [
      "[10, 1, True, False, False, False, False, False, False, False, (1+2j), 'nit', 1, True, (1+2j), 'nit', 1, 1]\n"
     ]
    }
   ],
   "source": [
    "print(l3)"
   ]
  },
  {
   "cell_type": "code",
   "execution_count": 172,
   "id": "5c67e481-dc5c-4f27-8185-a76e7d46d777",
   "metadata": {},
   "outputs": [],
   "source": [
    "l3.insert(1,2)"
   ]
  },
  {
   "cell_type": "code",
   "execution_count": 174,
   "id": "6e0e9624-8337-4299-bdb9-f6f3ef29baec",
   "metadata": {},
   "outputs": [
    {
     "name": "stdout",
     "output_type": "stream",
     "text": [
      "[10, 2, 1, True, False, False, False, False, False, False, False, (1+2j), 'nit', 1, True, (1+2j), 'nit', 1, 1]\n"
     ]
    }
   ],
   "source": [
    "print(l3)"
   ]
  },
  {
   "cell_type": "code",
   "execution_count": 178,
   "id": "d5022713-e05d-4ae5-a844-be79e95b24bc",
   "metadata": {},
   "outputs": [],
   "source": [
    "l3.insert(5,'programming')"
   ]
  },
  {
   "cell_type": "code",
   "execution_count": 182,
   "id": "d5bb5b2b-2d20-4f71-ac54-2d13537b2787",
   "metadata": {},
   "outputs": [
    {
     "name": "stdout",
     "output_type": "stream",
     "text": [
      "[10, 2, 1, True, False, 'programming', 'programming', False, False, False, False, False, False, (1+2j), 'nit', 1, True, (1+2j), 'nit', 1, 1]\n"
     ]
    }
   ],
   "source": [
    "print(l3)"
   ]
  },
  {
   "cell_type": "code",
   "execution_count": 190,
   "id": "4b16b2b2-d57d-45a3-8185-b9bf5b97fb83",
   "metadata": {},
   "outputs": [],
   "source": [
    "l3.remove(1)\n",
    "l3.remove('programming')"
   ]
  },
  {
   "cell_type": "code",
   "execution_count": 192,
   "id": "22b46e75-34fa-4a4d-801a-a485ac284c44",
   "metadata": {},
   "outputs": [
    {
     "name": "stdout",
     "output_type": "stream",
     "text": [
      "[10, True, False, False, False, False, False, False, False, (1+2j), 'nit', 1, True, (1+2j), 'nit', 1, 1]\n"
     ]
    }
   ],
   "source": [
    "print(l3)"
   ]
  },
  {
   "cell_type": "code",
   "execution_count": 194,
   "id": "22aa907f-0707-4463-9e69-4122cad6ae84",
   "metadata": {},
   "outputs": [
    {
     "ename": "ValueError",
     "evalue": "list.remove(x): x not in list",
     "output_type": "error",
     "traceback": [
      "\u001b[1;31m---------------------------------------------------------------------------\u001b[0m",
      "\u001b[1;31mValueError\u001b[0m                                Traceback (most recent call last)",
      "Cell \u001b[1;32mIn[194], line 1\u001b[0m\n\u001b[1;32m----> 1\u001b[0m l3\u001b[38;5;241m.\u001b[39mremove(\u001b[38;5;241m2\u001b[39m)\n",
      "\u001b[1;31mValueError\u001b[0m: list.remove(x): x not in list"
     ]
    }
   ],
   "source": [
    "l3.remove(2)"
   ]
  },
  {
   "cell_type": "code",
   "execution_count": 196,
   "id": "42102d82-924a-4562-be07-18e148da8300",
   "metadata": {},
   "outputs": [
    {
     "data": {
      "text/plain": [
       "[10,\n",
       " True,\n",
       " False,\n",
       " False,\n",
       " False,\n",
       " False,\n",
       " False,\n",
       " False,\n",
       " False,\n",
       " (1+2j),\n",
       " 'nit',\n",
       " 1,\n",
       " True,\n",
       " (1+2j),\n",
       " 'nit',\n",
       " 1,\n",
       " 1]"
      ]
     },
     "execution_count": 196,
     "metadata": {},
     "output_type": "execute_result"
    }
   ],
   "source": [
    "l3"
   ]
  },
  {
   "cell_type": "code",
   "execution_count": 198,
   "id": "fffa89c1-5d81-4b10-8694-01a4ffc52b9a",
   "metadata": {},
   "outputs": [
    {
     "name": "stdout",
     "output_type": "stream",
     "text": [
      "[10, True, False, False, False, False, False, False, False, (1+2j), 'nit', 1, True, (1+2j), 'nit', 1, 1]\n"
     ]
    }
   ],
   "source": [
    "print(l3)"
   ]
  },
  {
   "cell_type": "code",
   "execution_count": 200,
   "id": "4f2c528b-367c-45c2-8950-179aecf20f01",
   "metadata": {},
   "outputs": [],
   "source": [
    "l3.remove(False)"
   ]
  },
  {
   "cell_type": "code",
   "execution_count": 202,
   "id": "8758223f-60fa-40b4-8511-4d72eab79a8c",
   "metadata": {},
   "outputs": [
    {
     "data": {
      "text/plain": [
       "[10,\n",
       " True,\n",
       " False,\n",
       " False,\n",
       " False,\n",
       " False,\n",
       " False,\n",
       " False,\n",
       " (1+2j),\n",
       " 'nit',\n",
       " 1,\n",
       " True,\n",
       " (1+2j),\n",
       " 'nit',\n",
       " 1,\n",
       " 1]"
      ]
     },
     "execution_count": 202,
     "metadata": {},
     "output_type": "execute_result"
    }
   ],
   "source": [
    "l3"
   ]
  },
  {
   "cell_type": "code",
   "execution_count": 204,
   "id": "e64a7cf9-f8d0-4059-8e68-caa264df2d1b",
   "metadata": {},
   "outputs": [],
   "source": [
    "l3.remove(False)"
   ]
  },
  {
   "cell_type": "code",
   "execution_count": 206,
   "id": "160c58b5-fba5-4cf5-bae1-4c17d6fb1de4",
   "metadata": {},
   "outputs": [],
   "source": [
    "l3.remove(False)"
   ]
  },
  {
   "cell_type": "code",
   "execution_count": 208,
   "id": "4cd6950a-3ca3-4f8e-8e16-a1d50ce3e8aa",
   "metadata": {},
   "outputs": [],
   "source": [
    "l3.remove(False)"
   ]
  },
  {
   "cell_type": "code",
   "execution_count": 210,
   "id": "6da72671-f31c-43e4-97b6-c89788a591f4",
   "metadata": {},
   "outputs": [],
   "source": [
    "l3.remove(False)"
   ]
  },
  {
   "cell_type": "code",
   "execution_count": 212,
   "id": "1ee8230d-e513-4dd5-9947-46edfeb725be",
   "metadata": {},
   "outputs": [],
   "source": [
    "l3.remove(False)"
   ]
  },
  {
   "cell_type": "code",
   "execution_count": 214,
   "id": "640f300e-c761-445b-a642-7d3043e0b22f",
   "metadata": {},
   "outputs": [],
   "source": [
    "l3.remove(False)"
   ]
  },
  {
   "cell_type": "code",
   "execution_count": 216,
   "id": "acd4576f-559f-481e-bcf6-4f16b445b795",
   "metadata": {},
   "outputs": [
    {
     "data": {
      "text/plain": [
       "[10, True, (1+2j), 'nit', 1, True, (1+2j), 'nit', 1, 1]"
      ]
     },
     "execution_count": 216,
     "metadata": {},
     "output_type": "execute_result"
    }
   ],
   "source": [
    "l3"
   ]
  },
  {
   "cell_type": "code",
   "execution_count": 218,
   "id": "8a98d015-bbde-4ac5-bcde-f0aa3188dbde",
   "metadata": {},
   "outputs": [],
   "source": [
    "l3.insert(3,False)"
   ]
  },
  {
   "cell_type": "code",
   "execution_count": 220,
   "id": "bb8c5789-cd3f-4a7e-ab79-5917863f9bd3",
   "metadata": {},
   "outputs": [
    {
     "name": "stdout",
     "output_type": "stream",
     "text": [
      "[10, True, (1+2j), False, 'nit', 1, True, (1+2j), 'nit', 1, 1]\n"
     ]
    }
   ],
   "source": [
    "print(l3)"
   ]
  },
  {
   "cell_type": "code",
   "execution_count": 222,
   "id": "7a3e1c0b-17be-4325-a815-4b2b4b64b71e",
   "metadata": {},
   "outputs": [],
   "source": [
    "l3.insert(1,2)"
   ]
  },
  {
   "cell_type": "code",
   "execution_count": 224,
   "id": "24cd419e-fe3c-4afa-8519-ebdd03988de1",
   "metadata": {},
   "outputs": [
    {
     "data": {
      "text/plain": [
       "[10, 2, True, (1+2j), False, 'nit', 1, True, (1+2j), 'nit', 1, 1]"
      ]
     },
     "execution_count": 224,
     "metadata": {},
     "output_type": "execute_result"
    }
   ],
   "source": [
    "l3"
   ]
  },
  {
   "cell_type": "code",
   "execution_count": 226,
   "id": "af6e0aca-3d15-4983-b12a-930ffeef54fc",
   "metadata": {},
   "outputs": [],
   "source": [
    "l3.remove(2)"
   ]
  },
  {
   "cell_type": "code",
   "execution_count": 228,
   "id": "78430301-3229-4cfe-9699-3d0e65776cbf",
   "metadata": {},
   "outputs": [
    {
     "data": {
      "text/plain": [
       "[10, True, (1+2j), False, 'nit', 1, True, (1+2j), 'nit', 1, 1]"
      ]
     },
     "execution_count": 228,
     "metadata": {},
     "output_type": "execute_result"
    }
   ],
   "source": [
    "l3"
   ]
  },
  {
   "cell_type": "code",
   "execution_count": 230,
   "id": "69e1ae8a-19e1-4377-b434-36c8f5e55843",
   "metadata": {},
   "outputs": [
    {
     "data": {
      "text/plain": [
       "1"
      ]
     },
     "execution_count": 230,
     "metadata": {},
     "output_type": "execute_result"
    }
   ],
   "source": [
    "l3.pop()"
   ]
  },
  {
   "cell_type": "code",
   "execution_count": 234,
   "id": "93e9de81-eaa6-412b-8703-7780e4ece93e",
   "metadata": {},
   "outputs": [
    {
     "data": {
      "text/plain": [
       "[10, True, (1+2j), False, 'nit', 1, True, (1+2j), 'nit', 'programming']"
      ]
     },
     "execution_count": 234,
     "metadata": {},
     "output_type": "execute_result"
    }
   ],
   "source": [
    "l3.append('programming')\n",
    "l3"
   ]
  },
  {
   "cell_type": "code",
   "execution_count": 236,
   "id": "2610fcbe-98d9-49e8-acab-d2996b8e78ff",
   "metadata": {},
   "outputs": [
    {
     "data": {
      "text/plain": [
       "[10, True, (1+2j), False, 'nit', 'nit', 1, True, (1+2j), 'nit', 'programming']"
      ]
     },
     "execution_count": 236,
     "metadata": {},
     "output_type": "execute_result"
    }
   ],
   "source": [
    "l3.insert(4,'nit')\n",
    "l3"
   ]
  },
  {
   "cell_type": "code",
   "execution_count": 238,
   "id": "c52bdee4-2b21-45c8-b484-c0e914b51423",
   "metadata": {},
   "outputs": [
    {
     "data": {
      "text/plain": [
       "[10, 100, 3, 45, 76, 24]"
      ]
     },
     "execution_count": 238,
     "metadata": {},
     "output_type": "execute_result"
    }
   ],
   "source": [
    "l4 = [10,100,3,45,76,24]\n",
    "l4"
   ]
  },
  {
   "cell_type": "code",
   "execution_count": 240,
   "id": "82754b2f-0044-40e9-b1e2-da433bf26f67",
   "metadata": {},
   "outputs": [],
   "source": [
    "l4.sort()"
   ]
  },
  {
   "cell_type": "code",
   "execution_count": 242,
   "id": "67852bc1-6cd2-4641-ba36-9406a79b3c14",
   "metadata": {},
   "outputs": [
    {
     "data": {
      "text/plain": [
       "[3, 10, 24, 45, 76, 100]"
      ]
     },
     "execution_count": 242,
     "metadata": {},
     "output_type": "execute_result"
    }
   ],
   "source": [
    "l4"
   ]
  },
  {
   "cell_type": "code",
   "execution_count": 244,
   "id": "f849ddbe-2a0e-4817-a44d-9646cb4dc718",
   "metadata": {},
   "outputs": [
    {
     "data": {
      "text/plain": [
       "[10, 30, 2.3, (1+2j), True, 'nit', 10, 20]"
      ]
     },
     "execution_count": 244,
     "metadata": {},
     "output_type": "execute_result"
    }
   ],
   "source": [
    "l4.sort(reverse = True)\n",
    "l"
   ]
  },
  {
   "cell_type": "code",
   "execution_count": 246,
   "id": "f13ed72e-6add-40f5-8149-9656dbcfda7b",
   "metadata": {},
   "outputs": [
    {
     "data": {
      "text/plain": [
       "['z', 'm', 'c', 'w']"
      ]
     },
     "execution_count": 246,
     "metadata": {},
     "output_type": "execute_result"
    }
   ],
   "source": [
    "l5 = ['z','m','c','w']\n",
    "l5"
   ]
  },
  {
   "cell_type": "code",
   "execution_count": 248,
   "id": "235b894e-8705-4264-a907-27c95dd4c9eb",
   "metadata": {},
   "outputs": [
    {
     "data": {
      "text/plain": [
       "['c', 'm', 'w', 'z']"
      ]
     },
     "execution_count": 248,
     "metadata": {},
     "output_type": "execute_result"
    }
   ],
   "source": [
    "l5.sort()\n",
    "l5"
   ]
  },
  {
   "cell_type": "code",
   "execution_count": 250,
   "id": "57bc1a5e-bbdd-41fb-b6e0-4ca0f1f8445d",
   "metadata": {},
   "outputs": [
    {
     "data": {
      "text/plain": [
       "['c', 'm', 'w', 'z']"
      ]
     },
     "execution_count": 250,
     "metadata": {},
     "output_type": "execute_result"
    }
   ],
   "source": [
    "l5"
   ]
  },
  {
   "cell_type": "code",
   "execution_count": 252,
   "id": "5f74dd89-1e85-41fa-8613-05e3b794bdf4",
   "metadata": {},
   "outputs": [
    {
     "data": {
      "text/plain": [
       "['z', 'w', 'm', 'c']"
      ]
     },
     "execution_count": 252,
     "metadata": {},
     "output_type": "execute_result"
    }
   ],
   "source": [
    "l5.sort(reverse = True)\n",
    "l5"
   ]
  },
  {
   "cell_type": "code",
   "execution_count": 254,
   "id": "5d0f8efc-b9bf-4813-a78b-0bff8e28a242",
   "metadata": {},
   "outputs": [
    {
     "data": {
      "text/plain": [
       "['z', 'w', 'm', 'c']"
      ]
     },
     "execution_count": 254,
     "metadata": {},
     "output_type": "execute_result"
    }
   ],
   "source": [
    "l5"
   ]
  },
  {
   "cell_type": "code",
   "execution_count": 256,
   "id": "718cf64e-fd02-4201-b2a1-34743ea3600d",
   "metadata": {},
   "outputs": [
    {
     "data": {
      "text/plain": [
       "[1, 2, 3, 'a', 'z', 'w']"
      ]
     },
     "execution_count": 256,
     "metadata": {},
     "output_type": "execute_result"
    }
   ],
   "source": [
    "l6 = [1,2,3, 'a','z','w']\n",
    "l6"
   ]
  },
  {
   "cell_type": "code",
   "execution_count": 258,
   "id": "04d99f2b-e729-42d7-b51e-a966aaecf533",
   "metadata": {},
   "outputs": [
    {
     "ename": "TypeError",
     "evalue": "'<' not supported between instances of 'str' and 'int'",
     "output_type": "error",
     "traceback": [
      "\u001b[1;31m---------------------------------------------------------------------------\u001b[0m",
      "\u001b[1;31mTypeError\u001b[0m                                 Traceback (most recent call last)",
      "Cell \u001b[1;32mIn[258], line 1\u001b[0m\n\u001b[1;32m----> 1\u001b[0m l6\u001b[38;5;241m.\u001b[39msort()\n\u001b[0;32m      2\u001b[0m l6\n",
      "\u001b[1;31mTypeError\u001b[0m: '<' not supported between instances of 'str' and 'int'"
     ]
    }
   ],
   "source": [
    "l6.sort() #string and integer cannot be sorted\n",
    "l6"
   ]
  },
  {
   "cell_type": "code",
   "execution_count": 260,
   "id": "796014d2-d4c2-438f-9d5a-75de231cda8a",
   "metadata": {},
   "outputs": [
    {
     "data": {
      "text/plain": [
       "['programming', 'nit', (1+2j), True, 1, 'nit', 'nit', False, (1+2j), True, 10]"
      ]
     },
     "execution_count": 260,
     "metadata": {},
     "output_type": "execute_result"
    }
   ],
   "source": [
    "l3.reverse()\n",
    "l3"
   ]
  },
  {
   "cell_type": "code",
   "execution_count": 262,
   "id": "012a4ccb-b640-4c4d-a351-a1fbd2d0f4a7",
   "metadata": {},
   "outputs": [
    {
     "name": "stdout",
     "output_type": "stream",
     "text": [
      "n\n",
      "i\n",
      "t\n"
     ]
    }
   ],
   "source": [
    "print(l3[1][0])\n",
    "print(l3[1][1])\n",
    "print(l3[1][2])"
   ]
  },
  {
   "cell_type": "code",
   "execution_count": 264,
   "id": "8a3cac17-f6f3-4ff5-ace8-f2e3c344ffcf",
   "metadata": {},
   "outputs": [
    {
     "data": {
      "text/plain": [
       "'abc def ghi '"
      ]
     },
     "execution_count": 264,
     "metadata": {},
     "output_type": "execute_result"
    }
   ],
   "source": [
    "txt = \" abc def ghi \"\n",
    "txt.lstrip()"
   ]
  },
  {
   "cell_type": "code",
   "execution_count": 266,
   "id": "01ae6602-ffca-49f4-b4a9-d590e8e46fa8",
   "metadata": {},
   "outputs": [
    {
     "data": {
      "text/plain": [
       "' abc def ghi'"
      ]
     },
     "execution_count": 266,
     "metadata": {},
     "output_type": "execute_result"
    }
   ],
   "source": [
    "txt = \" abc def ghi \"\n",
    "txt.rstrip()"
   ]
  },
  {
   "cell_type": "code",
   "execution_count": 268,
   "id": "1fea00b9-1444-4523-ae2c-83529061753a",
   "metadata": {},
   "outputs": [
    {
     "data": {
      "text/plain": [
       "'abc def ghi'"
      ]
     },
     "execution_count": 268,
     "metadata": {},
     "output_type": "execute_result"
    }
   ],
   "source": [
    "txt = \" abc def ghi \"\n",
    "txt.strip()"
   ]
  },
  {
   "cell_type": "code",
   "execution_count": 270,
   "id": "8f82008c-d735-4975-a6d1-ebc7af2a2a51",
   "metadata": {},
   "outputs": [],
   "source": [
    "# USING ESCAPE CHARACTER"
   ]
  },
  {
   "cell_type": "code",
   "execution_count": 272,
   "id": "51ee9e2c-0dd6-4df4-b31d-e5477043d33b",
   "metadata": {},
   "outputs": [
    {
     "ename": "SyntaxError",
     "evalue": "invalid syntax (3794394894.py, line 1)",
     "output_type": "error",
     "traceback": [
      "\u001b[1;36m  Cell \u001b[1;32mIn[272], line 1\u001b[1;36m\u001b[0m\n\u001b[1;33m    mystr = \"My favourite TV series is \"Game of Thrones\"\"\u001b[0m\n\u001b[1;37m                                        ^\u001b[0m\n\u001b[1;31mSyntaxError\u001b[0m\u001b[1;31m:\u001b[0m invalid syntax\n"
     ]
    }
   ],
   "source": [
    "mystr = \"My favourite TV series is \"Game of Thrones\"\"\n",
    "print(mystr)"
   ]
  },
  {
   "cell_type": "code",
   "execution_count": 274,
   "id": "3f2c0c15-7ec8-4240-add1-d30ccb26561d",
   "metadata": {},
   "outputs": [
    {
     "name": "stdout",
     "output_type": "stream",
     "text": [
      "My favourite TV series is \"Game of Thrones\"\n"
     ]
    }
   ],
   "source": [
    "mystr = \"My favourite TV series is \\\"Game of Thrones\\\"\"\n",
    "print(mystr)"
   ]
  },
  {
   "cell_type": "markdown",
   "id": "1dd42b66-5766-4102-a791-d5e7fe708072",
   "metadata": {},
   "source": [
    "# LIST CREATION"
   ]
  },
  {
   "cell_type": "code",
   "execution_count": 276,
   "id": "f6269b9b-9c7f-456e-9410-aa7580ab8897",
   "metadata": {},
   "outputs": [
    {
     "name": "stdout",
     "output_type": "stream",
     "text": [
      "<class 'list'>\n"
     ]
    }
   ],
   "source": [
    "list1 = []\n",
    "print(type(list1))"
   ]
  },
  {
   "cell_type": "code",
   "execution_count": 278,
   "id": "c8b0c5f6-cc37-4f74-bc90-9dd0b5638d91",
   "metadata": {},
   "outputs": [],
   "source": [
    "list2 = [10,30,60]"
   ]
  },
  {
   "cell_type": "code",
   "execution_count": 280,
   "id": "f930506f-13de-42ae-96d0-16e75c6067f6",
   "metadata": {},
   "outputs": [],
   "source": [
    "list3 = [10.77,30.66,60.89]"
   ]
  },
  {
   "cell_type": "code",
   "execution_count": 282,
   "id": "3f5397e0-9135-4efe-b789-5040f3dbf703",
   "metadata": {},
   "outputs": [],
   "source": [
    "list4 = ['one','two','three']"
   ]
  },
  {
   "cell_type": "code",
   "execution_count": 284,
   "id": "abde40e9-5700-415f-a2f6-4f7398bdafd0",
   "metadata": {},
   "outputs": [],
   "source": [
    "list5 = [100,'Roja',[50,100],[150,60]]"
   ]
  },
  {
   "cell_type": "code",
   "execution_count": 286,
   "id": "09ba4c31-1d6f-4c8c-8fc4-8c9e671ce340",
   "metadata": {},
   "outputs": [],
   "source": [
    "list6 = [100,'Roja',19.53]"
   ]
  },
  {
   "cell_type": "code",
   "execution_count": 288,
   "id": "58a7e9d4-120f-4a80-b6b1-f4bf05d5a783",
   "metadata": {},
   "outputs": [],
   "source": [
    "list7 = ['Roja',34,[50,300],[30,60],{'John','David'}]"
   ]
  },
  {
   "cell_type": "code",
   "execution_count": 290,
   "id": "0b361306-73ab-4509-aaf8-faabae16f380",
   "metadata": {},
   "outputs": [
    {
     "data": {
      "text/plain": [
       "5"
      ]
     },
     "execution_count": 290,
     "metadata": {},
     "output_type": "execute_result"
    }
   ],
   "source": [
    "len(list7)"
   ]
  },
  {
   "cell_type": "markdown",
   "id": "cdc2ccb9-e1d9-40eb-847a-4ce22fe6a43e",
   "metadata": {},
   "source": [
    "# LIST INDEXING"
   ]
  },
  {
   "cell_type": "code",
   "execution_count": 294,
   "id": "e36ccaef-a396-43b4-8c76-0a8a61d8176b",
   "metadata": {},
   "outputs": [
    {
     "data": {
      "text/plain": [
       "'a'"
      ]
     },
     "execution_count": 294,
     "metadata": {},
     "output_type": "execute_result"
    }
   ],
   "source": [
    "list7[0][3]"
   ]
  },
  {
   "cell_type": "code",
   "execution_count": 296,
   "id": "cbc5532c-a083-43e3-a419-bbc79df5536d",
   "metadata": {},
   "outputs": [
    {
     "data": {
      "text/plain": [
       "19.53"
      ]
     },
     "execution_count": 296,
     "metadata": {},
     "output_type": "execute_result"
    }
   ],
   "source": [
    "list6[2]"
   ]
  },
  {
   "cell_type": "code",
   "execution_count": 298,
   "id": "0d49fe3f-0985-474e-97de-1e5df1db7b83",
   "metadata": {},
   "outputs": [
    {
     "data": {
      "text/plain": [
       "19.53"
      ]
     },
     "execution_count": 298,
     "metadata": {},
     "output_type": "execute_result"
    }
   ],
   "source": [
    "list6[-1]"
   ]
  },
  {
   "cell_type": "code",
   "execution_count": 300,
   "id": "dd1001cb-3159-4175-875c-b76b25bb57bf",
   "metadata": {},
   "outputs": [
    {
     "data": {
      "text/plain": [
       "['one', 'two', 'three', 'four', 'five', 'six', 'seven', 'eight']"
      ]
     },
     "execution_count": 300,
     "metadata": {},
     "output_type": "execute_result"
    }
   ],
   "source": [
    "mylist = ['one','two','three','four','five','six','seven','eight']\n",
    "mylist"
   ]
  },
  {
   "cell_type": "code",
   "execution_count": 304,
   "id": "abf65e1e-23c1-47f1-8c0f-4ee0c3ae91b1",
   "metadata": {},
   "outputs": [
    {
     "data": {
      "text/plain": [
       "['one', 'two', 'three', 'four', 'five', 'six', 'seven', 'eight', 'ten']"
      ]
     },
     "execution_count": 304,
     "metadata": {},
     "output_type": "execute_result"
    }
   ],
   "source": [
    "mylist.append('ten')\n",
    "mylist"
   ]
  },
  {
   "cell_type": "code",
   "execution_count": 306,
   "id": "e37c01be-faf0-4b84-8b3d-8eb1e7262ad0",
   "metadata": {},
   "outputs": [
    {
     "data": {
      "text/plain": [
       "['one', 'two', 'three', 'four', 'five', 'six', 'seven', 'eight', 'ten', 'nine']"
      ]
     },
     "execution_count": 306,
     "metadata": {},
     "output_type": "execute_result"
    }
   ],
   "source": [
    "mylist.append('nine')\n",
    "mylist"
   ]
  },
  {
   "cell_type": "code",
   "execution_count": 308,
   "id": "2b3eacfb-9f07-42f8-b202-ce36a5586f90",
   "metadata": {},
   "outputs": [
    {
     "data": {
      "text/plain": [
       "'nine'"
      ]
     },
     "execution_count": 308,
     "metadata": {},
     "output_type": "execute_result"
    }
   ],
   "source": [
    "mylist.pop()"
   ]
  },
  {
   "cell_type": "code",
   "execution_count": 310,
   "id": "d0d0fe0d-f8bb-4e72-910b-748d6ce244b4",
   "metadata": {},
   "outputs": [
    {
     "data": {
      "text/plain": [
       "['one', 'two', 'four', 'five', 'six', 'seven', 'eight', 'ten']"
      ]
     },
     "execution_count": 310,
     "metadata": {},
     "output_type": "execute_result"
    }
   ],
   "source": [
    "mylist.pop(2)\n",
    "mylist"
   ]
  },
  {
   "cell_type": "code",
   "execution_count": 312,
   "id": "d7e4abe9-071a-41ae-9ac2-9ab4b6b7d3cc",
   "metadata": {},
   "outputs": [
    {
     "data": {
      "text/plain": [
       "['one', 'four', 'five', 'six', 'seven', 'eight', 'ten']"
      ]
     },
     "execution_count": 312,
     "metadata": {},
     "output_type": "execute_result"
    }
   ],
   "source": [
    "del mylist[1]\n",
    "mylist"
   ]
  },
  {
   "cell_type": "code",
   "execution_count": 318,
   "id": "ddfdb555-7eb8-48f5-b6c5-9caaaf6dba01",
   "metadata": {},
   "outputs": [
    {
     "data": {
      "text/plain": [
       "[1, 'four', 'five', 'six', 'seven', 'eight', 8]"
      ]
     },
     "execution_count": 318,
     "metadata": {},
     "output_type": "execute_result"
    }
   ],
   "source": [
    "mylist[0] = 1\n",
    "mylist[6] = 8\n",
    "mylist"
   ]
  },
  {
   "cell_type": "code",
   "execution_count": 320,
   "id": "ed48a2b4-fb64-48b2-affb-1b92da578d42",
   "metadata": {},
   "outputs": [
    {
     "data": {
      "text/plain": [
       "[]"
      ]
     },
     "execution_count": 320,
     "metadata": {},
     "output_type": "execute_result"
    }
   ],
   "source": [
    "mylist.clear()\n",
    "mylist"
   ]
  },
  {
   "cell_type": "code",
   "execution_count": 322,
   "id": "5376ba83-b048-4edf-96cd-53bc8dcd669d",
   "metadata": {},
   "outputs": [
    {
     "data": {
      "text/plain": [
       "[1, 4, 'abc', 6, 'xyz', 55.6, 9]"
      ]
     },
     "execution_count": 322,
     "metadata": {},
     "output_type": "execute_result"
    }
   ],
   "source": [
    "myl = [1,4,'abc',6,'xyz',55.6,9]\n",
    "myl"
   ]
  },
  {
   "cell_type": "code",
   "execution_count": 326,
   "id": "896d5324-70c6-47a6-9d38-56338bccc200",
   "metadata": {},
   "outputs": [],
   "source": [
    "mylist2 = myl.copy()"
   ]
  },
  {
   "cell_type": "code",
   "execution_count": 328,
   "id": "f1623f9a-a3a4-45fa-8211-3e1a6f291985",
   "metadata": {},
   "outputs": [
    {
     "data": {
      "text/plain": [
       "[1, 4, 'abc', 6, 'xyz', 55.6, 9]"
      ]
     },
     "execution_count": 328,
     "metadata": {},
     "output_type": "execute_result"
    }
   ],
   "source": [
    "mylist2"
   ]
  },
  {
   "cell_type": "code",
   "execution_count": 330,
   "id": "156f3c42-6561-49a6-b298-0a49dc412546",
   "metadata": {},
   "outputs": [
    {
     "data": {
      "text/plain": [
       "(1857332624448, 1857333031040, 1857333037248)"
      ]
     },
     "execution_count": 330,
     "metadata": {},
     "output_type": "execute_result"
    }
   ],
   "source": [
    "id(mylist),id(myl),id(mylist2)"
   ]
  },
  {
   "cell_type": "code",
   "execution_count": 332,
   "id": "9f9c0c47-8f06-494e-87df-1738a53b99e0",
   "metadata": {},
   "outputs": [
    {
     "data": {
      "text/plain": [
       "[1, 2, 3, 5]"
      ]
     },
     "execution_count": 332,
     "metadata": {},
     "output_type": "execute_result"
    }
   ],
   "source": [
    "m1 = [1,2,3,5]\n",
    "m1"
   ]
  },
  {
   "cell_type": "code",
   "execution_count": 334,
   "id": "8c9dafc5-fbbe-4562-b315-5bac8f4a881e",
   "metadata": {},
   "outputs": [],
   "source": [
    "m2 = []\n",
    "m2 = m1"
   ]
  },
  {
   "cell_type": "code",
   "execution_count": 336,
   "id": "c5d5b17b-f126-405b-8dd0-2b7e767025bb",
   "metadata": {},
   "outputs": [
    {
     "data": {
      "text/plain": [
       "[1, 2, 3, 5]"
      ]
     },
     "execution_count": 336,
     "metadata": {},
     "output_type": "execute_result"
    }
   ],
   "source": [
    "m1"
   ]
  },
  {
   "cell_type": "code",
   "execution_count": 338,
   "id": "41b3f72c-b793-44b4-a2d3-01be8809eed3",
   "metadata": {},
   "outputs": [
    {
     "data": {
      "text/plain": [
       "[1, 2, 3, 5]"
      ]
     },
     "execution_count": 338,
     "metadata": {},
     "output_type": "execute_result"
    }
   ],
   "source": [
    "m2"
   ]
  },
  {
   "cell_type": "code",
   "execution_count": 340,
   "id": "e599e2be-5221-4091-adc5-05495c744502",
   "metadata": {},
   "outputs": [
    {
     "data": {
      "text/plain": [
       "(1857333014400, 1857333014400, 1857332549008)"
      ]
     },
     "execution_count": 340,
     "metadata": {},
     "output_type": "execute_result"
    }
   ],
   "source": [
    "id(m1),id(m2),id(mystr)"
   ]
  },
  {
   "cell_type": "code",
   "execution_count": 342,
   "id": "837fdc6a-d9bc-4ca8-8b9a-539ac83af87b",
   "metadata": {},
   "outputs": [
    {
     "name": "stdout",
     "output_type": "stream",
     "text": [
      "<class 'range'>\n"
     ]
    }
   ],
   "source": [
    "print(type(range(1)))"
   ]
  },
  {
   "cell_type": "code",
   "execution_count": 346,
   "id": "2a70aa36-1736-4ef6-8532-2bfd1b3bb7cf",
   "metadata": {},
   "outputs": [
    {
     "data": {
      "text/plain": [
       "int"
      ]
     },
     "execution_count": 346,
     "metadata": {},
     "output_type": "execute_result"
    }
   ],
   "source": [
    "type(120)"
   ]
  },
  {
   "cell_type": "code",
   "execution_count": null,
   "id": "cf7792b9-c7e6-474f-9d50-7e3f9aee4360",
   "metadata": {},
   "outputs": [],
   "source": []
  }
 ],
 "metadata": {
  "kernelspec": {
   "display_name": "Python 3 (ipykernel)",
   "language": "python",
   "name": "python3"
  },
  "language_info": {
   "codemirror_mode": {
    "name": "ipython",
    "version": 3
   },
   "file_extension": ".py",
   "mimetype": "text/x-python",
   "name": "python",
   "nbconvert_exporter": "python",
   "pygments_lexer": "ipython3",
   "version": "3.12.7"
  }
 },
 "nbformat": 4,
 "nbformat_minor": 5
}
