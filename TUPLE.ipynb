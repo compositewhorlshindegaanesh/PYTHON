{
 "cells": [
  {
   "cell_type": "markdown",
   "id": "77752f77-6051-4018-baf5-17c6333b5251",
   "metadata": {},
   "source": [
    "# TUPLE"
   ]
  },
  {
   "cell_type": "code",
   "execution_count": null,
   "id": "9874bd39-6197-4dae-894a-b06a3b30f752",
   "metadata": {},
   "outputs": [],
   "source": [
    "tup1 = []\n"
   ]
  },
  {
   "cell_type": "code",
   "execution_count": 3,
   "id": "3771e1bd-798e-419b-bb11-b56c1a51666b",
   "metadata": {},
   "outputs": [],
   "source": [
    "tup2 = (10,20,30)"
   ]
  },
  {
   "cell_type": "code",
   "execution_count": 5,
   "id": "915e4db7-f0ef-45c5-84da-8e26dd675da3",
   "metadata": {},
   "outputs": [],
   "source": [
    "tup3 = (10.77,30.66,60.89)"
   ]
  },
  {
   "cell_type": "code",
   "execution_count": 7,
   "id": "cee6f2a9-7e89-46c3-bd58-bfa8ab98d006",
   "metadata": {},
   "outputs": [],
   "source": [
    "tup4 = ('one','two','three')"
   ]
  },
  {
   "cell_type": "code",
   "execution_count": 9,
   "id": "cc3bb837-6bfa-40c8-b6f6-8e85caef286b",
   "metadata": {},
   "outputs": [],
   "source": [
    "tup5 = ('Sun',25,(50,100),(150,90))"
   ]
  },
  {
   "cell_type": "code",
   "execution_count": 11,
   "id": "17fac81b-2f82-4983-809a-9f893afe11d3",
   "metadata": {},
   "outputs": [],
   "source": [
    "tup6 = (100,'Sun',17.765)"
   ]
  },
  {
   "cell_type": "code",
   "execution_count": 13,
   "id": "7a064e6b-b445-42fd-a15f-a62f13d0be01",
   "metadata": {},
   "outputs": [],
   "source": [
    "tup7 = ('Sun',25,[50,100],[150,90],{'John','David'},{99,22,33})"
   ]
  },
  {
   "cell_type": "code",
   "execution_count": 15,
   "id": "4a925d37-50aa-4781-abe0-74f9b9ca29bd",
   "metadata": {},
   "outputs": [
    {
     "data": {
      "text/plain": [
       "6"
      ]
     },
     "execution_count": 15,
     "metadata": {},
     "output_type": "execute_result"
    }
   ],
   "source": [
    "len(tup7)"
   ]
  },
  {
   "cell_type": "markdown",
   "id": "6fa0ae21-3bdd-4dc5-857f-07f69c49b251",
   "metadata": {},
   "source": [
    "# TUPLE INDEXING"
   ]
  },
  {
   "cell_type": "code",
   "execution_count": 18,
   "id": "c6dc8b0e-1968-4779-ae7d-364530361b5c",
   "metadata": {},
   "outputs": [
    {
     "data": {
      "text/plain": [
       "10"
      ]
     },
     "execution_count": 18,
     "metadata": {},
     "output_type": "execute_result"
    }
   ],
   "source": [
    "tup2[0]"
   ]
  },
  {
   "cell_type": "code",
   "execution_count": 20,
   "id": "275bec39-3cda-495d-af2a-d4521bd24cc4",
   "metadata": {},
   "outputs": [
    {
     "data": {
      "text/plain": [
       "'one'"
      ]
     },
     "execution_count": 20,
     "metadata": {},
     "output_type": "execute_result"
    }
   ],
   "source": [
    "tup4[0]"
   ]
  },
  {
   "cell_type": "code",
   "execution_count": 22,
   "id": "5dcf1543-c7c2-497e-a75c-8ae27b988f18",
   "metadata": {},
   "outputs": [
    {
     "data": {
      "text/plain": [
       "'S'"
      ]
     },
     "execution_count": 22,
     "metadata": {},
     "output_type": "execute_result"
    }
   ],
   "source": [
    "tup5[0][0]"
   ]
  },
  {
   "cell_type": "code",
   "execution_count": 24,
   "id": "2bbcd55c-c920-44e2-8299-06a9eae401eb",
   "metadata": {},
   "outputs": [
    {
     "data": {
      "text/plain": [
       "'three'"
      ]
     },
     "execution_count": 24,
     "metadata": {},
     "output_type": "execute_result"
    }
   ],
   "source": [
    "tup4[-1]"
   ]
  },
  {
   "cell_type": "code",
   "execution_count": 26,
   "id": "4c7b1b71-02ab-47ee-a9e7-80c4d05f8109",
   "metadata": {},
   "outputs": [
    {
     "data": {
      "text/plain": [
       "(150, 90)"
      ]
     },
     "execution_count": 26,
     "metadata": {},
     "output_type": "execute_result"
    }
   ],
   "source": [
    "tup5[-1]"
   ]
  },
  {
   "cell_type": "markdown",
   "id": "17a52ebe-2038-41f4-be52-fbeedde3a3cb",
   "metadata": {},
   "source": [
    "# TUPLE SLICING"
   ]
  },
  {
   "cell_type": "code",
   "execution_count": 29,
   "id": "564da4b0-43f3-4d21-8124-76eea3e65c1d",
   "metadata": {},
   "outputs": [],
   "source": [
    "mytuple = ('one','two','three','four','five','six','seven','eight')"
   ]
  },
  {
   "cell_type": "code",
   "execution_count": 31,
   "id": "92ffba5f-e47f-4428-8eca-367b18bb3756",
   "metadata": {},
   "outputs": [
    {
     "data": {
      "text/plain": [
       "('one', 'two', 'three')"
      ]
     },
     "execution_count": 31,
     "metadata": {},
     "output_type": "execute_result"
    }
   ],
   "source": [
    "mytuple[0:3]"
   ]
  },
  {
   "cell_type": "code",
   "execution_count": 33,
   "id": "dd002bcf-bb70-431e-a7e0-131003d1a972",
   "metadata": {},
   "outputs": [
    {
     "data": {
      "text/plain": [
       "('three', 'four', 'five')"
      ]
     },
     "execution_count": 33,
     "metadata": {},
     "output_type": "execute_result"
    }
   ],
   "source": [
    "mytuple[2:5]"
   ]
  },
  {
   "cell_type": "code",
   "execution_count": 35,
   "id": "4bb3a32a-77db-4b45-87da-cff78a46755b",
   "metadata": {},
   "outputs": [
    {
     "data": {
      "text/plain": [
       "('one', 'two', 'three')"
      ]
     },
     "execution_count": 35,
     "metadata": {},
     "output_type": "execute_result"
    }
   ],
   "source": [
    "mytuple[:3]"
   ]
  },
  {
   "cell_type": "code",
   "execution_count": 39,
   "id": "3c075fb5-fb83-4f18-a8d0-9f8fd2856c32",
   "metadata": {},
   "outputs": [
    {
     "data": {
      "text/plain": [
       "('six', 'seven', 'eight')"
      ]
     },
     "execution_count": 39,
     "metadata": {},
     "output_type": "execute_result"
    }
   ],
   "source": [
    "mytuple[-3:]"
   ]
  },
  {
   "cell_type": "code",
   "execution_count": 41,
   "id": "f7b02df6-e1c5-43c8-936e-20c6c7fa8571",
   "metadata": {},
   "outputs": [
    {
     "data": {
      "text/plain": [
       "('one', 'two', 'three', 'four', 'five', 'six', 'seven', 'eight')"
      ]
     },
     "execution_count": 41,
     "metadata": {},
     "output_type": "execute_result"
    }
   ],
   "source": [
    "mytuple[:]"
   ]
  },
  {
   "cell_type": "markdown",
   "id": "e2d63635-bd6f-416f-bc09-d7fcde91a80b",
   "metadata": {},
   "source": [
    "# REMOVE AND CHANGE ITEMS"
   ]
  },
  {
   "cell_type": "code",
   "execution_count": 46,
   "id": "1fc9fca2-5e41-4d52-a94b-e664356d89a1",
   "metadata": {},
   "outputs": [
    {
     "data": {
      "text/plain": [
       "('one', 'two', 'three', 'four', 'five', 'six', 'seven', 'eight')"
      ]
     },
     "execution_count": 46,
     "metadata": {},
     "output_type": "execute_result"
    }
   ],
   "source": [
    "mytuple"
   ]
  },
  {
   "cell_type": "code",
   "execution_count": 48,
   "id": "63bee896-66c7-47e3-b8aa-6351f5c65449",
   "metadata": {},
   "outputs": [
    {
     "ename": "TypeError",
     "evalue": "'tuple' object doesn't support item deletion",
     "output_type": "error",
     "traceback": [
      "\u001b[1;31m---------------------------------------------------------------------------\u001b[0m",
      "\u001b[1;31mTypeError\u001b[0m                                 Traceback (most recent call last)",
      "Cell \u001b[1;32mIn[48], line 1\u001b[0m\n\u001b[1;32m----> 1\u001b[0m \u001b[38;5;28;01mdel\u001b[39;00m mytuple[\u001b[38;5;241m0\u001b[39m]\n",
      "\u001b[1;31mTypeError\u001b[0m: 'tuple' object doesn't support item deletion"
     ]
    }
   ],
   "source": [
    "del mytuple[0]"
   ]
  },
  {
   "cell_type": "code",
   "execution_count": 50,
   "id": "8fb9f642-e4ca-4243-b6a4-f5df68ea1fc5",
   "metadata": {},
   "outputs": [
    {
     "ename": "NameError",
     "evalue": "name 'mytyple' is not defined",
     "output_type": "error",
     "traceback": [
      "\u001b[1;31m---------------------------------------------------------------------------\u001b[0m",
      "\u001b[1;31mNameError\u001b[0m                                 Traceback (most recent call last)",
      "Cell \u001b[1;32mIn[50], line 1\u001b[0m\n\u001b[1;32m----> 1\u001b[0m mytyple[\u001b[38;5;241m0\u001b[39m]\n",
      "\u001b[1;31mNameError\u001b[0m: name 'mytyple' is not defined"
     ]
    }
   ],
   "source": [
    "mytyple[0]"
   ]
  },
  {
   "cell_type": "code",
   "execution_count": 52,
   "id": "74474b8e-04d2-4fec-abb0-407301759001",
   "metadata": {},
   "outputs": [],
   "source": [
    "del mytuple"
   ]
  },
  {
   "cell_type": "code",
   "execution_count": 54,
   "id": "4d62be0e-7da5-423d-b5b7-084fc9036450",
   "metadata": {},
   "outputs": [
    {
     "ename": "NameError",
     "evalue": "name 'mytuple' is not defined",
     "output_type": "error",
     "traceback": [
      "\u001b[1;31m---------------------------------------------------------------------------\u001b[0m",
      "\u001b[1;31mNameError\u001b[0m                                 Traceback (most recent call last)",
      "Cell \u001b[1;32mIn[54], line 1\u001b[0m\n\u001b[1;32m----> 1\u001b[0m mytuple\n",
      "\u001b[1;31mNameError\u001b[0m: name 'mytuple' is not defined"
     ]
    }
   ],
   "source": [
    "mytuple"
   ]
  },
  {
   "cell_type": "code",
   "execution_count": 56,
   "id": "e629abdc-67f4-4342-9017-3b62b3df1127",
   "metadata": {},
   "outputs": [],
   "source": [
    "mytuple = ('one','two','three','four','five','six','seven','eight')"
   ]
  },
  {
   "cell_type": "code",
   "execution_count": 58,
   "id": "1cea60c5-5707-4698-8dd0-555ca9cd8c7e",
   "metadata": {},
   "outputs": [
    {
     "data": {
      "text/plain": [
       "('one', 'two', 'three', 'four', 'five', 'six', 'seven', 'eight')"
      ]
     },
     "execution_count": 58,
     "metadata": {},
     "output_type": "execute_result"
    }
   ],
   "source": [
    "mytuple"
   ]
  },
  {
   "cell_type": "code",
   "execution_count": 62,
   "id": "c1e2080d-e24e-46dd-95fa-0b3587506355",
   "metadata": {},
   "outputs": [
    {
     "name": "stdout",
     "output_type": "stream",
     "text": [
      "one\n",
      "two\n",
      "three\n",
      "four\n",
      "five\n",
      "six\n",
      "seven\n",
      "eight\n"
     ]
    }
   ],
   "source": [
    "for i in mytuple:\n",
    "    print(i)"
   ]
  },
  {
   "cell_type": "code",
   "execution_count": 64,
   "id": "aa2d7ac2-920e-4cb4-a2e1-3c454ca8d515",
   "metadata": {},
   "outputs": [
    {
     "data": {
      "text/plain": [
       "tuple"
      ]
     },
     "execution_count": 64,
     "metadata": {},
     "output_type": "execute_result"
    }
   ],
   "source": [
    "type(mytuple)"
   ]
  },
  {
   "cell_type": "code",
   "execution_count": 66,
   "id": "68f4fdf2-fbb2-439b-8416-3285230f5158",
   "metadata": {},
   "outputs": [
    {
     "name": "stdout",
     "output_type": "stream",
     "text": [
      "(0, 'one')\n",
      "(1, 'two')\n",
      "(2, 'three')\n",
      "(3, 'four')\n",
      "(4, 'five')\n",
      "(5, 'six')\n",
      "(6, 'seven')\n",
      "(7, 'eight')\n"
     ]
    }
   ],
   "source": [
    "for i in enumerate(mytuple):\n",
    "    print(i)"
   ]
  },
  {
   "cell_type": "code",
   "execution_count": 68,
   "id": "fe790961-4166-4efc-b652-6ee8b8b786e2",
   "metadata": {},
   "outputs": [
    {
     "data": {
      "text/plain": [
       "(100, 'Sun', 17.765)"
      ]
     },
     "execution_count": 68,
     "metadata": {},
     "output_type": "execute_result"
    }
   ],
   "source": [
    "tup6"
   ]
  },
  {
   "cell_type": "code",
   "execution_count": 72,
   "id": "1ec4dec4-91b3-407c-aac0-3b55dc219678",
   "metadata": {},
   "outputs": [
    {
     "name": "stdout",
     "output_type": "stream",
     "text": [
      "(0, 100)\n",
      "(1, 'Sun')\n",
      "(2, 17.765)\n"
     ]
    }
   ],
   "source": [
    "for i in enumerate(tup6):\n",
    "    print(i)"
   ]
  },
  {
   "cell_type": "markdown",
   "id": "a8fed638-0b08-4271-8c72-8275f957c807",
   "metadata": {},
   "source": [
    "# TUPLE MEMBERSHIP "
   ]
  },
  {
   "cell_type": "code",
   "execution_count": 77,
   "id": "19d46fbb-5661-4636-b3f1-bfc9be08a540",
   "metadata": {},
   "outputs": [
    {
     "data": {
      "text/plain": [
       "('one', 'two', 'three', 'four', 'five', 'six', 'seven', 'eight')"
      ]
     },
     "execution_count": 77,
     "metadata": {},
     "output_type": "execute_result"
    }
   ],
   "source": [
    "mytuple"
   ]
  },
  {
   "cell_type": "code",
   "execution_count": 79,
   "id": "3535aeb3-9b2b-4881-942f-9ac2708c5ce5",
   "metadata": {},
   "outputs": [
    {
     "data": {
      "text/plain": [
       "True"
      ]
     },
     "execution_count": 79,
     "metadata": {},
     "output_type": "execute_result"
    }
   ],
   "source": [
    "'five' in mytuple"
   ]
  },
  {
   "cell_type": "code",
   "execution_count": 81,
   "id": "76fd9850-b61b-4163-9b80-7b10598f3e87",
   "metadata": {},
   "outputs": [
    {
     "data": {
      "text/plain": [
       "False"
      ]
     },
     "execution_count": 81,
     "metadata": {},
     "output_type": "execute_result"
    }
   ],
   "source": [
    "'ten' in mytuple"
   ]
  },
  {
   "cell_type": "code",
   "execution_count": 83,
   "id": "e1405e04-942f-4891-a4e1-f88afa7dc97c",
   "metadata": {},
   "outputs": [
    {
     "name": "stdout",
     "output_type": "stream",
     "text": [
      "Eight is present in the tuple\n"
     ]
    }
   ],
   "source": [
    "if 'eight' in mytuple:\n",
    "    print(\"Eight is present in the tuple\")\n",
    "else:\n",
    "    print(\"Eight is not present in the tuple\")"
   ]
  },
  {
   "cell_type": "code",
   "execution_count": 85,
   "id": "ee9b8545-49eb-4010-94af-fccdcdc4de34",
   "metadata": {},
   "outputs": [
    {
     "name": "stdout",
     "output_type": "stream",
     "text": [
      "zero is not present in the tuple\n"
     ]
    }
   ],
   "source": [
    "if 'zero' in mytuple:\n",
    "    print(\"zero is present in the tuple\")\n",
    "else:\n",
    "    print(\"zero is not present in the tuple\")"
   ]
  },
  {
   "cell_type": "markdown",
   "id": "91e2348e-14ab-48c7-96bf-49069fd0fc92",
   "metadata": {},
   "source": [
    "# INDEX POSITION"
   ]
  },
  {
   "cell_type": "code",
   "execution_count": 90,
   "id": "f0776b43-3b19-4193-a8f8-43206f169bf9",
   "metadata": {},
   "outputs": [
    {
     "data": {
      "text/plain": [
       "('one', 'two', 'three', 'four', 'five', 'six', 'seven', 'eight')"
      ]
     },
     "execution_count": 90,
     "metadata": {},
     "output_type": "execute_result"
    }
   ],
   "source": [
    "mytuple"
   ]
  },
  {
   "cell_type": "code",
   "execution_count": 92,
   "id": "60671866-b596-4049-a070-9c73d8f97cbd",
   "metadata": {},
   "outputs": [
    {
     "data": {
      "text/plain": [
       "3"
      ]
     },
     "execution_count": 92,
     "metadata": {},
     "output_type": "execute_result"
    }
   ],
   "source": [
    "mytuple.index('four')"
   ]
  },
  {
   "cell_type": "code",
   "execution_count": 94,
   "id": "65f87903-6098-47b9-be6c-790404816ee6",
   "metadata": {},
   "outputs": [
    {
     "ename": "ValueError",
     "evalue": "tuple.index(x): x not in tuple",
     "output_type": "error",
     "traceback": [
      "\u001b[1;31m---------------------------------------------------------------------------\u001b[0m",
      "\u001b[1;31mValueError\u001b[0m                                Traceback (most recent call last)",
      "Cell \u001b[1;32mIn[94], line 1\u001b[0m\n\u001b[1;32m----> 1\u001b[0m mytuple\u001b[38;5;241m.\u001b[39mindex(\u001b[38;5;124m'\u001b[39m\u001b[38;5;124mzero\u001b[39m\u001b[38;5;124m'\u001b[39m)\n",
      "\u001b[1;31mValueError\u001b[0m: tuple.index(x): x not in tuple"
     ]
    }
   ],
   "source": [
    "mytuple.index('zero')"
   ]
  },
  {
   "cell_type": "code",
   "execution_count": 96,
   "id": "8bec734a-4c58-44e9-8f72-1e28efea0564",
   "metadata": {},
   "outputs": [
    {
     "data": {
      "text/plain": [
       "5"
      ]
     },
     "execution_count": 96,
     "metadata": {},
     "output_type": "execute_result"
    }
   ],
   "source": [
    "mytuple.index('six')"
   ]
  },
  {
   "cell_type": "code",
   "execution_count": 98,
   "id": "02648c1c-9d40-429b-8d20-04a8ca23dae7",
   "metadata": {},
   "outputs": [
    {
     "data": {
      "text/plain": [
       "('one', 'two', 'three', 'four', 'five', 'six', 'seven', 'eight')"
      ]
     },
     "execution_count": 98,
     "metadata": {},
     "output_type": "execute_result"
    }
   ],
   "source": [
    "mytuple"
   ]
  },
  {
   "cell_type": "code",
   "execution_count": 100,
   "id": "ff33701e-16f1-4aa1-b55a-004f46971056",
   "metadata": {},
   "outputs": [],
   "source": [
    "mytuple1 = ('one','two','three','four','one','two','three','four')"
   ]
  },
  {
   "cell_type": "code",
   "execution_count": 102,
   "id": "c060063c-fa1b-47e8-b069-cec0c0988fb5",
   "metadata": {},
   "outputs": [
    {
     "data": {
      "text/plain": [
       "3"
      ]
     },
     "execution_count": 102,
     "metadata": {},
     "output_type": "execute_result"
    }
   ],
   "source": [
    "mytuple1.index('four')"
   ]
  },
  {
   "cell_type": "markdown",
   "id": "2a4877d8-33c0-4374-b0ed-17e7a3eda035",
   "metadata": {},
   "source": [
    "# SORTING"
   ]
  },
  {
   "cell_type": "code",
   "execution_count": 105,
   "id": "8d349c0d-9a42-4350-8035-dfd24ee4991d",
   "metadata": {},
   "outputs": [],
   "source": [
    "mytuple2 = (43,67,99,12,6,90,67)"
   ]
  },
  {
   "cell_type": "code",
   "execution_count": 107,
   "id": "93288378-0486-4a0f-b9cb-405f1e183782",
   "metadata": {},
   "outputs": [
    {
     "data": {
      "text/plain": [
       "[6, 12, 43, 67, 67, 90, 99]"
      ]
     },
     "execution_count": 107,
     "metadata": {},
     "output_type": "execute_result"
    }
   ],
   "source": [
    "sorted(mytuple2)"
   ]
  },
  {
   "cell_type": "code",
   "execution_count": 109,
   "id": "010de6ea-aa17-48a7-ba16-50ba17873dd1",
   "metadata": {},
   "outputs": [
    {
     "data": {
      "text/plain": [
       "(43, 67, 99, 12, 6, 90, 67)"
      ]
     },
     "execution_count": 109,
     "metadata": {},
     "output_type": "execute_result"
    }
   ],
   "source": [
    "mytuple2"
   ]
  },
  {
   "cell_type": "code",
   "execution_count": 111,
   "id": "7a4d0f8c-6d42-47c9-99ff-d92980c3d5ca",
   "metadata": {},
   "outputs": [
    {
     "data": {
      "text/plain": [
       "[99, 90, 67, 67, 43, 12, 6]"
      ]
     },
     "execution_count": 111,
     "metadata": {},
     "output_type": "execute_result"
    }
   ],
   "source": [
    "sorted(mytuple2,reverse = True)"
   ]
  },
  {
   "cell_type": "code",
   "execution_count": 113,
   "id": "5dd8130f-606d-4ac1-9e14-e118b7d5f8ed",
   "metadata": {},
   "outputs": [
    {
     "data": {
      "text/plain": [
       "2"
      ]
     },
     "execution_count": 113,
     "metadata": {},
     "output_type": "execute_result"
    }
   ],
   "source": [
    "mytuple2.count(67)"
   ]
  },
  {
   "cell_type": "code",
   "execution_count": 115,
   "id": "542bcca1-a516-45c2-955d-a0a4ee121b45",
   "metadata": {},
   "outputs": [
    {
     "data": {
      "text/plain": [
       "1"
      ]
     },
     "execution_count": 115,
     "metadata": {},
     "output_type": "execute_result"
    }
   ],
   "source": [
    "mytuple2.count(90)"
   ]
  },
  {
   "cell_type": "code",
   "execution_count": null,
   "id": "8313f71e-1df5-4db4-a74b-49b65a957526",
   "metadata": {},
   "outputs": [],
   "source": []
  }
 ],
 "metadata": {
  "kernelspec": {
   "display_name": "Python 3 (ipykernel)",
   "language": "python",
   "name": "python3"
  },
  "language_info": {
   "codemirror_mode": {
    "name": "ipython",
    "version": 3
   },
   "file_extension": ".py",
   "mimetype": "text/x-python",
   "name": "python",
   "nbconvert_exporter": "python",
   "pygments_lexer": "ipython3",
   "version": "3.12.7"
  }
 },
 "nbformat": 4,
 "nbformat_minor": 5
}
